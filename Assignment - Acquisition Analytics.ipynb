{
 "cells": [
  {
   "cell_type": "markdown",
   "metadata": {},
   "source": [
    "## Acquisition Analytics"
   ]
  },
  {
   "cell_type": "markdown",
   "metadata": {},
   "source": [
    "#### Importing all the libraries required"
   ]
  },
  {
   "cell_type": "code",
   "execution_count": 1,
   "metadata": {},
   "outputs": [
    {
     "name": "stderr",
     "output_type": "stream",
     "text": [
      "C:\\Users\\sumasark\\Anaconda3\\lib\\site-packages\\h5py\\__init__.py:36: FutureWarning: Conversion of the second argument of issubdtype from `float` to `np.floating` is deprecated. In future, it will be treated as `np.float64 == np.dtype(float).type`.\n",
      "  from ._conv import register_converters as _register_converters\n",
      "Using TensorFlow backend.\n",
      "C:\\Users\\sumasark\\Anaconda3\\lib\\site-packages\\tensorflow\\python\\framework\\dtypes.py:526: FutureWarning: Passing (type, 1) or '1type' as a synonym of type is deprecated; in a future version of numpy, it will be understood as (type, (1,)) / '(1,)type'.\n",
      "  _np_qint8 = np.dtype([(\"qint8\", np.int8, 1)])\n",
      "C:\\Users\\sumasark\\Anaconda3\\lib\\site-packages\\tensorflow\\python\\framework\\dtypes.py:527: FutureWarning: Passing (type, 1) or '1type' as a synonym of type is deprecated; in a future version of numpy, it will be understood as (type, (1,)) / '(1,)type'.\n",
      "  _np_quint8 = np.dtype([(\"quint8\", np.uint8, 1)])\n",
      "C:\\Users\\sumasark\\Anaconda3\\lib\\site-packages\\tensorflow\\python\\framework\\dtypes.py:528: FutureWarning: Passing (type, 1) or '1type' as a synonym of type is deprecated; in a future version of numpy, it will be understood as (type, (1,)) / '(1,)type'.\n",
      "  _np_qint16 = np.dtype([(\"qint16\", np.int16, 1)])\n",
      "C:\\Users\\sumasark\\Anaconda3\\lib\\site-packages\\tensorflow\\python\\framework\\dtypes.py:529: FutureWarning: Passing (type, 1) or '1type' as a synonym of type is deprecated; in a future version of numpy, it will be understood as (type, (1,)) / '(1,)type'.\n",
      "  _np_quint16 = np.dtype([(\"quint16\", np.uint16, 1)])\n",
      "C:\\Users\\sumasark\\Anaconda3\\lib\\site-packages\\tensorflow\\python\\framework\\dtypes.py:530: FutureWarning: Passing (type, 1) or '1type' as a synonym of type is deprecated; in a future version of numpy, it will be understood as (type, (1,)) / '(1,)type'.\n",
      "  _np_qint32 = np.dtype([(\"qint32\", np.int32, 1)])\n",
      "C:\\Users\\sumasark\\Anaconda3\\lib\\site-packages\\tensorflow\\python\\framework\\dtypes.py:535: FutureWarning: Passing (type, 1) or '1type' as a synonym of type is deprecated; in a future version of numpy, it will be understood as (type, (1,)) / '(1,)type'.\n",
      "  np_resource = np.dtype([(\"resource\", np.ubyte, 1)])\n"
     ]
    }
   ],
   "source": [
    "import os\n",
    "import pandas as pd\n",
    "import numpy as np\n",
    "import matplotlib.pyplot as plt\n",
    "import seaborn as sns\n",
    "import statsmodels.api as sm\n",
    "from sklearn.linear_model import LogisticRegression\n",
    "from sklearn.metrics import accuracy_score,roc_auc_score,f1_score,confusion_matrix,log_loss,precision_score,recall_score\n",
    "from sklearn.model_selection import cross_val_score,StratifiedKFold,GridSearchCV,RandomizedSearchCV\n",
    "from sklearn.model_selection import train_test_split\n",
    "from sklearn.preprocessing import MinMaxScaler,StandardScaler\n",
    "from sklearn.feature_selection import RFE\n",
    "from sklearn.metrics import classification_report\n",
    "import warnings\n",
    "from imblearn.over_sampling import SMOTE\n",
    "from imblearn.under_sampling import NearMiss\n",
    "warnings.filterwarnings('ignore')\n",
    "pd.set_option('display.max_rows', 500)\n",
    "pd.set_option('display.max_columns', 500)\n",
    "pd.set_option('display.width', 1000)\n",
    "%matplotlib inline"
   ]
  },
  {
   "cell_type": "markdown",
   "metadata": {},
   "source": [
    "#### Importing the dataset and doing basic checks on them"
   ]
  },
  {
   "cell_type": "code",
   "execution_count": 2,
   "metadata": {},
   "outputs": [],
   "source": [
    "bank_market = pd.read_csv('bank_marketing.csv',sep=',')"
   ]
  },
  {
   "cell_type": "code",
   "execution_count": 3,
   "metadata": {},
   "outputs": [
    {
     "data": {
      "text/plain": [
       "(41188, 21)"
      ]
     },
     "execution_count": 3,
     "metadata": {},
     "output_type": "execute_result"
    }
   ],
   "source": [
    "bank_market.shape"
   ]
  },
  {
   "cell_type": "code",
   "execution_count": 4,
   "metadata": {},
   "outputs": [
    {
     "name": "stdout",
     "output_type": "stream",
     "text": [
      "<class 'pandas.core.frame.DataFrame'>\n",
      "RangeIndex: 41188 entries, 0 to 41187\n",
      "Data columns (total 21 columns):\n",
      "age               41188 non-null int64\n",
      "job               41188 non-null object\n",
      "marital           41188 non-null object\n",
      "education         41188 non-null object\n",
      "default           41188 non-null object\n",
      "housing           41188 non-null object\n",
      "loan              41188 non-null object\n",
      "contact           41188 non-null object\n",
      "month             41188 non-null object\n",
      "day_of_week       41188 non-null object\n",
      "duration          41188 non-null int64\n",
      "campaign          41188 non-null int64\n",
      "pdays             41188 non-null int64\n",
      "previous          41188 non-null int64\n",
      "poutcome          41188 non-null object\n",
      "emp.var.rate      41188 non-null float64\n",
      "cons.price.idx    41188 non-null float64\n",
      "cons.conf.idx     41188 non-null float64\n",
      "euribor3m         41188 non-null float64\n",
      "nr.employed       41188 non-null float64\n",
      "response          41188 non-null object\n",
      "dtypes: float64(5), int64(5), object(11)\n",
      "memory usage: 6.6+ MB\n"
     ]
    }
   ],
   "source": [
    "bank_market.info()"
   ]
  },
  {
   "cell_type": "code",
   "execution_count": 5,
   "metadata": {},
   "outputs": [
    {
     "data": {
      "text/html": [
       "<div>\n",
       "<style scoped>\n",
       "    .dataframe tbody tr th:only-of-type {\n",
       "        vertical-align: middle;\n",
       "    }\n",
       "\n",
       "    .dataframe tbody tr th {\n",
       "        vertical-align: top;\n",
       "    }\n",
       "\n",
       "    .dataframe thead th {\n",
       "        text-align: right;\n",
       "    }\n",
       "</style>\n",
       "<table border=\"1\" class=\"dataframe\">\n",
       "  <thead>\n",
       "    <tr style=\"text-align: right;\">\n",
       "      <th></th>\n",
       "      <th>age</th>\n",
       "      <th>duration</th>\n",
       "      <th>campaign</th>\n",
       "      <th>pdays</th>\n",
       "      <th>previous</th>\n",
       "      <th>emp.var.rate</th>\n",
       "      <th>cons.price.idx</th>\n",
       "      <th>cons.conf.idx</th>\n",
       "      <th>euribor3m</th>\n",
       "      <th>nr.employed</th>\n",
       "    </tr>\n",
       "  </thead>\n",
       "  <tbody>\n",
       "    <tr>\n",
       "      <th>count</th>\n",
       "      <td>41188.00000</td>\n",
       "      <td>41188.000000</td>\n",
       "      <td>41188.000000</td>\n",
       "      <td>41188.000000</td>\n",
       "      <td>41188.000000</td>\n",
       "      <td>41188.000000</td>\n",
       "      <td>41188.000000</td>\n",
       "      <td>41188.000000</td>\n",
       "      <td>41188.000000</td>\n",
       "      <td>41188.000000</td>\n",
       "    </tr>\n",
       "    <tr>\n",
       "      <th>mean</th>\n",
       "      <td>40.02406</td>\n",
       "      <td>258.285010</td>\n",
       "      <td>2.567593</td>\n",
       "      <td>962.475454</td>\n",
       "      <td>0.172963</td>\n",
       "      <td>0.081886</td>\n",
       "      <td>93.575664</td>\n",
       "      <td>-40.502600</td>\n",
       "      <td>3.621291</td>\n",
       "      <td>5167.035911</td>\n",
       "    </tr>\n",
       "    <tr>\n",
       "      <th>std</th>\n",
       "      <td>10.42125</td>\n",
       "      <td>259.279249</td>\n",
       "      <td>2.770014</td>\n",
       "      <td>186.910907</td>\n",
       "      <td>0.494901</td>\n",
       "      <td>1.570960</td>\n",
       "      <td>0.578840</td>\n",
       "      <td>4.628198</td>\n",
       "      <td>1.734447</td>\n",
       "      <td>72.251528</td>\n",
       "    </tr>\n",
       "    <tr>\n",
       "      <th>min</th>\n",
       "      <td>17.00000</td>\n",
       "      <td>0.000000</td>\n",
       "      <td>1.000000</td>\n",
       "      <td>0.000000</td>\n",
       "      <td>0.000000</td>\n",
       "      <td>-3.400000</td>\n",
       "      <td>92.201000</td>\n",
       "      <td>-50.800000</td>\n",
       "      <td>0.634000</td>\n",
       "      <td>4963.600000</td>\n",
       "    </tr>\n",
       "    <tr>\n",
       "      <th>25%</th>\n",
       "      <td>32.00000</td>\n",
       "      <td>102.000000</td>\n",
       "      <td>1.000000</td>\n",
       "      <td>999.000000</td>\n",
       "      <td>0.000000</td>\n",
       "      <td>-1.800000</td>\n",
       "      <td>93.075000</td>\n",
       "      <td>-42.700000</td>\n",
       "      <td>1.344000</td>\n",
       "      <td>5099.100000</td>\n",
       "    </tr>\n",
       "    <tr>\n",
       "      <th>50%</th>\n",
       "      <td>38.00000</td>\n",
       "      <td>180.000000</td>\n",
       "      <td>2.000000</td>\n",
       "      <td>999.000000</td>\n",
       "      <td>0.000000</td>\n",
       "      <td>1.100000</td>\n",
       "      <td>93.749000</td>\n",
       "      <td>-41.800000</td>\n",
       "      <td>4.857000</td>\n",
       "      <td>5191.000000</td>\n",
       "    </tr>\n",
       "    <tr>\n",
       "      <th>75%</th>\n",
       "      <td>47.00000</td>\n",
       "      <td>319.000000</td>\n",
       "      <td>3.000000</td>\n",
       "      <td>999.000000</td>\n",
       "      <td>0.000000</td>\n",
       "      <td>1.400000</td>\n",
       "      <td>93.994000</td>\n",
       "      <td>-36.400000</td>\n",
       "      <td>4.961000</td>\n",
       "      <td>5228.100000</td>\n",
       "    </tr>\n",
       "    <tr>\n",
       "      <th>99%</th>\n",
       "      <td>71.00000</td>\n",
       "      <td>1271.130000</td>\n",
       "      <td>14.000000</td>\n",
       "      <td>999.000000</td>\n",
       "      <td>2.000000</td>\n",
       "      <td>1.400000</td>\n",
       "      <td>94.465000</td>\n",
       "      <td>-26.900000</td>\n",
       "      <td>4.968000</td>\n",
       "      <td>5228.100000</td>\n",
       "    </tr>\n",
       "    <tr>\n",
       "      <th>max</th>\n",
       "      <td>98.00000</td>\n",
       "      <td>4918.000000</td>\n",
       "      <td>56.000000</td>\n",
       "      <td>999.000000</td>\n",
       "      <td>7.000000</td>\n",
       "      <td>1.400000</td>\n",
       "      <td>94.767000</td>\n",
       "      <td>-26.900000</td>\n",
       "      <td>5.045000</td>\n",
       "      <td>5228.100000</td>\n",
       "    </tr>\n",
       "  </tbody>\n",
       "</table>\n",
       "</div>"
      ],
      "text/plain": [
       "               age      duration      campaign         pdays      previous  emp.var.rate  cons.price.idx  cons.conf.idx     euribor3m   nr.employed\n",
       "count  41188.00000  41188.000000  41188.000000  41188.000000  41188.000000  41188.000000    41188.000000   41188.000000  41188.000000  41188.000000\n",
       "mean      40.02406    258.285010      2.567593    962.475454      0.172963      0.081886       93.575664     -40.502600      3.621291   5167.035911\n",
       "std       10.42125    259.279249      2.770014    186.910907      0.494901      1.570960        0.578840       4.628198      1.734447     72.251528\n",
       "min       17.00000      0.000000      1.000000      0.000000      0.000000     -3.400000       92.201000     -50.800000      0.634000   4963.600000\n",
       "25%       32.00000    102.000000      1.000000    999.000000      0.000000     -1.800000       93.075000     -42.700000      1.344000   5099.100000\n",
       "50%       38.00000    180.000000      2.000000    999.000000      0.000000      1.100000       93.749000     -41.800000      4.857000   5191.000000\n",
       "75%       47.00000    319.000000      3.000000    999.000000      0.000000      1.400000       93.994000     -36.400000      4.961000   5228.100000\n",
       "99%       71.00000   1271.130000     14.000000    999.000000      2.000000      1.400000       94.465000     -26.900000      4.968000   5228.100000\n",
       "max       98.00000   4918.000000     56.000000    999.000000      7.000000      1.400000       94.767000     -26.900000      5.045000   5228.100000"
      ]
     },
     "execution_count": 5,
     "metadata": {},
     "output_type": "execute_result"
    }
   ],
   "source": [
    "bank_market.describe([0.25,0.50,0.75,0.99])"
   ]
  },
  {
   "cell_type": "code",
   "execution_count": 6,
   "metadata": {},
   "outputs": [
    {
     "data": {
      "text/plain": [
       "age               0.0\n",
       "job               0.0\n",
       "marital           0.0\n",
       "education         0.0\n",
       "default           0.0\n",
       "housing           0.0\n",
       "loan              0.0\n",
       "contact           0.0\n",
       "month             0.0\n",
       "day_of_week       0.0\n",
       "duration          0.0\n",
       "campaign          0.0\n",
       "pdays             0.0\n",
       "previous          0.0\n",
       "poutcome          0.0\n",
       "emp.var.rate      0.0\n",
       "cons.price.idx    0.0\n",
       "cons.conf.idx     0.0\n",
       "euribor3m         0.0\n",
       "nr.employed       0.0\n",
       "response          0.0\n",
       "dtype: float64"
      ]
     },
     "execution_count": 6,
     "metadata": {},
     "output_type": "execute_result"
    }
   ],
   "source": [
    "round(bank_market.isnull().sum()/len(bank_market.index),2)"
   ]
  },
  {
   "cell_type": "code",
   "execution_count": 7,
   "metadata": {},
   "outputs": [
    {
     "data": {
      "text/plain": [
       "Index(['age', 'job', 'marital', 'education', 'default', 'housing', 'loan', 'contact', 'month', 'day_of_week', 'duration', 'campaign', 'pdays', 'previous', 'poutcome', 'emp.var.rate', 'cons.price.idx', 'cons.conf.idx', 'euribor3m', 'nr.employed', 'response'], dtype='object')"
      ]
     },
     "execution_count": 7,
     "metadata": {},
     "output_type": "execute_result"
    }
   ],
   "source": [
    "bank_market.columns"
   ]
  },
  {
   "cell_type": "markdown",
   "metadata": {},
   "source": [
    "#### Label encoding manually for performing operations on the response variable"
   ]
  },
  {
   "cell_type": "code",
   "execution_count": 8,
   "metadata": {},
   "outputs": [],
   "source": [
    "bank_market['response'] = bank_market['response'].map({'no':0,'yes':1})"
   ]
  },
  {
   "cell_type": "markdown",
   "metadata": {},
   "source": [
    "#### Checking for class imbalence"
   ]
  },
  {
   "cell_type": "code",
   "execution_count": 9,
   "metadata": {},
   "outputs": [
    {
     "data": {
      "text/plain": [
       "0    88.73\n",
       "1    11.27\n",
       "Name: response, dtype: float64"
      ]
     },
     "execution_count": 9,
     "metadata": {},
     "output_type": "execute_result"
    }
   ],
   "source": [
    "round(bank_market['response'].value_counts()/len(bank_market),4)*100"
   ]
  },
  {
   "cell_type": "markdown",
   "metadata": {},
   "source": [
    "#### Its recomended to create a copy of actual dataset"
   ]
  },
  {
   "cell_type": "code",
   "execution_count": 10,
   "metadata": {},
   "outputs": [],
   "source": [
    "bank_market_cpy = bank_market"
   ]
  },
  {
   "cell_type": "markdown",
   "metadata": {},
   "source": [
    "#### We can see using boxplot there are outliers in the age column so we are going to cap the data till 99 percentile"
   ]
  },
  {
   "cell_type": "code",
   "execution_count": 11,
   "metadata": {},
   "outputs": [
    {
     "data": {
      "image/png": "[encoded data removed]",
      "text/plain": [
       "<Figure size 432x288 with 1 Axes>"
      ]
     },
     "metadata": {},
     "output_type": "display_data"
    }
   ],
   "source": [
    "sns.boxplot(y = bank_market.age,color='yellow')\n",
    "plt.show()"
   ]
  },
  {
   "cell_type": "code",
   "execution_count": 12,
   "metadata": {},
   "outputs": [],
   "source": [
    "bank_market.age[bank_market.age>71]=71"
   ]
  },
  {
   "cell_type": "code",
   "execution_count": 13,
   "metadata": {},
   "outputs": [
    {
     "data": {
      "text/plain": [
       "<matplotlib.axes._subplots.AxesSubplot at 0x14268367748>"
      ]
     },
     "execution_count": 13,
     "metadata": {},
     "output_type": "execute_result"
    },
    {
     "data": {
      "image/png": "[encoded data removed]",
      "text/plain": [
       "<Figure size 432x288 with 1 Axes>"
      ]
     },
     "metadata": {},
     "output_type": "display_data"
    }
   ],
   "source": [
    "sns.boxplot(y = bank_market.age,color='yellow')"
   ]
  },
  {
   "cell_type": "markdown",
   "metadata": {},
   "source": [
    "#### For analysis purpose lets create bins out of age columns"
   ]
  },
  {
   "cell_type": "code",
   "execution_count": 14,
   "metadata": {},
   "outputs": [],
   "source": [
    "bins = np.arange(10,bank_market.age.max()+10,10)\n",
    "bank_market['age_bins'] = pd.cut(bank_market.age,bins,include_lowest=True)"
   ]
  },
  {
   "cell_type": "markdown",
   "metadata": {},
   "source": [
    "#### Creating a function which will increase code reusability"
   ]
  },
  {
   "cell_type": "code",
   "execution_count": 15,
   "metadata": {},
   "outputs": [],
   "source": [
    "# Function to understand the relationship of independent variable with response variable\n",
    "def analize(independent,response):\n",
    "    No_of_prospect =bank_market.groupby(bank_market[independent])[response].count().reset_index(name='No.of_prospect')\n",
    "    count_prospects=bank_market[bank_market[response]==1].groupby(bank_market[bank_market[response]==1][independent])[response].count().reset_index(name='count_prospects')\n",
    "    agg_age = No_of_prospect.merge(count_prospects,on=independent)\n",
    "    agg_age['response_rate'] = 100*(agg_age['count_prospects']/agg_age['No.of_prospect']).round(3)\n",
    "    print('\\033[1m'+'Analysis in table format'+'\\033[1m')\n",
    "    print(pd.DataFrame(agg_age))\n",
    "    plt.title('Analysis of {0}'.format(independent))\n",
    "    ax = sns.barplot(x=agg_age[independent], y='response_rate', data=agg_age)\n",
    "    ax.set_xticklabels(ax.get_xticklabels(),rotation=90)\n",
    "    plt.show()"
   ]
  },
  {
   "cell_type": "markdown",
   "metadata": {},
   "source": [
    "### Analysis on age"
   ]
  },
  {
   "cell_type": "code",
   "execution_count": 16,
   "metadata": {},
   "outputs": [
    {
     "name": "stdout",
     "output_type": "stream",
     "text": [
      "\u001b[1mAnalysis in table format\u001b[1m\n",
      "        age_bins  No.of_prospect  count_prospects  response_rate\n",
      "0  (9.999, 20.0]             140               57           40.7\n",
      "1   (20.0, 30.0]            7243             1067           14.7\n",
      "2   (30.0, 40.0]           16385             1597            9.7\n",
      "3   (40.0, 50.0]           10240              837            8.2\n",
      "4   (50.0, 60.0]            6270              668           10.7\n",
      "5   (60.0, 70.0]             488              212           43.4\n",
      "6   (70.0, 80.0]             422              202           47.9\n"
     ]
    },
    {
     "data": {
      "image/png": "[encoded data removed]",
      "text/plain": [
       "<Figure size 432x288 with 1 Axes>"
      ]
     },
     "metadata": {},
     "output_type": "display_data"
    }
   ],
   "source": [
    "analize('age_bins','response')"
   ]
  },
  {
   "cell_type": "markdown",
   "metadata": {},
   "source": [
    "#### The investment products are bought by young(by there father) and old after the retirement"
   ]
  },
  {
   "cell_type": "markdown",
   "metadata": {},
   "source": [
    "### Analysis on Job"
   ]
  },
  {
   "cell_type": "code",
   "execution_count": 17,
   "metadata": {},
   "outputs": [
    {
     "name": "stdout",
     "output_type": "stream",
     "text": [
      "\u001b[1mAnalysis in table format\u001b[1m\n",
      "              job  No.of_prospect  count_prospects  response_rate\n",
      "0          admin.           10422             1352           13.0\n",
      "1     blue-collar            9254              638            6.9\n",
      "2    entrepreneur            1456              124            8.5\n",
      "3       housemaid            1060              106           10.0\n",
      "4      management            2924              328           11.2\n",
      "5         retired            1720              434           25.2\n",
      "6   self-employed            1421              149           10.5\n",
      "7        services            3969              323            8.1\n",
      "8         student             875              275           31.4\n",
      "9      technician            6743              730           10.8\n",
      "10     unemployed            1014              144           14.2\n",
      "11        unknown             330               37           11.2\n"
     ]
    },
    {
     "data": {
      "image/png": "[encoded data removed]",
      "text/plain": [
       "<Figure size 432x288 with 1 Axes>"
      ]
     },
     "metadata": {},
     "output_type": "display_data"
    }
   ],
   "source": [
    "analize('job','response')\n",
    "# bank_market"
   ]
  },
  {
   "cell_type": "markdown",
   "metadata": {},
   "source": [
    "#### Here we can see the similar trend as previous graph the young student and the old retired persons have the highest response rates."
   ]
  },
  {
   "cell_type": "markdown",
   "metadata": {},
   "source": [
    "### Analysis on marital status"
   ]
  },
  {
   "cell_type": "code",
   "execution_count": 18,
   "metadata": {},
   "outputs": [
    {
     "name": "stdout",
     "output_type": "stream",
     "text": [
      "married     24928\n",
      "single      11568\n",
      "divorced     4612\n",
      "unknown        80\n",
      "Name: marital, dtype: int64\n"
     ]
    }
   ],
   "source": [
    "#### We will replace the unknown with the group having high frequency\n",
    "print(bank_market.marital.value_counts())\n",
    "bank_market.replace({'marital':{'unknown':'married'}},inplace=True)"
   ]
  },
  {
   "cell_type": "code",
   "execution_count": 19,
   "metadata": {},
   "outputs": [
    {
     "name": "stdout",
     "output_type": "stream",
     "text": [
      "\u001b[1mAnalysis in table format\u001b[1m\n",
      "    marital  No.of_prospect  count_prospects  response_rate\n",
      "0  divorced            4612              476           10.3\n",
      "1   married           25008             2544           10.2\n",
      "2    single           11568             1620           14.0\n"
     ]
    },
    {
     "data": {
      "image/png": "[encoded data removed]",
      "text/plain": [
       "<Figure size 432x288 with 1 Axes>"
      ]
     },
     "metadata": {},
     "output_type": "display_data"
    }
   ],
   "source": [
    "analize('marital','response')"
   ]
  },
  {
   "cell_type": "markdown",
   "metadata": {},
   "source": [
    "#### Here we can see the unmarried person with age < 20 has a high response rate "
   ]
  },
  {
   "cell_type": "markdown",
   "metadata": {},
   "source": [
    "### Analysis on Education"
   ]
  },
  {
   "cell_type": "code",
   "execution_count": 20,
   "metadata": {},
   "outputs": [
    {
     "data": {
      "text/plain": [
       "university.degree      12168\n",
       "high.school             9515\n",
       "basic.9y                6045\n",
       "professional.course     5243\n",
       "basic.4y                4176\n",
       "basic.6y                2292\n",
       "unknown                 1731\n",
       "illiterate                18\n",
       "Name: education, dtype: int64"
      ]
     },
     "execution_count": 20,
     "metadata": {},
     "output_type": "execute_result"
    }
   ],
   "source": [
    "bank_market.education.value_counts()"
   ]
  },
  {
   "cell_type": "markdown",
   "metadata": {},
   "source": [
    "#### To simplify the problem, we are going to convert the educational qualifications to simple buckets of primary educations, secondary education, tertiary education and professional courses. Also note that there are 18 entries listing the educational status as illiterate. Since the closest group to them is primary education, we are going to assign all entries with educational status as illiterate to primary education."
   ]
  },
  {
   "cell_type": "code",
   "execution_count": 21,
   "metadata": {},
   "outputs": [],
   "source": [
    "bank_market.replace({'education' : { 'basic.9y' : 'Primary_Education', 'basic.4y' : 'Primary_Education','basic.6y' : 'Primary_Education','illiterate' : 'Primary_Education',\n",
    "                             'high.school' : 'Secondary_Education', 'university.degree' : 'Tertiary_Education' }}, inplace=True)"
   ]
  },
  {
   "cell_type": "code",
   "execution_count": 22,
   "metadata": {},
   "outputs": [
    {
     "name": "stdout",
     "output_type": "stream",
     "text": [
      "\u001b[1mAnalysis in table format\u001b[1m\n",
      "             education  No.of_prospect  count_prospects  response_rate\n",
      "0    Primary_Education           12531             1093            8.7\n",
      "1  Secondary_Education            9515             1031           10.8\n",
      "2   Tertiary_Education           12168             1670           13.7\n",
      "3  professional.course            5243              595           11.3\n",
      "4              unknown            1731              251           14.5\n"
     ]
    },
    {
     "data": {
      "image/png": "[encoded data removed]",
      "text/plain": [
       "<Figure size 432x288 with 1 Axes>"
      ]
     },
     "metadata": {},
     "output_type": "display_data"
    }
   ],
   "source": [
    "analize('education','response')"
   ]
  },
  {
   "cell_type": "markdown",
   "metadata": {},
   "source": [
    "#### You can note that the response rate is lowest for people with highest education qualification as primary education, which may be attributed, in part, to lack of awareness and a lack of trust between the bank and the customer. It is the highest for people with tertiary education"
   ]
  },
  {
   "cell_type": "markdown",
   "metadata": {},
   "source": [
    "### Previous default analysis "
   ]
  },
  {
   "cell_type": "code",
   "execution_count": 23,
   "metadata": {},
   "outputs": [
    {
     "data": {
      "text/plain": [
       "no         32588\n",
       "unknown     8597\n",
       "yes            3\n",
       "Name: default, dtype: int64"
      ]
     },
     "execution_count": 23,
     "metadata": {},
     "output_type": "execute_result"
    }
   ],
   "source": [
    "bank_market.default.value_counts()"
   ]
  },
  {
   "cell_type": "code",
   "execution_count": 24,
   "metadata": {},
   "outputs": [
    {
     "name": "stdout",
     "output_type": "stream",
     "text": [
      "\u001b[1mAnalysis in table format\u001b[1m\n",
      "   default  No.of_prospect  count_prospects  response_rate\n",
      "0       no           32588             4197           12.9\n",
      "1  unknown            8597              443            5.2\n"
     ]
    },
    {
     "data": {
      "image/png": "[encoded data removed]",
      "text/plain": [
       "<Figure size 432x288 with 1 Axes>"
      ]
     },
     "metadata": {},
     "output_type": "display_data"
    }
   ],
   "source": [
    "analize('default','response')"
   ]
  },
  {
   "cell_type": "markdown",
   "metadata": {},
   "source": [
    "#### We can see there is no response for the defaulted customers"
   ]
  },
  {
   "cell_type": "markdown",
   "metadata": {},
   "source": [
    "### Analysis on housing"
   ]
  },
  {
   "cell_type": "code",
   "execution_count": 25,
   "metadata": {},
   "outputs": [
    {
     "data": {
      "text/plain": [
       "yes        21576\n",
       "no         18622\n",
       "unknown      990\n",
       "Name: housing, dtype: int64"
      ]
     },
     "execution_count": 25,
     "metadata": {},
     "output_type": "execute_result"
    }
   ],
   "source": [
    "bank_market.housing.value_counts()"
   ]
  },
  {
   "cell_type": "code",
   "execution_count": 26,
   "metadata": {},
   "outputs": [
    {
     "name": "stdout",
     "output_type": "stream",
     "text": [
      "\u001b[1mAnalysis in table format\u001b[1m\n",
      "   housing  No.of_prospect  count_prospects  response_rate\n",
      "0       no           18622             2026           10.9\n",
      "1  unknown             990              107           10.8\n",
      "2      yes           21576             2507           11.6\n"
     ]
    },
    {
     "data": {
      "image/png": "[encoded data removed]",
      "text/plain": [
       "<Figure size 432x288 with 1 Axes>"
      ]
     },
     "metadata": {},
     "output_type": "display_data"
    }
   ],
   "source": [
    "analize('housing','response')"
   ]
  },
  {
   "cell_type": "markdown",
   "metadata": {},
   "source": [
    "### Analysis on loan"
   ]
  },
  {
   "cell_type": "code",
   "execution_count": 27,
   "metadata": {},
   "outputs": [
    {
     "data": {
      "text/plain": [
       "no         33950\n",
       "yes         6248\n",
       "unknown      990\n",
       "Name: loan, dtype: int64"
      ]
     },
     "execution_count": 27,
     "metadata": {},
     "output_type": "execute_result"
    }
   ],
   "source": [
    "bank_market.loan.value_counts()"
   ]
  },
  {
   "cell_type": "code",
   "execution_count": 28,
   "metadata": {},
   "outputs": [
    {
     "name": "stdout",
     "output_type": "stream",
     "text": [
      "\u001b[1mAnalysis in table format\u001b[1m\n",
      "      loan  No.of_prospect  count_prospects  response_rate\n",
      "0       no           33950             3850           11.3\n",
      "1  unknown             990              107           10.8\n",
      "2      yes            6248              683           10.9\n"
     ]
    },
    {
     "data": {
      "image/png": "[encoded data removed]",
      "text/plain": [
       "<Figure size 432x288 with 1 Axes>"
      ]
     },
     "metadata": {},
     "output_type": "display_data"
    }
   ],
   "source": [
    "analize('loan','response')"
   ]
  },
  {
   "cell_type": "markdown",
   "metadata": {},
   "source": [
    "#### As you can see there seems to be very little correlation between a prospect having a personal loan and the likelihood of him/her responding positively to the investment product"
   ]
  },
  {
   "cell_type": "code",
   "execution_count": 29,
   "metadata": {},
   "outputs": [
    {
     "data": {
      "text/plain": [
       "cellular     26144\n",
       "telephone    15044\n",
       "Name: contact, dtype: int64"
      ]
     },
     "execution_count": 29,
     "metadata": {},
     "output_type": "execute_result"
    }
   ],
   "source": [
    "bank_market.contact.value_counts()"
   ]
  },
  {
   "cell_type": "code",
   "execution_count": 30,
   "metadata": {},
   "outputs": [
    {
     "name": "stdout",
     "output_type": "stream",
     "text": [
      "\u001b[1mAnalysis in table format\u001b[1m\n",
      "     contact  No.of_prospect  count_prospects  response_rate\n",
      "0   cellular           26144             3853           14.7\n",
      "1  telephone           15044              787            5.2\n"
     ]
    },
    {
     "data": {
      "image/png": "[encoded data removed]",
      "text/plain": [
       "<Figure size 432x288 with 1 Axes>"
      ]
     },
     "metadata": {},
     "output_type": "display_data"
    }
   ],
   "source": [
    "analize('contact','response')"
   ]
  },
  {
   "cell_type": "markdown",
   "metadata": {},
   "source": [
    "#### You can see that the prospective customers contacted through cellular medium are significantly ore likely to opt in to the investment scheme compared to customers contacted through telephonic medium."
   ]
  },
  {
   "cell_type": "markdown",
   "metadata": {},
   "source": [
    "### Analysis on month"
   ]
  },
  {
   "cell_type": "code",
   "execution_count": 31,
   "metadata": {},
   "outputs": [
    {
     "data": {
      "text/plain": [
       "may    13769\n",
       "jul     7174\n",
       "aug     6178\n",
       "jun     5318\n",
       "nov     4101\n",
       "apr     2632\n",
       "oct      718\n",
       "sep      570\n",
       "mar      546\n",
       "dec      182\n",
       "Name: month, dtype: int64"
      ]
     },
     "execution_count": 31,
     "metadata": {},
     "output_type": "execute_result"
    }
   ],
   "source": [
    "bank_market.month.value_counts()"
   ]
  },
  {
   "cell_type": "code",
   "execution_count": 32,
   "metadata": {},
   "outputs": [
    {
     "name": "stdout",
     "output_type": "stream",
     "text": [
      "\u001b[1mAnalysis in table format\u001b[1m\n",
      "  month  No.of_prospect  count_prospects  response_rate\n",
      "0   apr            2632              539           20.5\n",
      "1   aug            6178              655           10.6\n",
      "2   dec             182               89           48.9\n",
      "3   jul            7174              649            9.0\n",
      "4   jun            5318              559           10.5\n",
      "5   mar             546              276           50.5\n",
      "6   may           13769              886            6.4\n",
      "7   nov            4101              416           10.1\n",
      "8   oct             718              315           43.9\n",
      "9   sep             570              256           44.9\n"
     ]
    },
    {
     "data": {
      "image/png": "[encoded data removed]",
      "text/plain": [
       "<Figure size 432x288 with 1 Axes>"
      ]
     },
     "metadata": {},
     "output_type": "display_data"
    }
   ],
   "source": [
    "analize('month','response')"
   ]
  },
  {
   "cell_type": "markdown",
   "metadata": {},
   "source": [
    "#### Here we can see that the response rate is very high for december,march,october and september"
   ]
  },
  {
   "cell_type": "code",
   "execution_count": 33,
   "metadata": {},
   "outputs": [
    {
     "data": {
      "text/plain": [
       "thu    8623\n",
       "mon    8514\n",
       "wed    8134\n",
       "tue    8090\n",
       "fri    7827\n",
       "Name: day_of_week, dtype: int64"
      ]
     },
     "execution_count": 33,
     "metadata": {},
     "output_type": "execute_result"
    }
   ],
   "source": [
    "bank_market.day_of_week.value_counts()"
   ]
  },
  {
   "cell_type": "code",
   "execution_count": 34,
   "metadata": {},
   "outputs": [
    {
     "name": "stdout",
     "output_type": "stream",
     "text": [
      "\u001b[1mAnalysis in table format\u001b[1m\n",
      "  day_of_week  No.of_prospect  count_prospects  response_rate\n",
      "0         fri            7827              846           10.8\n",
      "1         mon            8514              847            9.9\n",
      "2         thu            8623             1045           12.1\n",
      "3         tue            8090              953           11.8\n",
      "4         wed            8134              949           11.7\n"
     ]
    },
    {
     "data": {
      "image/png": "[encoded data removed]",
      "text/plain": [
       "<Figure size 432x288 with 1 Axes>"
      ]
     },
     "metadata": {},
     "output_type": "display_data"
    }
   ],
   "source": [
    "analize('day_of_week','response')"
   ]
  },
  {
   "cell_type": "markdown",
   "metadata": {},
   "source": [
    "#### This variable is not explaining that much as we can see the values are vary close"
   ]
  },
  {
   "cell_type": "code",
   "execution_count": 35,
   "metadata": {},
   "outputs": [
    {
     "data": {
      "text/plain": [
       "1     17642\n",
       "2     10570\n",
       "3      5341\n",
       "4      2651\n",
       "5      1599\n",
       "6       979\n",
       "7       629\n",
       "8       400\n",
       "9       283\n",
       "10      225\n",
       "11      177\n",
       "12      125\n",
       "13       92\n",
       "14       69\n",
       "17       58\n",
       "15       51\n",
       "16       51\n",
       "18       33\n",
       "20       30\n",
       "19       26\n",
       "21       24\n",
       "22       17\n",
       "23       16\n",
       "24       15\n",
       "27       11\n",
       "29       10\n",
       "25        8\n",
       "26        8\n",
       "28        8\n",
       "30        7\n",
       "31        7\n",
       "35        5\n",
       "33        4\n",
       "32        4\n",
       "34        3\n",
       "40        2\n",
       "42        2\n",
       "43        2\n",
       "37        1\n",
       "39        1\n",
       "41        1\n",
       "56        1\n",
       "Name: campaign, dtype: int64"
      ]
     },
     "execution_count": 35,
     "metadata": {},
     "output_type": "execute_result"
    }
   ],
   "source": [
    "bank_market.campaign.value_counts()"
   ]
  },
  {
   "cell_type": "code",
   "execution_count": 36,
   "metadata": {},
   "outputs": [
    {
     "data": {
      "image/png": "[encoded data removed]",
      "text/plain": [
       "<Figure size 432x288 with 1 Axes>"
      ]
     },
     "metadata": {},
     "output_type": "display_data"
    }
   ],
   "source": [
    "# Lets see the distribution\n",
    "sns.distplot(bank_market.campaign)\n",
    "plt.show()"
   ]
  },
  {
   "cell_type": "code",
   "execution_count": 37,
   "metadata": {},
   "outputs": [
    {
     "data": {
      "text/plain": [
       "<matplotlib.axes._subplots.AxesSubplot at 0x1426bfc4a58>"
      ]
     },
     "execution_count": 37,
     "metadata": {},
     "output_type": "execute_result"
    },
    {
     "data": {
      "image/png": "[encoded data removed]",
      "text/plain": [
       "<Figure size 432x288 with 1 Axes>"
      ]
     },
     "metadata": {},
     "output_type": "display_data"
    }
   ],
   "source": [
    "sns.boxplot(x = bank_market.campaign)"
   ]
  },
  {
   "cell_type": "code",
   "execution_count": 38,
   "metadata": {},
   "outputs": [
    {
     "data": {
      "text/plain": [
       "count    41188.000000\n",
       "mean         2.567593\n",
       "std          2.770014\n",
       "min          1.000000\n",
       "25%          1.000000\n",
       "50%          2.000000\n",
       "75%          3.000000\n",
       "99%         14.000000\n",
       "max         56.000000\n",
       "Name: campaign, dtype: float64"
      ]
     },
     "execution_count": 38,
     "metadata": {},
     "output_type": "execute_result"
    }
   ],
   "source": [
    "bank_market.campaign.describe([0.25,0.50,0.75,0.99])"
   ]
  },
  {
   "cell_type": "markdown",
   "metadata": {},
   "source": [
    "#### We can see there is a huge difference between 99th percentile and the max value lets make 14 as our higher limit for all the data"
   ]
  },
  {
   "cell_type": "markdown",
   "metadata": {},
   "source": [
    "### Analysis on campaign"
   ]
  },
  {
   "cell_type": "code",
   "execution_count": 39,
   "metadata": {},
   "outputs": [],
   "source": [
    "bank_market['campaign'][bank_market['campaign']>14] = 14"
   ]
  },
  {
   "cell_type": "code",
   "execution_count": 40,
   "metadata": {},
   "outputs": [
    {
     "data": {
      "text/plain": [
       "1     17642\n",
       "2     10570\n",
       "3      5341\n",
       "4      2651\n",
       "5      1599\n",
       "6       979\n",
       "7       629\n",
       "14      475\n",
       "8       400\n",
       "9       283\n",
       "10      225\n",
       "11      177\n",
       "12      125\n",
       "13       92\n",
       "Name: campaign, dtype: int64"
      ]
     },
     "execution_count": 40,
     "metadata": {},
     "output_type": "execute_result"
    }
   ],
   "source": [
    "bank_market.campaign.value_counts()"
   ]
  },
  {
   "cell_type": "code",
   "execution_count": 41,
   "metadata": {},
   "outputs": [
    {
     "name": "stdout",
     "output_type": "stream",
     "text": [
      "\u001b[1mAnalysis in table format\u001b[1m\n",
      "    campaign  No.of_prospect  count_prospects  response_rate\n",
      "0          1           17642             2300           13.0\n",
      "1          2           10570             1211           11.5\n",
      "2          3            5341              574           10.7\n",
      "3          4            2651              249            9.4\n",
      "4          5            1599              120            7.5\n",
      "5          6             979               75            7.7\n",
      "6          7             629               38            6.0\n",
      "7          8             400               17            4.2\n",
      "8          9             283               17            6.0\n",
      "9         10             225               12            5.3\n",
      "10        11             177               12            6.8\n",
      "11        12             125                3            2.4\n",
      "12        13              92                4            4.3\n",
      "13        14             475                8            1.7\n"
     ]
    },
    {
     "data": {
      "image/png": "[encoded data removed]",
      "text/plain": [
       "<Figure size 432x288 with 1 Axes>"
      ]
     },
     "metadata": {},
     "output_type": "display_data"
    }
   ],
   "source": [
    "analize('campaign','response')"
   ]
  },
  {
   "cell_type": "markdown",
   "metadata": {},
   "source": [
    "#### Response is decreasing with the number of contracts"
   ]
  },
  {
   "cell_type": "markdown",
   "metadata": {},
   "source": [
    "### Gap after last contact"
   ]
  },
  {
   "cell_type": "code",
   "execution_count": 42,
   "metadata": {},
   "outputs": [
    {
     "data": {
      "text/plain": [
       "999    39673\n",
       "3        439\n",
       "6        412\n",
       "4        118\n",
       "9         64\n",
       "2         61\n",
       "7         60\n",
       "12        58\n",
       "10        52\n",
       "5         46\n",
       "13        36\n",
       "11        28\n",
       "1         26\n",
       "15        24\n",
       "14        20\n",
       "8         18\n",
       "0         15\n",
       "16        11\n",
       "17         8\n",
       "18         7\n",
       "19         3\n",
       "22         3\n",
       "21         2\n",
       "26         1\n",
       "20         1\n",
       "25         1\n",
       "27         1\n",
       "Name: pdays, dtype: int64"
      ]
     },
     "execution_count": 42,
     "metadata": {},
     "output_type": "execute_result"
    }
   ],
   "source": [
    "bank_market.pdays.value_counts()"
   ]
  },
  {
   "cell_type": "code",
   "execution_count": 43,
   "metadata": {},
   "outputs": [],
   "source": [
    "bank_market['pdays'][bank_market['pdays'].isin([0,1,2,3,4,5,6,7,8,9,10])]='Contacted_in_first_10days'\n",
    "bank_market['pdays'][bank_market['pdays'].isin([999])]='First_time_contacted'\n",
    "bank_market['pdays'][~bank_market['pdays'].isin(['Contacted_in_first_10days','First_time_contacted'])]='Contacted_after_10days'"
   ]
  },
  {
   "cell_type": "code",
   "execution_count": 44,
   "metadata": {},
   "outputs": [
    {
     "data": {
      "text/plain": [
       "First_time_contacted         39673\n",
       "Contacted_in_first_10days     1311\n",
       "Contacted_after_10days         204\n",
       "Name: pdays, dtype: int64"
      ]
     },
     "execution_count": 44,
     "metadata": {},
     "output_type": "execute_result"
    }
   ],
   "source": [
    "bank_market['pdays'].value_counts()"
   ]
  },
  {
   "cell_type": "code",
   "execution_count": 45,
   "metadata": {},
   "outputs": [
    {
     "name": "stdout",
     "output_type": "stream",
     "text": [
      "\u001b[1mAnalysis in table format\u001b[1m\n",
      "                       pdays  No.of_prospect  count_prospects  response_rate\n",
      "0     Contacted_after_10days             204              116           56.9\n",
      "1  Contacted_in_first_10days            1311              851           64.9\n",
      "2       First_time_contacted           39673             3673            9.3\n"
     ]
    },
    {
     "data": {
      "image/png": "[encoded data removed]",
      "text/plain": [
       "<Figure size 432x288 with 1 Axes>"
      ]
     },
     "metadata": {},
     "output_type": "display_data"
    }
   ],
   "source": [
    "analize('pdays','response')"
   ]
  },
  {
   "cell_type": "markdown",
   "metadata": {},
   "source": [
    "#### Though there is a huge difference in the response rates of the three categories, it is important to note that there is also a huge difference in the volume of data entries in these categories"
   ]
  },
  {
   "cell_type": "markdown",
   "metadata": {},
   "source": [
    "#### Analysis in previous"
   ]
  },
  {
   "cell_type": "code",
   "execution_count": 46,
   "metadata": {},
   "outputs": [
    {
     "data": {
      "text/plain": [
       "0    35563\n",
       "1     4561\n",
       "2      754\n",
       "3      216\n",
       "4       70\n",
       "5       18\n",
       "6        5\n",
       "7        1\n",
       "Name: previous, dtype: int64"
      ]
     },
     "execution_count": 46,
     "metadata": {},
     "output_type": "execute_result"
    }
   ],
   "source": [
    "bank_market.previous.value_counts()"
   ]
  },
  {
   "cell_type": "code",
   "execution_count": 47,
   "metadata": {},
   "outputs": [],
   "source": [
    "bank_market['previous'][bank_market['previous'].isin([0])]='Never contacted'\n",
    "bank_market['previous'][bank_market['previous'].isin([1,2,3])]='Less_than_3_times'\n",
    "bank_market['previous'][bank_market['previous'].isin([4,5,6,7])]='More than_3_times'"
   ]
  },
  {
   "cell_type": "code",
   "execution_count": 48,
   "metadata": {},
   "outputs": [
    {
     "data": {
      "text/plain": [
       "Never contacted      35563\n",
       "Less_than_3_times     5531\n",
       "More than_3_times       94\n",
       "Name: previous, dtype: int64"
      ]
     },
     "execution_count": 48,
     "metadata": {},
     "output_type": "execute_result"
    }
   ],
   "source": [
    "bank_market.previous.value_counts()"
   ]
  },
  {
   "cell_type": "code",
   "execution_count": 49,
   "metadata": {},
   "outputs": [
    {
     "name": "stdout",
     "output_type": "stream",
     "text": [
      "\u001b[1mAnalysis in table format\u001b[1m\n",
      "            previous  No.of_prospect  count_prospects  response_rate\n",
      "0  Less_than_3_times            5531             1445           26.1\n",
      "1  More than_3_times              94               54           57.4\n",
      "2    Never contacted           35563             3141            8.8\n"
     ]
    },
    {
     "data": {
      "image/png": "[encoded data removed]",
      "text/plain": [
       "<Figure size 432x288 with 1 Axes>"
      ]
     },
     "metadata": {},
     "output_type": "display_data"
    }
   ],
   "source": [
    "analize('previous','response')"
   ]
  },
  {
   "cell_type": "markdown",
   "metadata": {},
   "source": [
    "#### We can note that the response rate is greatest for the the potential customers having previous contact of more than three. However, please note that the number of data entries is very low for such cases, hence it's difficult to draw any inferences."
   ]
  },
  {
   "cell_type": "markdown",
   "metadata": {},
   "source": [
    "### Analysis on Employment Variation Rate"
   ]
  },
  {
   "cell_type": "code",
   "execution_count": 50,
   "metadata": {},
   "outputs": [
    {
     "data": {
      "image/png": "[encoded data removed]",
      "text/plain": [
       "<Figure size 432x288 with 1 Axes>"
      ]
     },
     "metadata": {},
     "output_type": "display_data"
    }
   ],
   "source": [
    "sns.distplot(bank_market['emp.var.rate'])\n",
    "plt.show()"
   ]
  },
  {
   "cell_type": "code",
   "execution_count": 51,
   "metadata": {},
   "outputs": [
    {
     "data": {
      "text/plain": [
       "<matplotlib.axes._subplots.AxesSubplot at 0x1426bf9cd30>"
      ]
     },
     "execution_count": 51,
     "metadata": {},
     "output_type": "execute_result"
    },
    {
     "data": {
      "image/png": "[encoded data removed]",
      "text/plain": [
       "<Figure size 432x288 with 1 Axes>"
      ]
     },
     "metadata": {},
     "output_type": "display_data"
    }
   ],
   "source": [
    "sns.boxplot(bank_market['emp.var.rate'])"
   ]
  },
  {
   "cell_type": "code",
   "execution_count": 52,
   "metadata": {},
   "outputs": [
    {
     "data": {
      "text/plain": [
       "count    41188.000000\n",
       "mean         0.081886\n",
       "std          1.570960\n",
       "min         -3.400000\n",
       "25%         -1.800000\n",
       "50%          1.100000\n",
       "75%          1.400000\n",
       "99%          1.400000\n",
       "max          1.400000\n",
       "Name: emp.var.rate, dtype: float64"
      ]
     },
     "execution_count": 52,
     "metadata": {},
     "output_type": "execute_result"
    }
   ],
   "source": [
    "bank_market['emp.var.rate'].describe([0.25,0.50,0.75,0.99])"
   ]
  },
  {
   "cell_type": "code",
   "execution_count": 53,
   "metadata": {},
   "outputs": [
    {
     "name": "stdout",
     "output_type": "stream",
     "text": [
      "\u001b[1mAnalysis in table format\u001b[1m\n",
      "   emp.var.rate  No.of_prospect  count_prospects  response_rate\n",
      "0          -3.4            1071              454           42.4\n",
      "1          -3.0             172               88           51.2\n",
      "2          -2.9            1663              594           35.7\n",
      "3          -1.8            9184             1461           15.9\n",
      "4          -1.7             773              403           52.1\n",
      "5          -1.1             635              301           47.4\n",
      "6          -0.2              10                1           10.0\n",
      "7          -0.1            3683              232            6.3\n",
      "8           1.1            7763              240            3.1\n",
      "9           1.4           16234              866            5.3\n"
     ]
    },
    {
     "data": {
      "image/png": "[encoded data removed]",
      "text/plain": [
       "<Figure size 432x288 with 1 Axes>"
      ]
     },
     "metadata": {},
     "output_type": "display_data"
    }
   ],
   "source": [
    "analize('emp.var.rate','response')"
   ]
  },
  {
   "cell_type": "markdown",
   "metadata": {},
   "source": [
    "#### You can note that a negative employment variation rate seems to be related to higher response rates."
   ]
  },
  {
   "cell_type": "markdown",
   "metadata": {},
   "source": [
    "### Analysis on Consumer Price Index"
   ]
  },
  {
   "cell_type": "code",
   "execution_count": 54,
   "metadata": {},
   "outputs": [
    {
     "data": {
      "image/png": "[encoded data removed]",
      "text/plain": [
       "<Figure size 432x288 with 1 Axes>"
      ]
     },
     "metadata": {},
     "output_type": "display_data"
    }
   ],
   "source": [
    "sns.distplot(bank_market['cons.price.idx'])\n",
    "plt.show()"
   ]
  },
  {
   "cell_type": "code",
   "execution_count": 55,
   "metadata": {},
   "outputs": [
    {
     "data": {
      "text/plain": [
       "<matplotlib.axes._subplots.AxesSubplot at 0x1426848a5f8>"
      ]
     },
     "execution_count": 55,
     "metadata": {},
     "output_type": "execute_result"
    },
    {
     "data": {
      "image/png": "[encoded data removed]",
      "text/plain": [
       "<Figure size 432x288 with 1 Axes>"
      ]
     },
     "metadata": {},
     "output_type": "display_data"
    }
   ],
   "source": [
    "sns.boxplot(y=bank_market['cons.price.idx'])"
   ]
  },
  {
   "cell_type": "code",
   "execution_count": 56,
   "metadata": {},
   "outputs": [
    {
     "data": {
      "text/plain": [
       "count    41188.000000\n",
       "mean        93.575664\n",
       "std          0.578840\n",
       "min         92.201000\n",
       "25%         93.075000\n",
       "50%         93.749000\n",
       "75%         93.994000\n",
       "99%         94.465000\n",
       "max         94.767000\n",
       "Name: cons.price.idx, dtype: float64"
      ]
     },
     "execution_count": 56,
     "metadata": {},
     "output_type": "execute_result"
    }
   ],
   "source": [
    "bank_market['cons.price.idx'].describe([0.25,0.50,0.75,0.99])"
   ]
  },
  {
   "cell_type": "code",
   "execution_count": 57,
   "metadata": {},
   "outputs": [
    {
     "name": "stdout",
     "output_type": "stream",
     "text": [
      "\u001b[1mAnalysis in table format\u001b[1m\n",
      "    cons.price.idx  No.of_prospect  count_prospects  response_rate\n",
      "0           92.201             770              264           34.3\n",
      "1           92.379             267              106           39.7\n",
      "2           92.431             447              180           40.3\n",
      "3           92.469             178               66           37.1\n",
      "4           92.649             357              168           47.1\n",
      "5           92.713             172               88           51.2\n",
      "6           92.756              10                1           10.0\n",
      "7           92.843             282              126           44.7\n",
      "8           92.893            5794              524            9.0\n",
      "9           92.963             715              264           36.9\n",
      "10          93.075            2458              442           18.0\n",
      "11          93.200            3616              190            5.3\n",
      "12          93.369             264              150           56.8\n",
      "13          93.444            5175              271            5.2\n",
      "14          93.749             174               97           55.7\n",
      "15          93.798              67               42           62.7\n",
      "16          93.876             212              122           57.5\n",
      "17          93.918            6685              407            6.1\n",
      "18          93.994            7763              240            3.1\n",
      "19          94.027             233              120           51.5\n",
      "20          94.055             229              107           46.7\n",
      "21          94.199             303              150           49.5\n",
      "22          94.215             311              176           56.6\n",
      "23          94.465            4374              188            4.3\n",
      "24          94.601             204               93           45.6\n",
      "25          94.767             128               58           45.3\n"
     ]
    },
    {
     "data": {
      "image/png": "[encoded data removed]",
      "text/plain": [
       "<Figure size 432x288 with 1 Axes>"
      ]
     },
     "metadata": {},
     "output_type": "display_data"
    }
   ],
   "source": [
    "analize('cons.price.idx','response')"
   ]
  },
  {
   "cell_type": "markdown",
   "metadata": {},
   "source": [
    "### Analysis on Number of employeees"
   ]
  },
  {
   "cell_type": "code",
   "execution_count": 58,
   "metadata": {},
   "outputs": [
    {
     "data": {
      "image/png": "[encoded data removed]",
      "text/plain": [
       "<Figure size 432x288 with 1 Axes>"
      ]
     },
     "metadata": {},
     "output_type": "display_data"
    }
   ],
   "source": [
    "sns.distplot(bank_market['nr.employed'])\n",
    "plt.show()"
   ]
  },
  {
   "cell_type": "code",
   "execution_count": 59,
   "metadata": {},
   "outputs": [
    {
     "data": {
      "text/plain": [
       "<matplotlib.axes._subplots.AxesSubplot at 0x14268cc8588>"
      ]
     },
     "execution_count": 59,
     "metadata": {},
     "output_type": "execute_result"
    },
    {
     "data": {
      "image/png": "[encoded data removed]",
      "text/plain": [
       "<Figure size 432x288 with 1 Axes>"
      ]
     },
     "metadata": {},
     "output_type": "display_data"
    }
   ],
   "source": [
    "sns.boxplot(bank_market['nr.employed'])"
   ]
  },
  {
   "cell_type": "code",
   "execution_count": 60,
   "metadata": {},
   "outputs": [
    {
     "data": {
      "text/plain": [
       "count    41188.000000\n",
       "mean      5167.035911\n",
       "std         72.251528\n",
       "min       4963.600000\n",
       "25%       5099.100000\n",
       "50%       5191.000000\n",
       "75%       5228.100000\n",
       "99%       5228.100000\n",
       "max       5228.100000\n",
       "Name: nr.employed, dtype: float64"
      ]
     },
     "execution_count": 60,
     "metadata": {},
     "output_type": "execute_result"
    }
   ],
   "source": [
    "bank_market['nr.employed'].describe([0.25,0.50,0.75,0.99])"
   ]
  },
  {
   "cell_type": "code",
   "execution_count": 61,
   "metadata": {},
   "outputs": [
    {
     "name": "stdout",
     "output_type": "stream",
     "text": [
      "\u001b[1mAnalysis in table format\u001b[1m\n",
      "    nr.employed  No.of_prospect  count_prospects  response_rate\n",
      "0        4963.6             635              301           47.4\n",
      "1        4991.6             773              403           52.1\n",
      "2        5008.7             650              369           56.8\n",
      "3        5017.5            1071              454           42.4\n",
      "4        5023.5             172               88           51.2\n",
      "5        5076.2            1663              594           35.7\n",
      "6        5099.1            8534             1092           12.8\n",
      "7        5176.3              10                1           10.0\n",
      "8        5191.0            7763              240            3.1\n",
      "9        5195.8            3683              232            6.3\n",
      "10       5228.1           16234              866            5.3\n"
     ]
    },
    {
     "data": {
      "image/png": "[encoded data removed]",
      "text/plain": [
       "<Figure size 432x288 with 1 Axes>"
      ]
     },
     "metadata": {},
     "output_type": "display_data"
    }
   ],
   "source": [
    "analize('nr.employed','response')"
   ]
  },
  {
   "cell_type": "markdown",
   "metadata": {},
   "source": [
    "### Data Preparation"
   ]
  },
  {
   "cell_type": "markdown",
   "metadata": {},
   "source": [
    "#### Lets drop the duration & age_bins as these are not necessary for our analysis"
   ]
  },
  {
   "cell_type": "code",
   "execution_count": 62,
   "metadata": {},
   "outputs": [],
   "source": [
    "bank_market.drop(columns=['age_bins'],inplace=True)"
   ]
  },
  {
   "cell_type": "code",
   "execution_count": 63,
   "metadata": {},
   "outputs": [
    {
     "data": {
      "text/plain": [
       "Index(['age', 'job', 'marital', 'education', 'default', 'housing', 'loan', 'contact', 'month', 'day_of_week', 'duration', 'campaign', 'pdays', 'previous', 'poutcome', 'emp.var.rate', 'cons.price.idx', 'cons.conf.idx', 'euribor3m', 'nr.employed', 'response'], dtype='object')"
      ]
     },
     "execution_count": 63,
     "metadata": {},
     "output_type": "execute_result"
    }
   ],
   "source": [
    "bank_market.columns"
   ]
  },
  {
   "cell_type": "markdown",
   "metadata": {},
   "source": [
    "#### Creating unique id for every prospect"
   ]
  },
  {
   "cell_type": "code",
   "execution_count": 64,
   "metadata": {},
   "outputs": [],
   "source": [
    "bank_market['prospect_id'] = [x for x in range(len(bank_market))]"
   ]
  },
  {
   "cell_type": "markdown",
   "metadata": {},
   "source": [
    "#### Creating a function that will perform one hot encoding on the categorical columns"
   ]
  },
  {
   "cell_type": "code",
   "execution_count": 65,
   "metadata": {
    "scrolled": true
   },
   "outputs": [
    {
     "data": {
      "text/html": [
       "<div>\n",
       "<style scoped>\n",
       "    .dataframe tbody tr th:only-of-type {\n",
       "        vertical-align: middle;\n",
       "    }\n",
       "\n",
       "    .dataframe tbody tr th {\n",
       "        vertical-align: top;\n",
       "    }\n",
       "\n",
       "    .dataframe thead th {\n",
       "        text-align: right;\n",
       "    }\n",
       "</style>\n",
       "<table border=\"1\" class=\"dataframe\">\n",
       "  <thead>\n",
       "    <tr style=\"text-align: right;\">\n",
       "      <th></th>\n",
       "      <th>job</th>\n",
       "      <th>marital</th>\n",
       "      <th>education</th>\n",
       "      <th>default</th>\n",
       "      <th>housing</th>\n",
       "      <th>loan</th>\n",
       "      <th>contact</th>\n",
       "      <th>month</th>\n",
       "      <th>day_of_week</th>\n",
       "      <th>pdays</th>\n",
       "      <th>previous</th>\n",
       "      <th>poutcome</th>\n",
       "    </tr>\n",
       "  </thead>\n",
       "  <tbody>\n",
       "    <tr>\n",
       "      <th>0</th>\n",
       "      <td>housemaid</td>\n",
       "      <td>married</td>\n",
       "      <td>Primary_Education</td>\n",
       "      <td>no</td>\n",
       "      <td>no</td>\n",
       "      <td>no</td>\n",
       "      <td>telephone</td>\n",
       "      <td>may</td>\n",
       "      <td>mon</td>\n",
       "      <td>First_time_contacted</td>\n",
       "      <td>Never contacted</td>\n",
       "      <td>nonexistent</td>\n",
       "    </tr>\n",
       "    <tr>\n",
       "      <th>1</th>\n",
       "      <td>services</td>\n",
       "      <td>married</td>\n",
       "      <td>Secondary_Education</td>\n",
       "      <td>unknown</td>\n",
       "      <td>no</td>\n",
       "      <td>no</td>\n",
       "      <td>telephone</td>\n",
       "      <td>may</td>\n",
       "      <td>mon</td>\n",
       "      <td>First_time_contacted</td>\n",
       "      <td>Never contacted</td>\n",
       "      <td>nonexistent</td>\n",
       "    </tr>\n",
       "    <tr>\n",
       "      <th>2</th>\n",
       "      <td>services</td>\n",
       "      <td>married</td>\n",
       "      <td>Secondary_Education</td>\n",
       "      <td>no</td>\n",
       "      <td>yes</td>\n",
       "      <td>no</td>\n",
       "      <td>telephone</td>\n",
       "      <td>may</td>\n",
       "      <td>mon</td>\n",
       "      <td>First_time_contacted</td>\n",
       "      <td>Never contacted</td>\n",
       "      <td>nonexistent</td>\n",
       "    </tr>\n",
       "    <tr>\n",
       "      <th>3</th>\n",
       "      <td>admin.</td>\n",
       "      <td>married</td>\n",
       "      <td>Primary_Education</td>\n",
       "      <td>no</td>\n",
       "      <td>no</td>\n",
       "      <td>no</td>\n",
       "      <td>telephone</td>\n",
       "      <td>may</td>\n",
       "      <td>mon</td>\n",
       "      <td>First_time_contacted</td>\n",
       "      <td>Never contacted</td>\n",
       "      <td>nonexistent</td>\n",
       "    </tr>\n",
       "    <tr>\n",
       "      <th>4</th>\n",
       "      <td>services</td>\n",
       "      <td>married</td>\n",
       "      <td>Secondary_Education</td>\n",
       "      <td>no</td>\n",
       "      <td>no</td>\n",
       "      <td>yes</td>\n",
       "      <td>telephone</td>\n",
       "      <td>may</td>\n",
       "      <td>mon</td>\n",
       "      <td>First_time_contacted</td>\n",
       "      <td>Never contacted</td>\n",
       "      <td>nonexistent</td>\n",
       "    </tr>\n",
       "  </tbody>\n",
       "</table>\n",
       "</div>"
      ],
      "text/plain": [
       "         job  marital            education  default housing loan    contact month day_of_week                 pdays         previous     poutcome\n",
       "0  housemaid  married    Primary_Education       no      no   no  telephone   may         mon  First_time_contacted  Never contacted  nonexistent\n",
       "1   services  married  Secondary_Education  unknown      no   no  telephone   may         mon  First_time_contacted  Never contacted  nonexistent\n",
       "2   services  married  Secondary_Education       no     yes   no  telephone   may         mon  First_time_contacted  Never contacted  nonexistent\n",
       "3     admin.  married    Primary_Education       no      no   no  telephone   may         mon  First_time_contacted  Never contacted  nonexistent\n",
       "4   services  married  Secondary_Education       no      no  yes  telephone   may         mon  First_time_contacted  Never contacted  nonexistent"
      ]
     },
     "execution_count": 65,
     "metadata": {},
     "output_type": "execute_result"
    }
   ],
   "source": [
    "df_categorical = bank_market[['job','marital','education','default','housing','loan','contact','month','day_of_week','pdays','previous','poutcome']]\n",
    "df_categorical.head()"
   ]
  },
  {
   "cell_type": "markdown",
   "metadata": {},
   "source": [
    "#### USing below function for OneHot Encoding"
   ]
  },
  {
   "cell_type": "code",
   "execution_count": 66,
   "metadata": {},
   "outputs": [],
   "source": [
    "def oh_encode(df):\n",
    "    cols = list(df.columns)\n",
    "    for col in df.columns:\n",
    "        dum = pd.get_dummies(df[col],prefix=col,drop_first=True)\n",
    "        df = pd.concat([df,dum],axis='columns')\n",
    "    return df"
   ]
  },
  {
   "cell_type": "code",
   "execution_count": 67,
   "metadata": {
    "scrolled": true
   },
   "outputs": [
    {
     "data": {
      "text/html": [
       "<div>\n",
       "<style scoped>\n",
       "    .dataframe tbody tr th:only-of-type {\n",
       "        vertical-align: middle;\n",
       "    }\n",
       "\n",
       "    .dataframe tbody tr th {\n",
       "        vertical-align: top;\n",
       "    }\n",
       "\n",
       "    .dataframe thead th {\n",
       "        text-align: right;\n",
       "    }\n",
       "</style>\n",
       "<table border=\"1\" class=\"dataframe\">\n",
       "  <thead>\n",
       "    <tr style=\"text-align: right;\">\n",
       "      <th></th>\n",
       "      <th>job_blue-collar</th>\n",
       "      <th>job_entrepreneur</th>\n",
       "      <th>job_housemaid</th>\n",
       "      <th>job_management</th>\n",
       "      <th>job_retired</th>\n",
       "      <th>job_self-employed</th>\n",
       "      <th>job_services</th>\n",
       "      <th>job_student</th>\n",
       "      <th>job_technician</th>\n",
       "      <th>job_unemployed</th>\n",
       "      <th>job_unknown</th>\n",
       "      <th>marital_married</th>\n",
       "      <th>marital_single</th>\n",
       "      <th>education_Secondary_Education</th>\n",
       "      <th>education_Tertiary_Education</th>\n",
       "      <th>education_professional.course</th>\n",
       "      <th>education_unknown</th>\n",
       "      <th>default_unknown</th>\n",
       "      <th>default_yes</th>\n",
       "      <th>housing_unknown</th>\n",
       "      <th>housing_yes</th>\n",
       "      <th>loan_unknown</th>\n",
       "      <th>loan_yes</th>\n",
       "      <th>contact_telephone</th>\n",
       "      <th>month_aug</th>\n",
       "      <th>month_dec</th>\n",
       "      <th>month_jul</th>\n",
       "      <th>month_jun</th>\n",
       "      <th>month_mar</th>\n",
       "      <th>month_may</th>\n",
       "      <th>month_nov</th>\n",
       "      <th>month_oct</th>\n",
       "      <th>month_sep</th>\n",
       "      <th>day_of_week_mon</th>\n",
       "      <th>day_of_week_thu</th>\n",
       "      <th>day_of_week_tue</th>\n",
       "      <th>day_of_week_wed</th>\n",
       "      <th>pdays_Contacted_in_first_10days</th>\n",
       "      <th>pdays_First_time_contacted</th>\n",
       "      <th>previous_More than_3_times</th>\n",
       "      <th>previous_Never contacted</th>\n",
       "      <th>poutcome_nonexistent</th>\n",
       "      <th>poutcome_success</th>\n",
       "    </tr>\n",
       "  </thead>\n",
       "  <tbody>\n",
       "    <tr>\n",
       "      <th>0</th>\n",
       "      <td>0</td>\n",
       "      <td>0</td>\n",
       "      <td>1</td>\n",
       "      <td>0</td>\n",
       "      <td>0</td>\n",
       "      <td>0</td>\n",
       "      <td>0</td>\n",
       "      <td>0</td>\n",
       "      <td>0</td>\n",
       "      <td>0</td>\n",
       "      <td>0</td>\n",
       "      <td>1</td>\n",
       "      <td>0</td>\n",
       "      <td>0</td>\n",
       "      <td>0</td>\n",
       "      <td>0</td>\n",
       "      <td>0</td>\n",
       "      <td>0</td>\n",
       "      <td>0</td>\n",
       "      <td>0</td>\n",
       "      <td>0</td>\n",
       "      <td>0</td>\n",
       "      <td>0</td>\n",
       "      <td>1</td>\n",
       "      <td>0</td>\n",
       "      <td>0</td>\n",
       "      <td>0</td>\n",
       "      <td>0</td>\n",
       "      <td>0</td>\n",
       "      <td>1</td>\n",
       "      <td>0</td>\n",
       "      <td>0</td>\n",
       "      <td>0</td>\n",
       "      <td>1</td>\n",
       "      <td>0</td>\n",
       "      <td>0</td>\n",
       "      <td>0</td>\n",
       "      <td>0</td>\n",
       "      <td>1</td>\n",
       "      <td>0</td>\n",
       "      <td>1</td>\n",
       "      <td>1</td>\n",
       "      <td>0</td>\n",
       "    </tr>\n",
       "    <tr>\n",
       "      <th>1</th>\n",
       "      <td>0</td>\n",
       "      <td>0</td>\n",
       "      <td>0</td>\n",
       "      <td>0</td>\n",
       "      <td>0</td>\n",
       "      <td>0</td>\n",
       "      <td>1</td>\n",
       "      <td>0</td>\n",
       "      <td>0</td>\n",
       "      <td>0</td>\n",
       "      <td>0</td>\n",
       "      <td>1</td>\n",
       "      <td>0</td>\n",
       "      <td>1</td>\n",
       "      <td>0</td>\n",
       "      <td>0</td>\n",
       "      <td>0</td>\n",
       "      <td>1</td>\n",
       "      <td>0</td>\n",
       "      <td>0</td>\n",
       "      <td>0</td>\n",
       "      <td>0</td>\n",
       "      <td>0</td>\n",
       "      <td>1</td>\n",
       "      <td>0</td>\n",
       "      <td>0</td>\n",
       "      <td>0</td>\n",
       "      <td>0</td>\n",
       "      <td>0</td>\n",
       "      <td>1</td>\n",
       "      <td>0</td>\n",
       "      <td>0</td>\n",
       "      <td>0</td>\n",
       "      <td>1</td>\n",
       "      <td>0</td>\n",
       "      <td>0</td>\n",
       "      <td>0</td>\n",
       "      <td>0</td>\n",
       "      <td>1</td>\n",
       "      <td>0</td>\n",
       "      <td>1</td>\n",
       "      <td>1</td>\n",
       "      <td>0</td>\n",
       "    </tr>\n",
       "    <tr>\n",
       "      <th>2</th>\n",
       "      <td>0</td>\n",
       "      <td>0</td>\n",
       "      <td>0</td>\n",
       "      <td>0</td>\n",
       "      <td>0</td>\n",
       "      <td>0</td>\n",
       "      <td>1</td>\n",
       "      <td>0</td>\n",
       "      <td>0</td>\n",
       "      <td>0</td>\n",
       "      <td>0</td>\n",
       "      <td>1</td>\n",
       "      <td>0</td>\n",
       "      <td>1</td>\n",
       "      <td>0</td>\n",
       "      <td>0</td>\n",
       "      <td>0</td>\n",
       "      <td>0</td>\n",
       "      <td>0</td>\n",
       "      <td>0</td>\n",
       "      <td>1</td>\n",
       "      <td>0</td>\n",
       "      <td>0</td>\n",
       "      <td>1</td>\n",
       "      <td>0</td>\n",
       "      <td>0</td>\n",
       "      <td>0</td>\n",
       "      <td>0</td>\n",
       "      <td>0</td>\n",
       "      <td>1</td>\n",
       "      <td>0</td>\n",
       "      <td>0</td>\n",
       "      <td>0</td>\n",
       "      <td>1</td>\n",
       "      <td>0</td>\n",
       "      <td>0</td>\n",
       "      <td>0</td>\n",
       "      <td>0</td>\n",
       "      <td>1</td>\n",
       "      <td>0</td>\n",
       "      <td>1</td>\n",
       "      <td>1</td>\n",
       "      <td>0</td>\n",
       "    </tr>\n",
       "    <tr>\n",
       "      <th>3</th>\n",
       "      <td>0</td>\n",
       "      <td>0</td>\n",
       "      <td>0</td>\n",
       "      <td>0</td>\n",
       "      <td>0</td>\n",
       "      <td>0</td>\n",
       "      <td>0</td>\n",
       "      <td>0</td>\n",
       "      <td>0</td>\n",
       "      <td>0</td>\n",
       "      <td>0</td>\n",
       "      <td>1</td>\n",
       "      <td>0</td>\n",
       "      <td>0</td>\n",
       "      <td>0</td>\n",
       "      <td>0</td>\n",
       "      <td>0</td>\n",
       "      <td>0</td>\n",
       "      <td>0</td>\n",
       "      <td>0</td>\n",
       "      <td>0</td>\n",
       "      <td>0</td>\n",
       "      <td>0</td>\n",
       "      <td>1</td>\n",
       "      <td>0</td>\n",
       "      <td>0</td>\n",
       "      <td>0</td>\n",
       "      <td>0</td>\n",
       "      <td>0</td>\n",
       "      <td>1</td>\n",
       "      <td>0</td>\n",
       "      <td>0</td>\n",
       "      <td>0</td>\n",
       "      <td>1</td>\n",
       "      <td>0</td>\n",
       "      <td>0</td>\n",
       "      <td>0</td>\n",
       "      <td>0</td>\n",
       "      <td>1</td>\n",
       "      <td>0</td>\n",
       "      <td>1</td>\n",
       "      <td>1</td>\n",
       "      <td>0</td>\n",
       "    </tr>\n",
       "    <tr>\n",
       "      <th>4</th>\n",
       "      <td>0</td>\n",
       "      <td>0</td>\n",
       "      <td>0</td>\n",
       "      <td>0</td>\n",
       "      <td>0</td>\n",
       "      <td>0</td>\n",
       "      <td>1</td>\n",
       "      <td>0</td>\n",
       "      <td>0</td>\n",
       "      <td>0</td>\n",
       "      <td>0</td>\n",
       "      <td>1</td>\n",
       "      <td>0</td>\n",
       "      <td>1</td>\n",
       "      <td>0</td>\n",
       "      <td>0</td>\n",
       "      <td>0</td>\n",
       "      <td>0</td>\n",
       "      <td>0</td>\n",
       "      <td>0</td>\n",
       "      <td>0</td>\n",
       "      <td>0</td>\n",
       "      <td>1</td>\n",
       "      <td>1</td>\n",
       "      <td>0</td>\n",
       "      <td>0</td>\n",
       "      <td>0</td>\n",
       "      <td>0</td>\n",
       "      <td>0</td>\n",
       "      <td>1</td>\n",
       "      <td>0</td>\n",
       "      <td>0</td>\n",
       "      <td>0</td>\n",
       "      <td>1</td>\n",
       "      <td>0</td>\n",
       "      <td>0</td>\n",
       "      <td>0</td>\n",
       "      <td>0</td>\n",
       "      <td>1</td>\n",
       "      <td>0</td>\n",
       "      <td>1</td>\n",
       "      <td>1</td>\n",
       "      <td>0</td>\n",
       "    </tr>\n",
       "  </tbody>\n",
       "</table>\n",
       "</div>"
      ],
      "text/plain": [
       "   job_blue-collar  job_entrepreneur  job_housemaid  job_management  job_retired  job_self-employed  job_services  job_student  job_technician  job_unemployed  job_unknown  marital_married  marital_single  education_Secondary_Education  education_Tertiary_Education  education_professional.course  education_unknown  default_unknown  default_yes  housing_unknown  housing_yes  loan_unknown  loan_yes  contact_telephone  month_aug  month_dec  month_jul  month_jun  month_mar  month_may  month_nov  month_oct  month_sep  day_of_week_mon  day_of_week_thu  day_of_week_tue  day_of_week_wed  pdays_Contacted_in_first_10days  pdays_First_time_contacted  previous_More than_3_times  previous_Never contacted  poutcome_nonexistent  poutcome_success\n",
       "0                0                 0              1               0            0                  0             0            0               0               0            0                1               0                              0                             0                              0                  0                0            0                0            0             0         0                  1          0          0          0          0          0          1          0          0          0                1                0                0                0                                0                           1                           0                         1                     1                 0\n",
       "1                0                 0              0               0            0                  0             1            0               0               0            0                1               0                              1                             0                              0                  0                1            0                0            0             0         0                  1          0          0          0          0          0          1          0          0          0                1                0                0                0                                0                           1                           0                         1                     1                 0\n",
       "2                0                 0              0               0            0                  0             1            0               0               0            0                1               0                              1                             0                              0                  0                0            0                0            1             0         0                  1          0          0          0          0          0          1          0          0          0                1                0                0                0                                0                           1                           0                         1                     1                 0\n",
       "3                0                 0              0               0            0                  0             0            0               0               0            0                1               0                              0                             0                              0                  0                0            0                0            0             0         0                  1          0          0          0          0          0          1          0          0          0                1                0                0                0                                0                           1                           0                         1                     1                 0\n",
       "4                0                 0              0               0            0                  0             1            0               0               0            0                1               0                              1                             0                              0                  0                0            0                0            0             0         1                  1          0          0          0          0          0          1          0          0          0                1                0                0                0                                0                           1                           0                         1                     1                 0"
      ]
     },
     "execution_count": 67,
     "metadata": {},
     "output_type": "execute_result"
    }
   ],
   "source": [
    "df_categorical = oh_encode(df_categorical)\n",
    "df_categorical.drop(['job','marital','education','default','housing','loan',\n",
    "                                      'contact','month','day_of_week','pdays','previous','poutcome'],axis=1,inplace=True)\n",
    "df_categorical.head()"
   ]
  },
  {
   "cell_type": "code",
   "execution_count": 68,
   "metadata": {},
   "outputs": [
    {
     "data": {
      "text/html": [
       "<div>\n",
       "<style scoped>\n",
       "    .dataframe tbody tr th:only-of-type {\n",
       "        vertical-align: middle;\n",
       "    }\n",
       "\n",
       "    .dataframe tbody tr th {\n",
       "        vertical-align: top;\n",
       "    }\n",
       "\n",
       "    .dataframe thead th {\n",
       "        text-align: right;\n",
       "    }\n",
       "</style>\n",
       "<table border=\"1\" class=\"dataframe\">\n",
       "  <thead>\n",
       "    <tr style=\"text-align: right;\">\n",
       "      <th></th>\n",
       "      <th>age</th>\n",
       "      <th>duration</th>\n",
       "      <th>campaign</th>\n",
       "      <th>emp.var.rate</th>\n",
       "      <th>cons.price.idx</th>\n",
       "      <th>cons.conf.idx</th>\n",
       "      <th>euribor3m</th>\n",
       "      <th>nr.employed</th>\n",
       "      <th>response</th>\n",
       "      <th>prospect_id</th>\n",
       "      <th>job_blue-collar</th>\n",
       "      <th>job_entrepreneur</th>\n",
       "      <th>job_housemaid</th>\n",
       "      <th>job_management</th>\n",
       "      <th>job_retired</th>\n",
       "      <th>job_self-employed</th>\n",
       "      <th>job_services</th>\n",
       "      <th>job_student</th>\n",
       "      <th>job_technician</th>\n",
       "      <th>job_unemployed</th>\n",
       "      <th>job_unknown</th>\n",
       "      <th>marital_married</th>\n",
       "      <th>marital_single</th>\n",
       "      <th>education_Secondary_Education</th>\n",
       "      <th>education_Tertiary_Education</th>\n",
       "      <th>education_professional.course</th>\n",
       "      <th>education_unknown</th>\n",
       "      <th>default_unknown</th>\n",
       "      <th>default_yes</th>\n",
       "      <th>housing_unknown</th>\n",
       "      <th>housing_yes</th>\n",
       "      <th>loan_unknown</th>\n",
       "      <th>loan_yes</th>\n",
       "      <th>contact_telephone</th>\n",
       "      <th>month_aug</th>\n",
       "      <th>month_dec</th>\n",
       "      <th>month_jul</th>\n",
       "      <th>month_jun</th>\n",
       "      <th>month_mar</th>\n",
       "      <th>month_may</th>\n",
       "      <th>month_nov</th>\n",
       "      <th>month_oct</th>\n",
       "      <th>month_sep</th>\n",
       "      <th>day_of_week_mon</th>\n",
       "      <th>day_of_week_thu</th>\n",
       "      <th>day_of_week_tue</th>\n",
       "      <th>day_of_week_wed</th>\n",
       "      <th>pdays_Contacted_in_first_10days</th>\n",
       "      <th>pdays_First_time_contacted</th>\n",
       "      <th>previous_More than_3_times</th>\n",
       "      <th>previous_Never contacted</th>\n",
       "      <th>poutcome_nonexistent</th>\n",
       "      <th>poutcome_success</th>\n",
       "    </tr>\n",
       "  </thead>\n",
       "  <tbody>\n",
       "    <tr>\n",
       "      <th>0</th>\n",
       "      <td>56</td>\n",
       "      <td>261</td>\n",
       "      <td>1</td>\n",
       "      <td>1.1</td>\n",
       "      <td>93.994</td>\n",
       "      <td>-36.4</td>\n",
       "      <td>4.857</td>\n",
       "      <td>5191.0</td>\n",
       "      <td>0</td>\n",
       "      <td>0</td>\n",
       "      <td>0</td>\n",
       "      <td>0</td>\n",
       "      <td>1</td>\n",
       "      <td>0</td>\n",
       "      <td>0</td>\n",
       "      <td>0</td>\n",
       "      <td>0</td>\n",
       "      <td>0</td>\n",
       "      <td>0</td>\n",
       "      <td>0</td>\n",
       "      <td>0</td>\n",
       "      <td>1</td>\n",
       "      <td>0</td>\n",
       "      <td>0</td>\n",
       "      <td>0</td>\n",
       "      <td>0</td>\n",
       "      <td>0</td>\n",
       "      <td>0</td>\n",
       "      <td>0</td>\n",
       "      <td>0</td>\n",
       "      <td>0</td>\n",
       "      <td>0</td>\n",
       "      <td>0</td>\n",
       "      <td>1</td>\n",
       "      <td>0</td>\n",
       "      <td>0</td>\n",
       "      <td>0</td>\n",
       "      <td>0</td>\n",
       "      <td>0</td>\n",
       "      <td>1</td>\n",
       "      <td>0</td>\n",
       "      <td>0</td>\n",
       "      <td>0</td>\n",
       "      <td>1</td>\n",
       "      <td>0</td>\n",
       "      <td>0</td>\n",
       "      <td>0</td>\n",
       "      <td>0</td>\n",
       "      <td>1</td>\n",
       "      <td>0</td>\n",
       "      <td>1</td>\n",
       "      <td>1</td>\n",
       "      <td>0</td>\n",
       "    </tr>\n",
       "    <tr>\n",
       "      <th>1</th>\n",
       "      <td>57</td>\n",
       "      <td>149</td>\n",
       "      <td>1</td>\n",
       "      <td>1.1</td>\n",
       "      <td>93.994</td>\n",
       "      <td>-36.4</td>\n",
       "      <td>4.857</td>\n",
       "      <td>5191.0</td>\n",
       "      <td>0</td>\n",
       "      <td>1</td>\n",
       "      <td>0</td>\n",
       "      <td>0</td>\n",
       "      <td>0</td>\n",
       "      <td>0</td>\n",
       "      <td>0</td>\n",
       "      <td>0</td>\n",
       "      <td>1</td>\n",
       "      <td>0</td>\n",
       "      <td>0</td>\n",
       "      <td>0</td>\n",
       "      <td>0</td>\n",
       "      <td>1</td>\n",
       "      <td>0</td>\n",
       "      <td>1</td>\n",
       "      <td>0</td>\n",
       "      <td>0</td>\n",
       "      <td>0</td>\n",
       "      <td>1</td>\n",
       "      <td>0</td>\n",
       "      <td>0</td>\n",
       "      <td>0</td>\n",
       "      <td>0</td>\n",
       "      <td>0</td>\n",
       "      <td>1</td>\n",
       "      <td>0</td>\n",
       "      <td>0</td>\n",
       "      <td>0</td>\n",
       "      <td>0</td>\n",
       "      <td>0</td>\n",
       "      <td>1</td>\n",
       "      <td>0</td>\n",
       "      <td>0</td>\n",
       "      <td>0</td>\n",
       "      <td>1</td>\n",
       "      <td>0</td>\n",
       "      <td>0</td>\n",
       "      <td>0</td>\n",
       "      <td>0</td>\n",
       "      <td>1</td>\n",
       "      <td>0</td>\n",
       "      <td>1</td>\n",
       "      <td>1</td>\n",
       "      <td>0</td>\n",
       "    </tr>\n",
       "    <tr>\n",
       "      <th>2</th>\n",
       "      <td>37</td>\n",
       "      <td>226</td>\n",
       "      <td>1</td>\n",
       "      <td>1.1</td>\n",
       "      <td>93.994</td>\n",
       "      <td>-36.4</td>\n",
       "      <td>4.857</td>\n",
       "      <td>5191.0</td>\n",
       "      <td>0</td>\n",
       "      <td>2</td>\n",
       "      <td>0</td>\n",
       "      <td>0</td>\n",
       "      <td>0</td>\n",
       "      <td>0</td>\n",
       "      <td>0</td>\n",
       "      <td>0</td>\n",
       "      <td>1</td>\n",
       "      <td>0</td>\n",
       "      <td>0</td>\n",
       "      <td>0</td>\n",
       "      <td>0</td>\n",
       "      <td>1</td>\n",
       "      <td>0</td>\n",
       "      <td>1</td>\n",
       "      <td>0</td>\n",
       "      <td>0</td>\n",
       "      <td>0</td>\n",
       "      <td>0</td>\n",
       "      <td>0</td>\n",
       "      <td>0</td>\n",
       "      <td>1</td>\n",
       "      <td>0</td>\n",
       "      <td>0</td>\n",
       "      <td>1</td>\n",
       "      <td>0</td>\n",
       "      <td>0</td>\n",
       "      <td>0</td>\n",
       "      <td>0</td>\n",
       "      <td>0</td>\n",
       "      <td>1</td>\n",
       "      <td>0</td>\n",
       "      <td>0</td>\n",
       "      <td>0</td>\n",
       "      <td>1</td>\n",
       "      <td>0</td>\n",
       "      <td>0</td>\n",
       "      <td>0</td>\n",
       "      <td>0</td>\n",
       "      <td>1</td>\n",
       "      <td>0</td>\n",
       "      <td>1</td>\n",
       "      <td>1</td>\n",
       "      <td>0</td>\n",
       "    </tr>\n",
       "    <tr>\n",
       "      <th>3</th>\n",
       "      <td>40</td>\n",
       "      <td>151</td>\n",
       "      <td>1</td>\n",
       "      <td>1.1</td>\n",
       "      <td>93.994</td>\n",
       "      <td>-36.4</td>\n",
       "      <td>4.857</td>\n",
       "      <td>5191.0</td>\n",
       "      <td>0</td>\n",
       "      <td>3</td>\n",
       "      <td>0</td>\n",
       "      <td>0</td>\n",
       "      <td>0</td>\n",
       "      <td>0</td>\n",
       "      <td>0</td>\n",
       "      <td>0</td>\n",
       "      <td>0</td>\n",
       "      <td>0</td>\n",
       "      <td>0</td>\n",
       "      <td>0</td>\n",
       "      <td>0</td>\n",
       "      <td>1</td>\n",
       "      <td>0</td>\n",
       "      <td>0</td>\n",
       "      <td>0</td>\n",
       "      <td>0</td>\n",
       "      <td>0</td>\n",
       "      <td>0</td>\n",
       "      <td>0</td>\n",
       "      <td>0</td>\n",
       "      <td>0</td>\n",
       "      <td>0</td>\n",
       "      <td>0</td>\n",
       "      <td>1</td>\n",
       "      <td>0</td>\n",
       "      <td>0</td>\n",
       "      <td>0</td>\n",
       "      <td>0</td>\n",
       "      <td>0</td>\n",
       "      <td>1</td>\n",
       "      <td>0</td>\n",
       "      <td>0</td>\n",
       "      <td>0</td>\n",
       "      <td>1</td>\n",
       "      <td>0</td>\n",
       "      <td>0</td>\n",
       "      <td>0</td>\n",
       "      <td>0</td>\n",
       "      <td>1</td>\n",
       "      <td>0</td>\n",
       "      <td>1</td>\n",
       "      <td>1</td>\n",
       "      <td>0</td>\n",
       "    </tr>\n",
       "    <tr>\n",
       "      <th>4</th>\n",
       "      <td>56</td>\n",
       "      <td>307</td>\n",
       "      <td>1</td>\n",
       "      <td>1.1</td>\n",
       "      <td>93.994</td>\n",
       "      <td>-36.4</td>\n",
       "      <td>4.857</td>\n",
       "      <td>5191.0</td>\n",
       "      <td>0</td>\n",
       "      <td>4</td>\n",
       "      <td>0</td>\n",
       "      <td>0</td>\n",
       "      <td>0</td>\n",
       "      <td>0</td>\n",
       "      <td>0</td>\n",
       "      <td>0</td>\n",
       "      <td>1</td>\n",
       "      <td>0</td>\n",
       "      <td>0</td>\n",
       "      <td>0</td>\n",
       "      <td>0</td>\n",
       "      <td>1</td>\n",
       "      <td>0</td>\n",
       "      <td>1</td>\n",
       "      <td>0</td>\n",
       "      <td>0</td>\n",
       "      <td>0</td>\n",
       "      <td>0</td>\n",
       "      <td>0</td>\n",
       "      <td>0</td>\n",
       "      <td>0</td>\n",
       "      <td>0</td>\n",
       "      <td>1</td>\n",
       "      <td>1</td>\n",
       "      <td>0</td>\n",
       "      <td>0</td>\n",
       "      <td>0</td>\n",
       "      <td>0</td>\n",
       "      <td>0</td>\n",
       "      <td>1</td>\n",
       "      <td>0</td>\n",
       "      <td>0</td>\n",
       "      <td>0</td>\n",
       "      <td>1</td>\n",
       "      <td>0</td>\n",
       "      <td>0</td>\n",
       "      <td>0</td>\n",
       "      <td>0</td>\n",
       "      <td>1</td>\n",
       "      <td>0</td>\n",
       "      <td>1</td>\n",
       "      <td>1</td>\n",
       "      <td>0</td>\n",
       "    </tr>\n",
       "  </tbody>\n",
       "</table>\n",
       "</div>"
      ],
      "text/plain": [
       "   age  duration  campaign  emp.var.rate  cons.price.idx  cons.conf.idx  euribor3m  nr.employed  response  prospect_id  job_blue-collar  job_entrepreneur  job_housemaid  job_management  job_retired  job_self-employed  job_services  job_student  job_technician  job_unemployed  job_unknown  marital_married  marital_single  education_Secondary_Education  education_Tertiary_Education  education_professional.course  education_unknown  default_unknown  default_yes  housing_unknown  housing_yes  loan_unknown  loan_yes  contact_telephone  month_aug  month_dec  month_jul  month_jun  month_mar  month_may  month_nov  month_oct  month_sep  day_of_week_mon  day_of_week_thu  day_of_week_tue  day_of_week_wed  pdays_Contacted_in_first_10days  pdays_First_time_contacted  previous_More than_3_times  previous_Never contacted  poutcome_nonexistent  poutcome_success\n",
       "0   56       261         1           1.1          93.994          -36.4      4.857       5191.0         0            0                0                 0              1               0            0                  0             0            0               0               0            0                1               0                              0                             0                              0                  0                0            0                0            0             0         0                  1          0          0          0          0          0          1          0          0          0                1                0                0                0                                0                           1                           0                         1                     1                 0\n",
       "1   57       149         1           1.1          93.994          -36.4      4.857       5191.0         0            1                0                 0              0               0            0                  0             1            0               0               0            0                1               0                              1                             0                              0                  0                1            0                0            0             0         0                  1          0          0          0          0          0          1          0          0          0                1                0                0                0                                0                           1                           0                         1                     1                 0\n",
       "2   37       226         1           1.1          93.994          -36.4      4.857       5191.0         0            2                0                 0              0               0            0                  0             1            0               0               0            0                1               0                              1                             0                              0                  0                0            0                0            1             0         0                  1          0          0          0          0          0          1          0          0          0                1                0                0                0                                0                           1                           0                         1                     1                 0\n",
       "3   40       151         1           1.1          93.994          -36.4      4.857       5191.0         0            3                0                 0              0               0            0                  0             0            0               0               0            0                1               0                              0                             0                              0                  0                0            0                0            0             0         0                  1          0          0          0          0          0          1          0          0          0                1                0                0                0                                0                           1                           0                         1                     1                 0\n",
       "4   56       307         1           1.1          93.994          -36.4      4.857       5191.0         0            4                0                 0              0               0            0                  0             1            0               0               0            0                1               0                              1                             0                              0                  0                0            0                0            0             0         1                  1          0          0          0          0          0          1          0          0          0                1                0                0                0                                0                           1                           0                         1                     1                 0"
      ]
     },
     "execution_count": 68,
     "metadata": {},
     "output_type": "execute_result"
    }
   ],
   "source": [
    "bank_market = pd.concat([bank_market,df_categorical],axis='columns')\n",
    "bank_market.drop(['job','marital','education','default','housing','loan',\n",
    "                                      'contact','month','day_of_week','pdays','previous','poutcome'],axis=1,inplace=True)\n",
    "bank_market.head()"
   ]
  },
  {
   "cell_type": "code",
   "execution_count": 69,
   "metadata": {},
   "outputs": [],
   "source": [
    "bank_market_model = bank_market"
   ]
  },
  {
   "cell_type": "markdown",
   "metadata": {},
   "source": [
    "#### Lets split the data set into train and test"
   ]
  },
  {
   "cell_type": "code",
   "execution_count": 70,
   "metadata": {},
   "outputs": [],
   "source": [
    "X = bank_market_model.drop(['response'],axis='columns')\n",
    "y = bank_market_model['response']"
   ]
  },
  {
   "cell_type": "code",
   "execution_count": 71,
   "metadata": {},
   "outputs": [
    {
     "data": {
      "text/plain": [
       "(41188, 53)"
      ]
     },
     "execution_count": 71,
     "metadata": {},
     "output_type": "execute_result"
    }
   ],
   "source": [
    "bank_market_model.shape"
   ]
  },
  {
   "cell_type": "code",
   "execution_count": 72,
   "metadata": {},
   "outputs": [],
   "source": [
    "X_train,X_test,y_train,y_test = train_test_split(X,y,train_size=0.7,test_size=0.3,random_state=1024)"
   ]
  },
  {
   "cell_type": "markdown",
   "metadata": {},
   "source": [
    "#### Scaling using StanderdScaler"
   ]
  },
  {
   "cell_type": "code",
   "execution_count": 73,
   "metadata": {},
   "outputs": [],
   "source": [
    "X_train_p_id = X_train.pop('prospect_id')\n",
    "X_test_p_id = X_test.pop('prospect_id')\n",
    "X_train_duration = X_train.pop('duration')\n",
    "X_test_duration = X_test.pop('duration')"
   ]
  },
  {
   "cell_type": "code",
   "execution_count": 74,
   "metadata": {},
   "outputs": [],
   "source": [
    "y_train = np.array(y_train).reshape(-1,1)\n",
    "y_test = np.array(y_test).reshape(-1,1)"
   ]
  },
  {
   "cell_type": "code",
   "execution_count": 75,
   "metadata": {},
   "outputs": [],
   "source": [
    "scale = StandardScaler()\n",
    "X_train[['age','campaign','emp.var.rate','cons.price.idx','cons.conf.idx','euribor3m','nr.employed']] = \\\n",
    "scale.fit_transform(X_train[['age','campaign','emp.var.rate','cons.price.idx','cons.conf.idx','euribor3m','nr.employed']])\n",
    "X_test[['age','campaign','emp.var.rate','cons.price.idx','cons.conf.idx','euribor3m','nr.employed']] = \\\n",
    "scale.transform(X_test[['age','campaign','emp.var.rate','cons.price.idx','cons.conf.idx','euribor3m','nr.employed']])"
   ]
  },
  {
   "cell_type": "code",
   "execution_count": 76,
   "metadata": {},
   "outputs": [
    {
     "data": {
      "text/html": [
       "<div>\n",
       "<style scoped>\n",
       "    .dataframe tbody tr th:only-of-type {\n",
       "        vertical-align: middle;\n",
       "    }\n",
       "\n",
       "    .dataframe tbody tr th {\n",
       "        vertical-align: top;\n",
       "    }\n",
       "\n",
       "    .dataframe thead th {\n",
       "        text-align: right;\n",
       "    }\n",
       "</style>\n",
       "<table border=\"1\" class=\"dataframe\">\n",
       "  <thead>\n",
       "    <tr style=\"text-align: right;\">\n",
       "      <th></th>\n",
       "      <th>age</th>\n",
       "      <th>campaign</th>\n",
       "      <th>emp.var.rate</th>\n",
       "      <th>cons.price.idx</th>\n",
       "      <th>cons.conf.idx</th>\n",
       "      <th>euribor3m</th>\n",
       "      <th>nr.employed</th>\n",
       "      <th>job_blue-collar</th>\n",
       "      <th>job_entrepreneur</th>\n",
       "      <th>job_housemaid</th>\n",
       "      <th>job_management</th>\n",
       "      <th>job_retired</th>\n",
       "      <th>job_self-employed</th>\n",
       "      <th>job_services</th>\n",
       "      <th>job_student</th>\n",
       "      <th>job_technician</th>\n",
       "      <th>job_unemployed</th>\n",
       "      <th>job_unknown</th>\n",
       "      <th>marital_married</th>\n",
       "      <th>marital_single</th>\n",
       "      <th>education_Secondary_Education</th>\n",
       "      <th>education_Tertiary_Education</th>\n",
       "      <th>education_professional.course</th>\n",
       "      <th>education_unknown</th>\n",
       "      <th>default_unknown</th>\n",
       "      <th>default_yes</th>\n",
       "      <th>housing_unknown</th>\n",
       "      <th>housing_yes</th>\n",
       "      <th>loan_unknown</th>\n",
       "      <th>loan_yes</th>\n",
       "      <th>contact_telephone</th>\n",
       "      <th>month_aug</th>\n",
       "      <th>month_dec</th>\n",
       "      <th>month_jul</th>\n",
       "      <th>month_jun</th>\n",
       "      <th>month_mar</th>\n",
       "      <th>month_may</th>\n",
       "      <th>month_nov</th>\n",
       "      <th>month_oct</th>\n",
       "      <th>month_sep</th>\n",
       "      <th>day_of_week_mon</th>\n",
       "      <th>day_of_week_thu</th>\n",
       "      <th>day_of_week_tue</th>\n",
       "      <th>day_of_week_wed</th>\n",
       "      <th>pdays_Contacted_in_first_10days</th>\n",
       "      <th>pdays_First_time_contacted</th>\n",
       "      <th>previous_More than_3_times</th>\n",
       "      <th>previous_Never contacted</th>\n",
       "      <th>poutcome_nonexistent</th>\n",
       "      <th>poutcome_success</th>\n",
       "    </tr>\n",
       "  </thead>\n",
       "  <tbody>\n",
       "    <tr>\n",
       "      <th>30972</th>\n",
       "      <td>1.473443</td>\n",
       "      <td>-0.212441</td>\n",
       "      <td>-1.190381</td>\n",
       "      <td>-1.171406</td>\n",
       "      <td>-1.228188</td>\n",
       "      <td>-1.308623</td>\n",
       "      <td>-0.938531</td>\n",
       "      <td>1</td>\n",
       "      <td>0</td>\n",
       "      <td>0</td>\n",
       "      <td>0</td>\n",
       "      <td>0</td>\n",
       "      <td>0</td>\n",
       "      <td>0</td>\n",
       "      <td>0</td>\n",
       "      <td>0</td>\n",
       "      <td>0</td>\n",
       "      <td>0</td>\n",
       "      <td>1</td>\n",
       "      <td>0</td>\n",
       "      <td>1</td>\n",
       "      <td>0</td>\n",
       "      <td>0</td>\n",
       "      <td>0</td>\n",
       "      <td>0</td>\n",
       "      <td>0</td>\n",
       "      <td>0</td>\n",
       "      <td>0</td>\n",
       "      <td>0</td>\n",
       "      <td>0</td>\n",
       "      <td>0</td>\n",
       "      <td>0</td>\n",
       "      <td>0</td>\n",
       "      <td>0</td>\n",
       "      <td>0</td>\n",
       "      <td>0</td>\n",
       "      <td>1</td>\n",
       "      <td>0</td>\n",
       "      <td>0</td>\n",
       "      <td>0</td>\n",
       "      <td>0</td>\n",
       "      <td>0</td>\n",
       "      <td>1</td>\n",
       "      <td>0</td>\n",
       "      <td>0</td>\n",
       "      <td>1</td>\n",
       "      <td>0</td>\n",
       "      <td>1</td>\n",
       "      <td>1</td>\n",
       "      <td>0</td>\n",
       "    </tr>\n",
       "    <tr>\n",
       "      <th>18642</th>\n",
       "      <td>0.787277</td>\n",
       "      <td>5.043844</td>\n",
       "      <td>0.839645</td>\n",
       "      <td>0.592998</td>\n",
       "      <td>-0.474787</td>\n",
       "      <td>0.777856</td>\n",
       "      <td>0.845761</td>\n",
       "      <td>1</td>\n",
       "      <td>0</td>\n",
       "      <td>0</td>\n",
       "      <td>0</td>\n",
       "      <td>0</td>\n",
       "      <td>0</td>\n",
       "      <td>0</td>\n",
       "      <td>0</td>\n",
       "      <td>0</td>\n",
       "      <td>0</td>\n",
       "      <td>0</td>\n",
       "      <td>1</td>\n",
       "      <td>0</td>\n",
       "      <td>0</td>\n",
       "      <td>0</td>\n",
       "      <td>1</td>\n",
       "      <td>0</td>\n",
       "      <td>0</td>\n",
       "      <td>0</td>\n",
       "      <td>0</td>\n",
       "      <td>0</td>\n",
       "      <td>0</td>\n",
       "      <td>0</td>\n",
       "      <td>0</td>\n",
       "      <td>0</td>\n",
       "      <td>0</td>\n",
       "      <td>1</td>\n",
       "      <td>0</td>\n",
       "      <td>0</td>\n",
       "      <td>0</td>\n",
       "      <td>0</td>\n",
       "      <td>0</td>\n",
       "      <td>0</td>\n",
       "      <td>0</td>\n",
       "      <td>1</td>\n",
       "      <td>0</td>\n",
       "      <td>0</td>\n",
       "      <td>0</td>\n",
       "      <td>1</td>\n",
       "      <td>0</td>\n",
       "      <td>1</td>\n",
       "      <td>1</td>\n",
       "      <td>0</td>\n",
       "    </tr>\n",
       "  </tbody>\n",
       "</table>\n",
       "</div>"
      ],
      "text/plain": [
       "            age  campaign  emp.var.rate  cons.price.idx  cons.conf.idx  euribor3m  nr.employed  job_blue-collar  job_entrepreneur  job_housemaid  job_management  job_retired  job_self-employed  job_services  job_student  job_technician  job_unemployed  job_unknown  marital_married  marital_single  education_Secondary_Education  education_Tertiary_Education  education_professional.course  education_unknown  default_unknown  default_yes  housing_unknown  housing_yes  loan_unknown  loan_yes  contact_telephone  month_aug  month_dec  month_jul  month_jun  month_mar  month_may  month_nov  month_oct  month_sep  day_of_week_mon  day_of_week_thu  day_of_week_tue  day_of_week_wed  pdays_Contacted_in_first_10days  pdays_First_time_contacted  previous_More than_3_times  previous_Never contacted  poutcome_nonexistent  poutcome_success\n",
       "30972  1.473443 -0.212441     -1.190381       -1.171406      -1.228188  -1.308623    -0.938531                1                 0              0               0            0                  0             0            0               0               0            0                1               0                              1                             0                              0                  0                0            0                0            0             0         0                  0          0          0          0          0          0          1          0          0          0                0                0                1                0                                0                           1                           0                         1                     1                 0\n",
       "18642  0.787277  5.043844      0.839645        0.592998      -0.474787   0.777856     0.845761                1                 0              0               0            0                  0             0            0               0               0            0                1               0                              0                             0                              1                  0                0            0                0            0             0         0                  0          0          0          1          0          0          0          0          0          0                0                1                0                0                                0                           1                           0                         1                     1                 0"
      ]
     },
     "execution_count": 76,
     "metadata": {},
     "output_type": "execute_result"
    }
   ],
   "source": [
    "X_train.sample(2)"
   ]
  },
  {
   "cell_type": "markdown",
   "metadata": {},
   "source": [
    "#### Building Logistic regression and using usual RFE for variable selection"
   ]
  },
  {
   "cell_type": "code",
   "execution_count": 77,
   "metadata": {
    "scrolled": false
   },
   "outputs": [
    {
     "name": "stderr",
     "output_type": "stream",
     "text": [
      "[Parallel(n_jobs=1)]: Using backend SequentialBackend with 1 concurrent workers.\n",
      "[Parallel(n_jobs=1)]: Done   5 out of   5 | elapsed:    3.1s finished\n"
     ]
    },
    {
     "data": {
      "text/plain": [
       "0.8991363650479549"
      ]
     },
     "execution_count": 77,
     "metadata": {},
     "output_type": "execute_result"
    }
   ],
   "source": [
    "cross_val_score(LogisticRegression(),X_train,y_train,cv=5,scoring='accuracy',verbose=1).mean()"
   ]
  },
  {
   "cell_type": "markdown",
   "metadata": {},
   "source": [
    "#### Lets do grid search to find the optimum number of features"
   ]
  },
  {
   "cell_type": "code",
   "execution_count": 78,
   "metadata": {},
   "outputs": [
    {
     "name": "stderr",
     "output_type": "stream",
     "text": [
      "[Parallel(n_jobs=-1)]: Using backend LokyBackend with 4 concurrent workers.\n"
     ]
    },
    {
     "name": "stdout",
     "output_type": "stream",
     "text": [
      "Fitting 5 folds for each of 51 candidates, totalling 255 fits\n"
     ]
    },
    {
     "name": "stderr",
     "output_type": "stream",
     "text": [
      "[Parallel(n_jobs=-1)]: Done  42 tasks      | elapsed:  5.0min\n",
      "[Parallel(n_jobs=-1)]: Done 192 tasks      | elapsed: 17.3min\n",
      "[Parallel(n_jobs=-1)]: Done 255 out of 255 | elapsed: 18.7min finished\n"
     ]
    },
    {
     "data": {
      "text/plain": [
       "GridSearchCV(cv=StratifiedKFold(n_splits=5, random_state=4, shuffle=True),\n",
       "             error_score='raise-deprecating',\n",
       "             estimator=RFE(estimator=LogisticRegression(C=1.0,\n",
       "                                                        class_weight=None,\n",
       "                                                        dual=False,\n",
       "                                                        fit_intercept=True,\n",
       "                                                        intercept_scaling=1,\n",
       "                                                        l1_ratio=None,\n",
       "                                                        max_iter=100,\n",
       "                                                        multi_class='warn',\n",
       "                                                        n_jobs=None,\n",
       "                                                        penalty='l2',\n",
       "                                                        random_state=None,\n",
       "                                                        solver='warn',\n",
       "                                                        tol=0.0001, verbose=0,\n",
       "                                                        warm_start=False),\n",
       "                           n_features_to_select=None, step=1, verbose=0),\n",
       "             iid='warn', n_jobs=-1,\n",
       "             param_grid={'n_features_to_select': [1, 2, 3, 4, 5, 6, 7, 8, 9, 10,\n",
       "                                                  11, 12, 13, 14, 15, 16, 17,\n",
       "                                                  18, 19, 20, 21, 22, 23, 24,\n",
       "                                                  25, 26, 27, 28, 29, 30, ...]},\n",
       "             pre_dispatch='2*n_jobs', refit=True, return_train_score=True,\n",
       "             scoring='accuracy', verbose=1)"
      ]
     },
     "execution_count": 78,
     "metadata": {},
     "output_type": "execute_result"
    }
   ],
   "source": [
    "cv = StratifiedKFold(n_splits = 5, shuffle = True, random_state = 4)\n",
    "lm = LogisticRegression()\n",
    "rfe = RFE(lm)\n",
    "params = {'n_features_to_select':list(range(1, 52))}\n",
    "# params = {'n_features_to_select':(10,20,30,40)}\n",
    "\n",
    "model_cv = GridSearchCV(rfe,\n",
    "                        param_grid=params,\n",
    "                        scoring='accuracy',\n",
    "                        cv=cv,\n",
    "                        verbose=1,\n",
    "                       return_train_score=True,\n",
    "                       n_jobs=-1)\n",
    "model_cv.fit(X_train,y_train)"
   ]
  },
  {
   "cell_type": "code",
   "execution_count": 79,
   "metadata": {},
   "outputs": [],
   "source": [
    "model_cv_res = pd.DataFrame(model_cv.cv_results_)"
   ]
  },
  {
   "cell_type": "code",
   "execution_count": 80,
   "metadata": {},
   "outputs": [
    {
     "data": {
      "image/png": "[encoded data removed]",
      "text/plain": [
       "<Figure size 432x288 with 1 Axes>"
      ]
     },
     "metadata": {},
     "output_type": "display_data"
    }
   ],
   "source": [
    "plt.plot(model_cv_res.param_n_features_to_select,model_cv_res.mean_train_score)\n",
    "plt.plot(model_cv_res.param_n_features_to_select,model_cv_res.mean_test_score)\n",
    "plt.grid()\n",
    "plt.show()"
   ]
  },
  {
   "cell_type": "code",
   "execution_count": 81,
   "metadata": {},
   "outputs": [
    {
     "name": "stdout",
     "output_type": "stream",
     "text": [
      "{'n_features_to_select': 14}\n",
      "0.8991016614061254\n"
     ]
    }
   ],
   "source": [
    "print(model_cv.best_params_)\n",
    "print(model_cv.best_score_)"
   ]
  },
  {
   "cell_type": "markdown",
   "metadata": {},
   "source": [
    "#### Lets select 14 feature"
   ]
  },
  {
   "cell_type": "code",
   "execution_count": 82,
   "metadata": {},
   "outputs": [
    {
     "data": {
      "text/plain": [
       "RFE(estimator=LogisticRegression(C=1.0, class_weight=None, dual=False,\n",
       "                                 fit_intercept=True, intercept_scaling=1,\n",
       "                                 l1_ratio=None, max_iter=100,\n",
       "                                 multi_class='warn', n_jobs=None, penalty='l2',\n",
       "                                 random_state=None, solver='warn', tol=0.0001,\n",
       "                                 verbose=0, warm_start=False),\n",
       "    n_features_to_select=14, step=1, verbose=0)"
      ]
     },
     "execution_count": 82,
     "metadata": {},
     "output_type": "execute_result"
    }
   ],
   "source": [
    "lm = LogisticRegression()\n",
    "rfe = RFE(estimator=lm,n_features_to_select=14)\n",
    "rfe.fit(X_train,y_train)"
   ]
  },
  {
   "cell_type": "code",
   "execution_count": 83,
   "metadata": {},
   "outputs": [
    {
     "data": {
      "text/plain": [
       "[('age', False, 37),\n",
       " ('campaign', False, 12),\n",
       " ('emp.var.rate', True, 1),\n",
       " ('cons.price.idx', True, 1),\n",
       " ('cons.conf.idx', False, 8),\n",
       " ('euribor3m', True, 1),\n",
       " ('nr.employed', False, 7),\n",
       " ('job_blue-collar', False, 5),\n",
       " ('job_entrepreneur', False, 36),\n",
       " ('job_housemaid', False, 17),\n",
       " ('job_management', False, 27),\n",
       " ('job_retired', False, 2),\n",
       " ('job_self-employed', False, 13),\n",
       " ('job_services', False, 10),\n",
       " ('job_student', True, 1),\n",
       " ('job_technician', False, 25),\n",
       " ('job_unemployed', False, 26),\n",
       " ('job_unknown', False, 21),\n",
       " ('marital_married', False, 29),\n",
       " ('marital_single', False, 23),\n",
       " ('education_Secondary_Education', False, 34),\n",
       " ('education_Tertiary_Education', False, 14),\n",
       " ('education_professional.course', False, 24),\n",
       " ('education_unknown', False, 22),\n",
       " ('default_unknown', False, 6),\n",
       " ('default_yes', False, 30),\n",
       " ('housing_unknown', False, 32),\n",
       " ('housing_yes', False, 33),\n",
       " ('loan_unknown', False, 20),\n",
       " ('loan_yes', False, 16),\n",
       " ('contact_telephone', True, 1),\n",
       " ('month_aug', True, 1),\n",
       " ('month_dec', False, 3),\n",
       " ('month_jul', False, 15),\n",
       " ('month_jun', True, 1),\n",
       " ('month_mar', True, 1),\n",
       " ('month_may', True, 1),\n",
       " ('month_nov', True, 1),\n",
       " ('month_oct', False, 28),\n",
       " ('month_sep', False, 35),\n",
       " ('day_of_week_mon', True, 1),\n",
       " ('day_of_week_thu', False, 18),\n",
       " ('day_of_week_tue', False, 19),\n",
       " ('day_of_week_wed', False, 9),\n",
       " ('pdays_Contacted_in_first_10days', False, 31),\n",
       " ('pdays_First_time_contacted', True, 1),\n",
       " ('previous_More than_3_times', False, 11),\n",
       " ('previous_Never contacted', False, 4),\n",
       " ('poutcome_nonexistent', True, 1),\n",
       " ('poutcome_success', True, 1)]"
      ]
     },
     "execution_count": 83,
     "metadata": {},
     "output_type": "execute_result"
    }
   ],
   "source": [
    "list(zip(X_train.columns,rfe.support_,rfe.ranking_))"
   ]
  },
  {
   "cell_type": "markdown",
   "metadata": {},
   "source": [
    "#### Creating baisc GLM model for modeling"
   ]
  },
  {
   "cell_type": "code",
   "execution_count": 84,
   "metadata": {},
   "outputs": [],
   "source": [
    "rfe_selected_columns = X_train.columns[rfe.support_]"
   ]
  },
  {
   "cell_type": "code",
   "execution_count": 85,
   "metadata": {},
   "outputs": [],
   "source": [
    "X_train = X_train[rfe_selected_columns]"
   ]
  },
  {
   "cell_type": "code",
   "execution_count": 86,
   "metadata": {},
   "outputs": [
    {
     "name": "stdout",
     "output_type": "stream",
     "text": [
      "                 Generalized Linear Model Regression Results                  \n",
      "==============================================================================\n",
      "Dep. Variable:                      y   No. Observations:                28831\n",
      "Model:                            GLM   Df Residuals:                    28816\n",
      "Model Family:                Binomial   Df Model:                           14\n",
      "Link Function:                  logit   Scale:                          1.0000\n",
      "Method:                          IRLS   Log-Likelihood:                -7991.7\n",
      "Date:                Mon, 04 Nov 2019   Deviance:                       15983.\n",
      "Time:                        20:25:06   Pearson chi2:                 2.88e+04\n",
      "No. Iterations:                     6                                         \n",
      "Covariance Type:            nonrobust                                         \n",
      "==============================================================================================\n",
      "                                 coef    std err          z      P>|z|      [0.025      0.975]\n",
      "----------------------------------------------------------------------------------------------\n",
      "const                         -1.4972      0.225     -6.645      0.000      -1.939      -1.056\n",
      "emp.var.rate                  -2.5044      0.151    -16.562      0.000      -2.801      -2.208\n",
      "cons.price.idx                 1.0336      0.058     17.917      0.000       0.921       1.147\n",
      "euribor3m                      1.0520      0.126      8.338      0.000       0.805       1.299\n",
      "job_student                    0.3714      0.103      3.602      0.000       0.169       0.573\n",
      "contact_telephone             -0.7543      0.072    -10.539      0.000      -0.895      -0.614\n",
      "month_aug                      0.5452      0.077      7.045      0.000       0.394       0.697\n",
      "month_jun                     -0.6020      0.083     -7.251      0.000      -0.765      -0.439\n",
      "month_mar                      1.4266      0.120     11.934      0.000       1.192       1.661\n",
      "month_may                     -0.4916      0.064     -7.695      0.000      -0.617      -0.366\n",
      "month_nov                     -0.5543      0.084     -6.585      0.000      -0.719      -0.389\n",
      "day_of_week_mon               -0.3488      0.054     -6.422      0.000      -0.455      -0.242\n",
      "pdays_First_time_contacted    -0.9862      0.226     -4.359      0.000      -1.430      -0.543\n",
      "poutcome_nonexistent           0.5291      0.067      7.935      0.000       0.398       0.660\n",
      "poutcome_success               0.9058      0.229      3.950      0.000       0.456       1.355\n",
      "==============================================================================================\n"
     ]
    }
   ],
   "source": [
    "X_train_1 = sm.add_constant(X_train)\n",
    "model_1 = sm.GLM(y_train,X_train_1,family=sm.families.Binomial()).fit()\n",
    "print(model_1.summary())"
   ]
  },
  {
   "cell_type": "markdown",
   "metadata": {},
   "source": [
    "#### The p value  for all the variables are zero so we can conclude all the selected column as relevant"
   ]
  },
  {
   "cell_type": "markdown",
   "metadata": {},
   "source": [
    "#### Above 14 are the selected variables using RFE"
   ]
  },
  {
   "cell_type": "code",
   "execution_count": 87,
   "metadata": {},
   "outputs": [],
   "source": [
    "train_prob = model_1.predict(X_train_1)"
   ]
  },
  {
   "cell_type": "markdown",
   "metadata": {},
   "source": [
    "### As per assignment purpose lets create a Logistic regression model"
   ]
  },
  {
   "cell_type": "markdown",
   "metadata": {},
   "source": [
    "#### ** Note I have already tried SMOTE and NearMiss technique for class imbalence issue but in both the cases my model is overfitting for test data "
   ]
  },
  {
   "cell_type": "markdown",
   "metadata": {},
   "source": [
    "#### I am using class_weight parameter to handle the class imbalence problem"
   ]
  },
  {
   "cell_type": "code",
   "execution_count": 88,
   "metadata": {},
   "outputs": [],
   "source": [
    "l_model = LogisticRegression(class_weight='balanced')\n",
    "X_train = X_train[rfe_selected_columns]\n",
    "l_model.fit(X_train,y_train)\n",
    "train_prob = l_model.predict_proba(X_train)[:,1]"
   ]
  },
  {
   "cell_type": "markdown",
   "metadata": {},
   "source": [
    "#### Below is the feature importence graph"
   ]
  },
  {
   "cell_type": "code",
   "execution_count": 177,
   "metadata": {},
   "outputs": [
    {
     "data": {
      "image/png": "[encoded data removed]",
      "text/plain": [
       "<Figure size 1152x360 with 1 Axes>"
      ]
     },
     "metadata": {},
     "output_type": "display_data"
    }
   ],
   "source": [
    "feature_importance = abs(l_model.coef_[0])\n",
    "feature_importance = 100.0 * (feature_importance / feature_importance.max())\n",
    "sorted_idx = np.argsort(feature_importance)\n",
    "pos = np.arange(sorted_idx.shape[0]) + .5\n",
    "featfig = plt.figure(figsize=(16,5))\n",
    "featax = featfig.add_subplot(1, 1, 1)\n",
    "featax.barh(pos, feature_importance[sorted_idx], align='center')\n",
    "featax.set_yticks(pos)\n",
    "featax.set_yticklabels(np.array(X_train.columns)[sorted_idx], fontsize=8)\n",
    "featax.set_xlabel('Relative Feature Importance')\n",
    "\n",
    "plt.tight_layout()   \n",
    "plt.show()"
   ]
  },
  {
   "cell_type": "markdown",
   "metadata": {},
   "source": [
    "#### Sorting the DataFrame in decreasing order of probability of response"
   ]
  },
  {
   "cell_type": "code",
   "execution_count": 89,
   "metadata": {},
   "outputs": [],
   "source": [
    "temp =pd.DataFrame(list(zip(X_train_p_id,train_prob)) )\n",
    "temp.columns = ['prospect_id','acc_prob']\n",
    "X_train_new = pd.concat([X_train.reset_index(),temp],axis='columns')"
   ]
  },
  {
   "cell_type": "code",
   "execution_count": 90,
   "metadata": {},
   "outputs": [
    {
     "data": {
      "text/html": [
       "<div>\n",
       "<style scoped>\n",
       "    .dataframe tbody tr th:only-of-type {\n",
       "        vertical-align: middle;\n",
       "    }\n",
       "\n",
       "    .dataframe tbody tr th {\n",
       "        vertical-align: top;\n",
       "    }\n",
       "\n",
       "    .dataframe thead th {\n",
       "        text-align: right;\n",
       "    }\n",
       "</style>\n",
       "<table border=\"1\" class=\"dataframe\">\n",
       "  <thead>\n",
       "    <tr style=\"text-align: right;\">\n",
       "      <th></th>\n",
       "      <th>index</th>\n",
       "      <th>emp.var.rate</th>\n",
       "      <th>cons.price.idx</th>\n",
       "      <th>euribor3m</th>\n",
       "      <th>job_student</th>\n",
       "      <th>contact_telephone</th>\n",
       "      <th>month_aug</th>\n",
       "      <th>month_jun</th>\n",
       "      <th>month_mar</th>\n",
       "      <th>month_may</th>\n",
       "      <th>month_nov</th>\n",
       "      <th>day_of_week_mon</th>\n",
       "      <th>pdays_First_time_contacted</th>\n",
       "      <th>poutcome_nonexistent</th>\n",
       "      <th>poutcome_success</th>\n",
       "      <th>prospect_id</th>\n",
       "      <th>acc_prob</th>\n",
       "    </tr>\n",
       "  </thead>\n",
       "  <tbody>\n",
       "    <tr>\n",
       "      <th>10617</th>\n",
       "      <td>40466</td>\n",
       "      <td>-1.126942</td>\n",
       "      <td>0.780627</td>\n",
       "      <td>-1.562524</td>\n",
       "      <td>1</td>\n",
       "      <td>0</td>\n",
       "      <td>1</td>\n",
       "      <td>0</td>\n",
       "      <td>0</td>\n",
       "      <td>0</td>\n",
       "      <td>0</td>\n",
       "      <td>0</td>\n",
       "      <td>0</td>\n",
       "      <td>0</td>\n",
       "      <td>1</td>\n",
       "      <td>40466</td>\n",
       "      <td>0.988510</td>\n",
       "    </tr>\n",
       "    <tr>\n",
       "      <th>15979</th>\n",
       "      <td>40365</td>\n",
       "      <td>-1.126942</td>\n",
       "      <td>0.780627</td>\n",
       "      <td>-1.564251</td>\n",
       "      <td>1</td>\n",
       "      <td>0</td>\n",
       "      <td>1</td>\n",
       "      <td>0</td>\n",
       "      <td>0</td>\n",
       "      <td>0</td>\n",
       "      <td>0</td>\n",
       "      <td>0</td>\n",
       "      <td>0</td>\n",
       "      <td>0</td>\n",
       "      <td>1</td>\n",
       "      <td>40365</td>\n",
       "      <td>0.988489</td>\n",
       "    </tr>\n",
       "    <tr>\n",
       "      <th>28446</th>\n",
       "      <td>40368</td>\n",
       "      <td>-1.126942</td>\n",
       "      <td>0.780627</td>\n",
       "      <td>-1.564251</td>\n",
       "      <td>1</td>\n",
       "      <td>0</td>\n",
       "      <td>1</td>\n",
       "      <td>0</td>\n",
       "      <td>0</td>\n",
       "      <td>0</td>\n",
       "      <td>0</td>\n",
       "      <td>0</td>\n",
       "      <td>0</td>\n",
       "      <td>0</td>\n",
       "      <td>1</td>\n",
       "      <td>40368</td>\n",
       "      <td>0.988489</td>\n",
       "    </tr>\n",
       "    <tr>\n",
       "      <th>15560</th>\n",
       "      <td>40364</td>\n",
       "      <td>-1.126942</td>\n",
       "      <td>0.780627</td>\n",
       "      <td>-1.564251</td>\n",
       "      <td>1</td>\n",
       "      <td>0</td>\n",
       "      <td>1</td>\n",
       "      <td>0</td>\n",
       "      <td>0</td>\n",
       "      <td>0</td>\n",
       "      <td>0</td>\n",
       "      <td>0</td>\n",
       "      <td>0</td>\n",
       "      <td>0</td>\n",
       "      <td>1</td>\n",
       "      <td>40364</td>\n",
       "      <td>0.988489</td>\n",
       "    </tr>\n",
       "    <tr>\n",
       "      <th>2292</th>\n",
       "      <td>40373</td>\n",
       "      <td>-1.126942</td>\n",
       "      <td>0.780627</td>\n",
       "      <td>-1.564251</td>\n",
       "      <td>1</td>\n",
       "      <td>0</td>\n",
       "      <td>1</td>\n",
       "      <td>0</td>\n",
       "      <td>0</td>\n",
       "      <td>0</td>\n",
       "      <td>0</td>\n",
       "      <td>0</td>\n",
       "      <td>0</td>\n",
       "      <td>0</td>\n",
       "      <td>1</td>\n",
       "      <td>40373</td>\n",
       "      <td>0.988489</td>\n",
       "    </tr>\n",
       "  </tbody>\n",
       "</table>\n",
       "</div>"
      ],
      "text/plain": [
       "       index  emp.var.rate  cons.price.idx  euribor3m  job_student  contact_telephone  month_aug  month_jun  month_mar  month_may  month_nov  day_of_week_mon  pdays_First_time_contacted  poutcome_nonexistent  poutcome_success  prospect_id  acc_prob\n",
       "10617  40466     -1.126942        0.780627  -1.562524            1                  0          1          0          0          0          0                0                           0                     0                 1        40466  0.988510\n",
       "15979  40365     -1.126942        0.780627  -1.564251            1                  0          1          0          0          0          0                0                           0                     0                 1        40365  0.988489\n",
       "28446  40368     -1.126942        0.780627  -1.564251            1                  0          1          0          0          0          0                0                           0                     0                 1        40368  0.988489\n",
       "15560  40364     -1.126942        0.780627  -1.564251            1                  0          1          0          0          0          0                0                           0                     0                 1        40364  0.988489\n",
       "2292   40373     -1.126942        0.780627  -1.564251            1                  0          1          0          0          0          0                0                           0                     0                 1        40373  0.988489"
      ]
     },
     "execution_count": 90,
     "metadata": {},
     "output_type": "execute_result"
    }
   ],
   "source": [
    "X_train_new = X_train_new.sort_values(by='acc_prob',ascending=False)\n",
    "X_train_new.head()"
   ]
  },
  {
   "cell_type": "markdown",
   "metadata": {},
   "source": [
    "#### Lets find the optimal cutoff"
   ]
  },
  {
   "cell_type": "code",
   "execution_count": 91,
   "metadata": {},
   "outputs": [],
   "source": [
    "opt_cutoff = pd.concat([X_train_new.acc_prob,pd.DataFrame(y_train)],axis=1)\n",
    "opt_cutoff.columns = ['acc_prob','actual_prob']\n",
    "opt_cutoff = pd.concat([opt_cutoff,X_train_new.prospect_id],axis=1)"
   ]
  },
  {
   "cell_type": "code",
   "execution_count": 92,
   "metadata": {},
   "outputs": [
    {
     "data": {
      "text/html": [
       "<div>\n",
       "<style scoped>\n",
       "    .dataframe tbody tr th:only-of-type {\n",
       "        vertical-align: middle;\n",
       "    }\n",
       "\n",
       "    .dataframe tbody tr th {\n",
       "        vertical-align: top;\n",
       "    }\n",
       "\n",
       "    .dataframe thead th {\n",
       "        text-align: right;\n",
       "    }\n",
       "</style>\n",
       "<table border=\"1\" class=\"dataframe\">\n",
       "  <thead>\n",
       "    <tr style=\"text-align: right;\">\n",
       "      <th></th>\n",
       "      <th>acc_prob</th>\n",
       "      <th>actual_prob</th>\n",
       "      <th>prospect_id</th>\n",
       "      <th>0.0</th>\n",
       "      <th>0.1</th>\n",
       "      <th>0.2</th>\n",
       "      <th>0.3</th>\n",
       "      <th>0.4</th>\n",
       "      <th>0.5</th>\n",
       "      <th>0.6</th>\n",
       "      <th>0.7</th>\n",
       "      <th>0.8</th>\n",
       "      <th>0.9</th>\n",
       "    </tr>\n",
       "  </thead>\n",
       "  <tbody>\n",
       "    <tr>\n",
       "      <th>0</th>\n",
       "      <td>0.353362</td>\n",
       "      <td>0</td>\n",
       "      <td>13306</td>\n",
       "      <td>1</td>\n",
       "      <td>1</td>\n",
       "      <td>1</td>\n",
       "      <td>1</td>\n",
       "      <td>0</td>\n",
       "      <td>0</td>\n",
       "      <td>0</td>\n",
       "      <td>0</td>\n",
       "      <td>0</td>\n",
       "      <td>0</td>\n",
       "    </tr>\n",
       "    <tr>\n",
       "      <th>1</th>\n",
       "      <td>0.212047</td>\n",
       "      <td>0</td>\n",
       "      <td>4842</td>\n",
       "      <td>1</td>\n",
       "      <td>1</td>\n",
       "      <td>1</td>\n",
       "      <td>0</td>\n",
       "      <td>0</td>\n",
       "      <td>0</td>\n",
       "      <td>0</td>\n",
       "      <td>0</td>\n",
       "      <td>0</td>\n",
       "      <td>0</td>\n",
       "    </tr>\n",
       "    <tr>\n",
       "      <th>2</th>\n",
       "      <td>0.480901</td>\n",
       "      <td>0</td>\n",
       "      <td>31776</td>\n",
       "      <td>1</td>\n",
       "      <td>1</td>\n",
       "      <td>1</td>\n",
       "      <td>1</td>\n",
       "      <td>1</td>\n",
       "      <td>0</td>\n",
       "      <td>0</td>\n",
       "      <td>0</td>\n",
       "      <td>0</td>\n",
       "      <td>0</td>\n",
       "    </tr>\n",
       "    <tr>\n",
       "      <th>3</th>\n",
       "      <td>0.304550</td>\n",
       "      <td>0</td>\n",
       "      <td>23992</td>\n",
       "      <td>1</td>\n",
       "      <td>1</td>\n",
       "      <td>1</td>\n",
       "      <td>1</td>\n",
       "      <td>0</td>\n",
       "      <td>0</td>\n",
       "      <td>0</td>\n",
       "      <td>0</td>\n",
       "      <td>0</td>\n",
       "      <td>0</td>\n",
       "    </tr>\n",
       "    <tr>\n",
       "      <th>4</th>\n",
       "      <td>0.353966</td>\n",
       "      <td>0</td>\n",
       "      <td>32306</td>\n",
       "      <td>1</td>\n",
       "      <td>1</td>\n",
       "      <td>1</td>\n",
       "      <td>1</td>\n",
       "      <td>0</td>\n",
       "      <td>0</td>\n",
       "      <td>0</td>\n",
       "      <td>0</td>\n",
       "      <td>0</td>\n",
       "      <td>0</td>\n",
       "    </tr>\n",
       "  </tbody>\n",
       "</table>\n",
       "</div>"
      ],
      "text/plain": [
       "   acc_prob  actual_prob  prospect_id  0.0  0.1  0.2  0.3  0.4  0.5  0.6  0.7  0.8  0.9\n",
       "0  0.353362            0        13306    1    1    1    1    0    0    0    0    0    0\n",
       "1  0.212047            0         4842    1    1    1    0    0    0    0    0    0    0\n",
       "2  0.480901            0        31776    1    1    1    1    1    0    0    0    0    0\n",
       "3  0.304550            0        23992    1    1    1    1    0    0    0    0    0    0\n",
       "4  0.353966            0        32306    1    1    1    1    0    0    0    0    0    0"
      ]
     },
     "execution_count": 92,
     "metadata": {},
     "output_type": "execute_result"
    }
   ],
   "source": [
    "numbers = [float(x)/10 for x in range(10)]\n",
    "for i in numbers:\n",
    "    opt_cutoff[i] = opt_cutoff.acc_prob.map(lambda x: 1 if x > i else 0)\n",
    "opt_cutoff.head()"
   ]
  },
  {
   "cell_type": "code",
   "execution_count": 93,
   "metadata": {},
   "outputs": [
    {
     "name": "stdout",
     "output_type": "stream",
     "text": [
      "     prob  accuracy     sensi     speci\n",
      "0.0   0.0  0.114009  1.000000  0.000000\n",
      "0.1   0.1  0.114009  1.000000  0.000000\n",
      "0.2   0.2  0.154521  0.988744  0.047174\n",
      "0.3   0.3  0.492976  0.862489  0.445427\n",
      "0.4   0.4  0.762859  0.702160  0.770670\n",
      "0.5   0.5  0.832680  0.628537  0.858949\n",
      "0.6   0.6  0.848323  0.606024  0.879502\n",
      "0.7   0.7  0.874302  0.520535  0.919825\n",
      "0.8   0.8  0.890985  0.388500  0.955645\n",
      "0.9   0.9  0.898928  0.212656  0.987238\n"
     ]
    }
   ],
   "source": [
    "cutoff_df = pd.DataFrame( columns = ['prob','accuracy','sensi','speci'])\n",
    "from sklearn.metrics import confusion_matrix\n",
    "num = [0.0,0.1,0.2,0.3,0.4,0.5,0.6,0.7,0.8,0.9]\n",
    "for i in num:\n",
    "    cm1 = confusion_matrix(opt_cutoff.actual_prob, opt_cutoff[i] )\n",
    "    total1=sum(sum(cm1))\n",
    "    accuracy = (cm1[0,0]+cm1[1,1])/total1\n",
    "    \n",
    "    speci = cm1[0,0]/(cm1[0,0]+cm1[0,1])\n",
    "    sensi = cm1[1,1]/(cm1[1,0]+cm1[1,1])\n",
    "    cutoff_df.loc[i] =[ i ,accuracy,sensi,speci]\n",
    "print(cutoff_df)"
   ]
  },
  {
   "cell_type": "markdown",
   "metadata": {},
   "source": [
    "#### Finding the optimal cutoff according to the below graph the optimal cuttoff is showing as 0.3"
   ]
  },
  {
   "cell_type": "code",
   "execution_count": 94,
   "metadata": {},
   "outputs": [
    {
     "data": {
      "image/png": "[encoded data removed]",
      "text/plain": [
       "<Figure size 432x288 with 1 Axes>"
      ]
     },
     "metadata": {},
     "output_type": "display_data"
    }
   ],
   "source": [
    "# Let's plot accuracy sensitivity and specificity for various probabilities.\n",
    "cutoff_df.plot.line(x='prob', y=['accuracy','sensi','speci'])\n",
    "plt.show()"
   ]
  },
  {
   "cell_type": "markdown",
   "metadata": {},
   "source": [
    "#### We can see that the selected optimal cutoff is 0.4"
   ]
  },
  {
   "cell_type": "code",
   "execution_count": 95,
   "metadata": {},
   "outputs": [],
   "source": [
    "opt_cutoff['final_pred'] = opt_cutoff.acc_prob.map(lambda x : 1 if x>0.4 else 0)"
   ]
  },
  {
   "cell_type": "code",
   "execution_count": 96,
   "metadata": {},
   "outputs": [
    {
     "data": {
      "text/html": [
       "<div>\n",
       "<style scoped>\n",
       "    .dataframe tbody tr th:only-of-type {\n",
       "        vertical-align: middle;\n",
       "    }\n",
       "\n",
       "    .dataframe tbody tr th {\n",
       "        vertical-align: top;\n",
       "    }\n",
       "\n",
       "    .dataframe thead th {\n",
       "        text-align: right;\n",
       "    }\n",
       "</style>\n",
       "<table border=\"1\" class=\"dataframe\">\n",
       "  <thead>\n",
       "    <tr style=\"text-align: right;\">\n",
       "      <th></th>\n",
       "      <th>acc_prob</th>\n",
       "      <th>actual_prob</th>\n",
       "      <th>prospect_id</th>\n",
       "      <th>0.0</th>\n",
       "      <th>0.1</th>\n",
       "      <th>0.2</th>\n",
       "      <th>0.3</th>\n",
       "      <th>0.4</th>\n",
       "      <th>0.5</th>\n",
       "      <th>0.6</th>\n",
       "      <th>0.7</th>\n",
       "      <th>0.8</th>\n",
       "      <th>0.9</th>\n",
       "      <th>final_pred</th>\n",
       "    </tr>\n",
       "  </thead>\n",
       "  <tbody>\n",
       "    <tr>\n",
       "      <th>0</th>\n",
       "      <td>0.353362</td>\n",
       "      <td>0</td>\n",
       "      <td>13306</td>\n",
       "      <td>1</td>\n",
       "      <td>1</td>\n",
       "      <td>1</td>\n",
       "      <td>1</td>\n",
       "      <td>0</td>\n",
       "      <td>0</td>\n",
       "      <td>0</td>\n",
       "      <td>0</td>\n",
       "      <td>0</td>\n",
       "      <td>0</td>\n",
       "      <td>0</td>\n",
       "    </tr>\n",
       "    <tr>\n",
       "      <th>1</th>\n",
       "      <td>0.212047</td>\n",
       "      <td>0</td>\n",
       "      <td>4842</td>\n",
       "      <td>1</td>\n",
       "      <td>1</td>\n",
       "      <td>1</td>\n",
       "      <td>0</td>\n",
       "      <td>0</td>\n",
       "      <td>0</td>\n",
       "      <td>0</td>\n",
       "      <td>0</td>\n",
       "      <td>0</td>\n",
       "      <td>0</td>\n",
       "      <td>0</td>\n",
       "    </tr>\n",
       "    <tr>\n",
       "      <th>2</th>\n",
       "      <td>0.480901</td>\n",
       "      <td>0</td>\n",
       "      <td>31776</td>\n",
       "      <td>1</td>\n",
       "      <td>1</td>\n",
       "      <td>1</td>\n",
       "      <td>1</td>\n",
       "      <td>1</td>\n",
       "      <td>0</td>\n",
       "      <td>0</td>\n",
       "      <td>0</td>\n",
       "      <td>0</td>\n",
       "      <td>0</td>\n",
       "      <td>1</td>\n",
       "    </tr>\n",
       "    <tr>\n",
       "      <th>3</th>\n",
       "      <td>0.304550</td>\n",
       "      <td>0</td>\n",
       "      <td>23992</td>\n",
       "      <td>1</td>\n",
       "      <td>1</td>\n",
       "      <td>1</td>\n",
       "      <td>1</td>\n",
       "      <td>0</td>\n",
       "      <td>0</td>\n",
       "      <td>0</td>\n",
       "      <td>0</td>\n",
       "      <td>0</td>\n",
       "      <td>0</td>\n",
       "      <td>0</td>\n",
       "    </tr>\n",
       "    <tr>\n",
       "      <th>4</th>\n",
       "      <td>0.353966</td>\n",
       "      <td>0</td>\n",
       "      <td>32306</td>\n",
       "      <td>1</td>\n",
       "      <td>1</td>\n",
       "      <td>1</td>\n",
       "      <td>1</td>\n",
       "      <td>0</td>\n",
       "      <td>0</td>\n",
       "      <td>0</td>\n",
       "      <td>0</td>\n",
       "      <td>0</td>\n",
       "      <td>0</td>\n",
       "      <td>0</td>\n",
       "    </tr>\n",
       "  </tbody>\n",
       "</table>\n",
       "</div>"
      ],
      "text/plain": [
       "   acc_prob  actual_prob  prospect_id  0.0  0.1  0.2  0.3  0.4  0.5  0.6  0.7  0.8  0.9  final_pred\n",
       "0  0.353362            0        13306    1    1    1    1    0    0    0    0    0    0           0\n",
       "1  0.212047            0         4842    1    1    1    0    0    0    0    0    0    0           0\n",
       "2  0.480901            0        31776    1    1    1    1    1    0    0    0    0    0           1\n",
       "3  0.304550            0        23992    1    1    1    1    0    0    0    0    0    0           0\n",
       "4  0.353966            0        32306    1    1    1    1    0    0    0    0    0    0           0"
      ]
     },
     "execution_count": 96,
     "metadata": {},
     "output_type": "execute_result"
    }
   ],
   "source": [
    "opt_cutoff.head()"
   ]
  },
  {
   "cell_type": "code",
   "execution_count": 97,
   "metadata": {},
   "outputs": [
    {
     "data": {
      "text/plain": [
       "0.7628594221497693"
      ]
     },
     "execution_count": 97,
     "metadata": {},
     "output_type": "execute_result"
    }
   ],
   "source": [
    "accuracy_score(opt_cutoff.actual_prob,opt_cutoff.final_pred)"
   ]
  },
  {
   "cell_type": "code",
   "execution_count": 98,
   "metadata": {},
   "outputs": [
    {
     "name": "stdout",
     "output_type": "stream",
     "text": [
      "              precision    recall  f1-score   support\n",
      "\n",
      "           0       0.95      0.77      0.85     25544\n",
      "           1       0.28      0.70      0.40      3287\n",
      "\n",
      "    accuracy                           0.76     28831\n",
      "   macro avg       0.62      0.74      0.63     28831\n",
      "weighted avg       0.88      0.76      0.80     28831\n",
      "\n"
     ]
    }
   ],
   "source": [
    "print(classification_report(opt_cutoff.actual_prob,opt_cutoff.final_pred))"
   ]
  },
  {
   "cell_type": "code",
   "execution_count": 99,
   "metadata": {},
   "outputs": [
    {
     "data": {
      "text/plain": [
       "array([[19686,  5858],\n",
       "       [  979,  2308]], dtype=int64)"
      ]
     },
     "execution_count": 99,
     "metadata": {},
     "output_type": "execute_result"
    }
   ],
   "source": [
    "confusion_matrix(opt_cutoff.actual_prob,opt_cutoff.final_pred)"
   ]
  },
  {
   "cell_type": "code",
   "execution_count": 100,
   "metadata": {},
   "outputs": [
    {
     "data": {
      "text/plain": [
       "0.736415120218008"
      ]
     },
     "execution_count": 100,
     "metadata": {},
     "output_type": "execute_result"
    }
   ],
   "source": [
    "roc_auc_score(opt_cutoff.actual_prob,opt_cutoff.final_pred)"
   ]
  },
  {
   "cell_type": "code",
   "execution_count": 101,
   "metadata": {},
   "outputs": [
    {
     "data": {
      "text/plain": [
       "0.28263531716874846"
      ]
     },
     "execution_count": 101,
     "metadata": {},
     "output_type": "execute_result"
    }
   ],
   "source": [
    "precision_score(opt_cutoff.actual_prob,opt_cutoff.final_pred)"
   ]
  },
  {
   "cell_type": "code",
   "execution_count": 102,
   "metadata": {},
   "outputs": [
    {
     "data": {
      "text/plain": [
       "0.7021600243383024"
      ]
     },
     "execution_count": 102,
     "metadata": {},
     "output_type": "execute_result"
    }
   ],
   "source": [
    "recall_score(opt_cutoff.actual_prob,opt_cutoff.final_pred)"
   ]
  },
  {
   "cell_type": "markdown",
   "metadata": {},
   "source": [
    "#### Lets try the prediction on the test data"
   ]
  },
  {
   "cell_type": "code",
   "execution_count": 103,
   "metadata": {},
   "outputs": [],
   "source": [
    "X_test = X_test[rfe_selected_columns]\n",
    "# X_test = sm.add_constant(X_test)\n",
    "test_df_pred = l_model.predict_proba(X_test)[:,1]\n",
    "test_df_pred = pd.DataFrame(test_df_pred).reset_index()\n",
    "y_test = pd.DataFrame(y_test)"
   ]
  },
  {
   "cell_type": "code",
   "execution_count": 104,
   "metadata": {},
   "outputs": [],
   "source": [
    "test_df_new = pd.concat([test_df_pred,y_test],axis=1)\n",
    "test_df_new = test_df_new.drop('index',axis='columns')\n",
    "test_df_new.columns = ['pred_prob','actual']"
   ]
  },
  {
   "cell_type": "code",
   "execution_count": 105,
   "metadata": {},
   "outputs": [
    {
     "data": {
      "text/html": [
       "<div>\n",
       "<style scoped>\n",
       "    .dataframe tbody tr th:only-of-type {\n",
       "        vertical-align: middle;\n",
       "    }\n",
       "\n",
       "    .dataframe tbody tr th {\n",
       "        vertical-align: top;\n",
       "    }\n",
       "\n",
       "    .dataframe thead th {\n",
       "        text-align: right;\n",
       "    }\n",
       "</style>\n",
       "<table border=\"1\" class=\"dataframe\">\n",
       "  <thead>\n",
       "    <tr style=\"text-align: right;\">\n",
       "      <th></th>\n",
       "      <th>pred_prob</th>\n",
       "      <th>actual</th>\n",
       "      <th>pred_class</th>\n",
       "    </tr>\n",
       "  </thead>\n",
       "  <tbody>\n",
       "    <tr>\n",
       "      <th>0</th>\n",
       "      <td>0.743247</td>\n",
       "      <td>1</td>\n",
       "      <td>1</td>\n",
       "    </tr>\n",
       "    <tr>\n",
       "      <th>1</th>\n",
       "      <td>0.211843</td>\n",
       "      <td>0</td>\n",
       "      <td>0</td>\n",
       "    </tr>\n",
       "    <tr>\n",
       "      <th>2</th>\n",
       "      <td>0.172266</td>\n",
       "      <td>0</td>\n",
       "      <td>0</td>\n",
       "    </tr>\n",
       "    <tr>\n",
       "      <th>3</th>\n",
       "      <td>0.358745</td>\n",
       "      <td>0</td>\n",
       "      <td>0</td>\n",
       "    </tr>\n",
       "    <tr>\n",
       "      <th>4</th>\n",
       "      <td>0.211740</td>\n",
       "      <td>0</td>\n",
       "      <td>0</td>\n",
       "    </tr>\n",
       "  </tbody>\n",
       "</table>\n",
       "</div>"
      ],
      "text/plain": [
       "   pred_prob  actual  pred_class\n",
       "0   0.743247       1           1\n",
       "1   0.211843       0           0\n",
       "2   0.172266       0           0\n",
       "3   0.358745       0           0\n",
       "4   0.211740       0           0"
      ]
     },
     "execution_count": 105,
     "metadata": {},
     "output_type": "execute_result"
    }
   ],
   "source": [
    "test_df_new['pred_class'] = test_df_new.pred_prob.map(lambda x : 1 if x>0.4 else 0)\n",
    "test_df_new.head()"
   ]
  },
  {
   "cell_type": "code",
   "execution_count": 106,
   "metadata": {},
   "outputs": [
    {
     "data": {
      "text/plain": [
       "0.7585174395079712"
      ]
     },
     "execution_count": 106,
     "metadata": {},
     "output_type": "execute_result"
    }
   ],
   "source": [
    "accuracy_score(test_df_new.actual,test_df_new.pred_class)"
   ]
  },
  {
   "cell_type": "code",
   "execution_count": 107,
   "metadata": {},
   "outputs": [
    {
     "name": "stdout",
     "output_type": "stream",
     "text": [
      "              precision    recall  f1-score   support\n",
      "\n",
      "           0       0.95      0.77      0.85     11004\n",
      "           1       0.27      0.68      0.38      1353\n",
      "\n",
      "    accuracy                           0.76     12357\n",
      "   macro avg       0.61      0.72      0.62     12357\n",
      "weighted avg       0.88      0.76      0.80     12357\n",
      "\n"
     ]
    }
   ],
   "source": [
    "print(classification_report(test_df_new.actual,test_df_new.pred_class))"
   ]
  },
  {
   "cell_type": "code",
   "execution_count": 108,
   "metadata": {},
   "outputs": [
    {
     "data": {
      "text/plain": [
       "array([[8451, 2553],\n",
       "       [ 431,  922]], dtype=int64)"
      ]
     },
     "execution_count": 108,
     "metadata": {},
     "output_type": "execute_result"
    }
   ],
   "source": [
    "confusion_matrix(test_df_new.actual,test_df_new.pred_class)"
   ]
  },
  {
   "cell_type": "code",
   "execution_count": 109,
   "metadata": {},
   "outputs": [
    {
     "data": {
      "text/plain": [
       "0.7247210447964497"
      ]
     },
     "execution_count": 109,
     "metadata": {},
     "output_type": "execute_result"
    }
   ],
   "source": [
    "roc_auc_score(test_df_new.actual,test_df_new.pred_class)"
   ]
  },
  {
   "cell_type": "code",
   "execution_count": 110,
   "metadata": {},
   "outputs": [
    {
     "data": {
      "text/plain": [
       "0.7247210447964497"
      ]
     },
     "execution_count": 110,
     "metadata": {},
     "output_type": "execute_result"
    }
   ],
   "source": [
    "roc_auc_score(test_df_new.actual,test_df_new.pred_class)"
   ]
  },
  {
   "cell_type": "code",
   "execution_count": 111,
   "metadata": {},
   "outputs": [],
   "source": [
    "from sklearn.metrics import roc_curve\n",
    "fpr,tpr,thresh = roc_curve(test_df_new.actual,test_df_new.pred_prob)"
   ]
  },
  {
   "cell_type": "code",
   "execution_count": 112,
   "metadata": {},
   "outputs": [
    {
     "data": {
      "image/png": "[encoded data removed]",
      "text/plain": [
       "<Figure size 432x288 with 1 Axes>"
      ]
     },
     "metadata": {},
     "output_type": "display_data"
    }
   ],
   "source": [
    "plt.plot(fpr,tpr)\n",
    "plt.title('receiver operating characteristic')\n",
    "plt.show()"
   ]
  },
  {
   "cell_type": "code",
   "execution_count": 113,
   "metadata": {},
   "outputs": [
    {
     "data": {
      "text/plain": [
       "8.340677359767966"
      ]
     },
     "execution_count": 113,
     "metadata": {},
     "output_type": "execute_result"
    }
   ],
   "source": [
    "log_loss(test_df_new.actual,test_df_new.pred_class)"
   ]
  },
  {
   "cell_type": "markdown",
   "metadata": {},
   "source": [
    "#### We can see the log loss is very high but for a basic logistic regression model this is ok"
   ]
  },
  {
   "cell_type": "markdown",
   "metadata": {},
   "source": [
    "#### Creating a data frame with the variables prospect ID, actual response, predicted response, predicted probability of response, duration of the call in seconds and cost of the call"
   ]
  },
  {
   "cell_type": "markdown",
   "metadata": {},
   "source": [
    "#### Performing this operations on the test dataset"
   ]
  },
  {
   "cell_type": "code",
   "execution_count": 114,
   "metadata": {},
   "outputs": [],
   "source": [
    "X_test_p_id = X_test_p_id.reset_index()\n",
    "test_df_new = pd.concat([test_df_new,X_test_p_id],axis='columns')\n",
    "test_df_new = test_df_new.drop('index',axis='columns')"
   ]
  },
  {
   "cell_type": "code",
   "execution_count": 115,
   "metadata": {},
   "outputs": [],
   "source": [
    "X_test_duration = pd.DataFrame(X_test_duration)\n",
    "X_test_duration = X_test_duration.reset_index()\n",
    "X_test_duration = X_test_duration.drop('index',axis=1)"
   ]
  },
  {
   "cell_type": "code",
   "execution_count": 116,
   "metadata": {},
   "outputs": [],
   "source": [
    "test_df_new=pd.concat([test_df_new,X_test_duration],axis='columns')"
   ]
  },
  {
   "cell_type": "markdown",
   "metadata": {},
   "source": [
    "#### Lets assume that the cost of call for 1 min is 1 rupees  as the duration is in seconds so i am deviding that with 60"
   ]
  },
  {
   "cell_type": "code",
   "execution_count": 117,
   "metadata": {},
   "outputs": [],
   "source": [
    "test_df_new['cost_per_call'] = test_df_new.duration/60 * 1 "
   ]
  },
  {
   "cell_type": "code",
   "execution_count": 118,
   "metadata": {},
   "outputs": [],
   "source": [
    "test_df_new.columns= ['predicted_probability','actual_response','predicted_response','prospect_id','duration','cost_of_the_call']"
   ]
  },
  {
   "cell_type": "code",
   "execution_count": 119,
   "metadata": {},
   "outputs": [
    {
     "data": {
      "text/html": [
       "<div>\n",
       "<style scoped>\n",
       "    .dataframe tbody tr th:only-of-type {\n",
       "        vertical-align: middle;\n",
       "    }\n",
       "\n",
       "    .dataframe tbody tr th {\n",
       "        vertical-align: top;\n",
       "    }\n",
       "\n",
       "    .dataframe thead th {\n",
       "        text-align: right;\n",
       "    }\n",
       "</style>\n",
       "<table border=\"1\" class=\"dataframe\">\n",
       "  <thead>\n",
       "    <tr style=\"text-align: right;\">\n",
       "      <th></th>\n",
       "      <th>predicted_probability</th>\n",
       "      <th>actual_response</th>\n",
       "      <th>predicted_response</th>\n",
       "      <th>prospect_id</th>\n",
       "      <th>duration</th>\n",
       "      <th>cost_of_the_call</th>\n",
       "    </tr>\n",
       "  </thead>\n",
       "  <tbody>\n",
       "    <tr>\n",
       "      <th>0</th>\n",
       "      <td>0.743247</td>\n",
       "      <td>1</td>\n",
       "      <td>1</td>\n",
       "      <td>37771</td>\n",
       "      <td>712</td>\n",
       "      <td>11.866667</td>\n",
       "    </tr>\n",
       "    <tr>\n",
       "      <th>1</th>\n",
       "      <td>0.211843</td>\n",
       "      <td>0</td>\n",
       "      <td>0</td>\n",
       "      <td>2371</td>\n",
       "      <td>147</td>\n",
       "      <td>2.450000</td>\n",
       "    </tr>\n",
       "    <tr>\n",
       "      <th>2</th>\n",
       "      <td>0.172266</td>\n",
       "      <td>0</td>\n",
       "      <td>0</td>\n",
       "      <td>2097</td>\n",
       "      <td>832</td>\n",
       "      <td>13.866667</td>\n",
       "    </tr>\n",
       "    <tr>\n",
       "      <th>3</th>\n",
       "      <td>0.358745</td>\n",
       "      <td>0</td>\n",
       "      <td>0</td>\n",
       "      <td>24834</td>\n",
       "      <td>214</td>\n",
       "      <td>3.566667</td>\n",
       "    </tr>\n",
       "    <tr>\n",
       "      <th>4</th>\n",
       "      <td>0.211740</td>\n",
       "      <td>0</td>\n",
       "      <td>0</td>\n",
       "      <td>1720</td>\n",
       "      <td>646</td>\n",
       "      <td>10.766667</td>\n",
       "    </tr>\n",
       "  </tbody>\n",
       "</table>\n",
       "</div>"
      ],
      "text/plain": [
       "   predicted_probability  actual_response  predicted_response  prospect_id  duration  cost_of_the_call\n",
       "0               0.743247                1                   1        37771       712         11.866667\n",
       "1               0.211843                0                   0         2371       147          2.450000\n",
       "2               0.172266                0                   0         2097       832         13.866667\n",
       "3               0.358745                0                   0        24834       214          3.566667\n",
       "4               0.211740                0                   0         1720       646         10.766667"
      ]
     },
     "execution_count": 119,
     "metadata": {},
     "output_type": "execute_result"
    }
   ],
   "source": [
    "test_df_new.head()"
   ]
  },
  {
   "cell_type": "markdown",
   "metadata": {},
   "source": [
    "#### Above dataframe we can see  cost of call for each prospect "
   ]
  },
  {
   "cell_type": "markdown",
   "metadata": {},
   "source": [
    "#### Finding the number of top X% prospects you should target to meet the business objective"
   ]
  },
  {
   "cell_type": "code",
   "execution_count": 120,
   "metadata": {},
   "outputs": [],
   "source": [
    "decile_df = test_df_new\n",
    "decile_df = decile_df.drop(['prospect_id','duration','cost_of_the_call'],axis='columns')"
   ]
  },
  {
   "cell_type": "code",
   "execution_count": 121,
   "metadata": {},
   "outputs": [],
   "source": [
    "decile_df['decile'] = pd.qcut(decile_df['predicted_probability'], 10, labels=np.arange(10, 0, -1))"
   ]
  },
  {
   "cell_type": "code",
   "execution_count": 122,
   "metadata": {},
   "outputs": [],
   "source": [
    "lift_df = decile_df.groupby('decile')['predicted_probability'].count().reset_index()\n",
    "lift_df.rename({'predicted_probability':'total'}, axis=1, inplace=True)\n",
    "lift_df_pred = decile_df[decile_df['actual_response']==1].groupby('decile')['actual_response'].count().reset_index()\n",
    "lift_df_final = lift_df.merge(lift_df_pred,on = 'decile')\n",
    "lift_df_final = lift_df_final.sort_values(['decile'], ascending=False)\n",
    "lift_df_final['cumresp'] = lift_df_final['actual_response'].cumsum()\n",
    "lift_df_final['gain'] = 100*(lift_df_final['cumresp']/sum(lift_df_final['actual_response']))\n",
    "lift_df_final['cumlift'] = lift_df_final['gain']/(lift_df_final['decile'].astype('int')*(100/10))"
   ]
  },
  {
   "cell_type": "code",
   "execution_count": 123,
   "metadata": {},
   "outputs": [],
   "source": [
    "lift_df_final['base_line']= (lift_df_final.actual_response/lift_df_final.total.sum())*100"
   ]
  },
  {
   "cell_type": "code",
   "execution_count": 124,
   "metadata": {},
   "outputs": [
    {
     "data": {
      "text/html": [
       "<div>\n",
       "<style scoped>\n",
       "    .dataframe tbody tr th:only-of-type {\n",
       "        vertical-align: middle;\n",
       "    }\n",
       "\n",
       "    .dataframe tbody tr th {\n",
       "        vertical-align: top;\n",
       "    }\n",
       "\n",
       "    .dataframe thead th {\n",
       "        text-align: right;\n",
       "    }\n",
       "</style>\n",
       "<table border=\"1\" class=\"dataframe\">\n",
       "  <thead>\n",
       "    <tr style=\"text-align: right;\">\n",
       "      <th></th>\n",
       "      <th>decile</th>\n",
       "      <th>total</th>\n",
       "      <th>actual_response</th>\n",
       "      <th>cumresp</th>\n",
       "      <th>gain</th>\n",
       "      <th>cumlift</th>\n",
       "      <th>base_line</th>\n",
       "    </tr>\n",
       "  </thead>\n",
       "  <tbody>\n",
       "    <tr>\n",
       "      <th>9</th>\n",
       "      <td>1</td>\n",
       "      <td>1235</td>\n",
       "      <td>579</td>\n",
       "      <td>579</td>\n",
       "      <td>42.793792</td>\n",
       "      <td>4.279379</td>\n",
       "      <td>4.685603</td>\n",
       "    </tr>\n",
       "    <tr>\n",
       "      <th>8</th>\n",
       "      <td>2</td>\n",
       "      <td>1190</td>\n",
       "      <td>246</td>\n",
       "      <td>825</td>\n",
       "      <td>60.975610</td>\n",
       "      <td>3.048780</td>\n",
       "      <td>1.990774</td>\n",
       "    </tr>\n",
       "    <tr>\n",
       "      <th>7</th>\n",
       "      <td>3</td>\n",
       "      <td>1235</td>\n",
       "      <td>103</td>\n",
       "      <td>928</td>\n",
       "      <td>68.588322</td>\n",
       "      <td>2.286277</td>\n",
       "      <td>0.833536</td>\n",
       "    </tr>\n",
       "    <tr>\n",
       "      <th>6</th>\n",
       "      <td>4</td>\n",
       "      <td>1109</td>\n",
       "      <td>57</td>\n",
       "      <td>985</td>\n",
       "      <td>72.801183</td>\n",
       "      <td>1.820030</td>\n",
       "      <td>0.461277</td>\n",
       "    </tr>\n",
       "    <tr>\n",
       "      <th>5</th>\n",
       "      <td>5</td>\n",
       "      <td>1348</td>\n",
       "      <td>99</td>\n",
       "      <td>1084</td>\n",
       "      <td>80.118256</td>\n",
       "      <td>1.602365</td>\n",
       "      <td>0.801165</td>\n",
       "    </tr>\n",
       "    <tr>\n",
       "      <th>4</th>\n",
       "      <td>6</td>\n",
       "      <td>1264</td>\n",
       "      <td>64</td>\n",
       "      <td>1148</td>\n",
       "      <td>84.848485</td>\n",
       "      <td>1.414141</td>\n",
       "      <td>0.517925</td>\n",
       "    </tr>\n",
       "    <tr>\n",
       "      <th>3</th>\n",
       "      <td>7</td>\n",
       "      <td>1122</td>\n",
       "      <td>60</td>\n",
       "      <td>1208</td>\n",
       "      <td>89.283075</td>\n",
       "      <td>1.275472</td>\n",
       "      <td>0.485555</td>\n",
       "    </tr>\n",
       "    <tr>\n",
       "      <th>2</th>\n",
       "      <td>8</td>\n",
       "      <td>1291</td>\n",
       "      <td>62</td>\n",
       "      <td>1270</td>\n",
       "      <td>93.865484</td>\n",
       "      <td>1.173319</td>\n",
       "      <td>0.501740</td>\n",
       "    </tr>\n",
       "    <tr>\n",
       "      <th>1</th>\n",
       "      <td>9</td>\n",
       "      <td>1027</td>\n",
       "      <td>31</td>\n",
       "      <td>1301</td>\n",
       "      <td>96.156689</td>\n",
       "      <td>1.068408</td>\n",
       "      <td>0.250870</td>\n",
       "    </tr>\n",
       "    <tr>\n",
       "      <th>0</th>\n",
       "      <td>10</td>\n",
       "      <td>1536</td>\n",
       "      <td>52</td>\n",
       "      <td>1353</td>\n",
       "      <td>100.000000</td>\n",
       "      <td>1.000000</td>\n",
       "      <td>0.420814</td>\n",
       "    </tr>\n",
       "  </tbody>\n",
       "</table>\n",
       "</div>"
      ],
      "text/plain": [
       "  decile  total  actual_response  cumresp        gain   cumlift  base_line\n",
       "9      1   1235              579      579   42.793792  4.279379   4.685603\n",
       "8      2   1190              246      825   60.975610  3.048780   1.990774\n",
       "7      3   1235              103      928   68.588322  2.286277   0.833536\n",
       "6      4   1109               57      985   72.801183  1.820030   0.461277\n",
       "5      5   1348               99     1084   80.118256  1.602365   0.801165\n",
       "4      6   1264               64     1148   84.848485  1.414141   0.517925\n",
       "3      7   1122               60     1208   89.283075  1.275472   0.485555\n",
       "2      8   1291               62     1270   93.865484  1.173319   0.501740\n",
       "1      9   1027               31     1301   96.156689  1.068408   0.250870\n",
       "0     10   1536               52     1353  100.000000  1.000000   0.420814"
      ]
     },
     "execution_count": 124,
     "metadata": {},
     "output_type": "execute_result"
    }
   ],
   "source": [
    "lift_df_final"
   ]
  },
  {
   "cell_type": "markdown",
   "metadata": {},
   "source": [
    "#### Note that you can attain 80% of total conversions by targeting only 50% of the total client base. This can be used in cost optimization and depending on the cost per call, we can determine, how many people should be part of the  marketing campaign"
   ]
  },
  {
   "cell_type": "code",
   "execution_count": 125,
   "metadata": {},
   "outputs": [],
   "source": [
    "# Selecting to 50% and calculating the average call duration\n",
    "top_50 = test_df_new[test_df_new.predicted_response==1].sort_values(by='predicted_probability',ascending=False)"
   ]
  },
  {
   "cell_type": "code",
   "execution_count": 126,
   "metadata": {},
   "outputs": [
    {
     "name": "stdout",
     "output_type": "stream",
     "text": [
      "Total responders=3475\n"
     ]
    }
   ],
   "source": [
    "print('Total responders={}'.format(top_50.shape[0]))"
   ]
  },
  {
   "cell_type": "code",
   "execution_count": 127,
   "metadata": {},
   "outputs": [],
   "source": [
    "ind = round(len(top_50)*0.5)\n",
    "top_50 = top_50.iloc[:ind]"
   ]
  },
  {
   "cell_type": "code",
   "execution_count": 128,
   "metadata": {},
   "outputs": [
    {
     "name": "stdout",
     "output_type": "stream",
     "text": [
      "Top 80% of the responders=1738\n"
     ]
    }
   ],
   "source": [
    "print('Top 80% of the responders={}'.format(top_50.shape[0]))"
   ]
  },
  {
   "cell_type": "code",
   "execution_count": 129,
   "metadata": {},
   "outputs": [
    {
     "name": "stdout",
     "output_type": "stream",
     "text": [
      "Average Call duration for targetting 50% customer :286.626582278481 sec\n"
     ]
    }
   ],
   "source": [
    "print('Average Call duration for targetting 50% customer :{} sec'.format(top_50.duration.mean()))"
   ]
  },
  {
   "cell_type": "markdown",
   "metadata": {},
   "source": [
    "#### Average Call duration for targetting 50% customer :286.626582278481 sec"
   ]
  },
  {
   "cell_type": "markdown",
   "metadata": {},
   "source": [
    "### Lift Chart"
   ]
  },
  {
   "cell_type": "code",
   "execution_count": 130,
   "metadata": {},
   "outputs": [],
   "source": [
    "numbers = [0.1,0.2,0.3,0.4,0.5,0.6,0.7,0.8,0.9,1.0]\n",
    "df = []\n",
    "for am in numbers:\n",
    "    df.append(round(len(test_df_new)*am))"
   ]
  },
  {
   "cell_type": "code",
   "execution_count": 131,
   "metadata": {},
   "outputs": [],
   "source": [
    "df = pd.DataFrame(df)\n",
    "df.columns = ['number_of_customers']\n",
    "lift_df_final = pd.concat([lift_df_final,df],axis='columns')"
   ]
  },
  {
   "cell_type": "code",
   "execution_count": 132,
   "metadata": {
    "scrolled": true
   },
   "outputs": [
    {
     "data": {
      "text/html": [
       "<div>\n",
       "<style scoped>\n",
       "    .dataframe tbody tr th:only-of-type {\n",
       "        vertical-align: middle;\n",
       "    }\n",
       "\n",
       "    .dataframe tbody tr th {\n",
       "        vertical-align: top;\n",
       "    }\n",
       "\n",
       "    .dataframe thead th {\n",
       "        text-align: right;\n",
       "    }\n",
       "</style>\n",
       "<table border=\"1\" class=\"dataframe\">\n",
       "  <thead>\n",
       "    <tr style=\"text-align: right;\">\n",
       "      <th></th>\n",
       "      <th>decile</th>\n",
       "      <th>total</th>\n",
       "      <th>actual_response</th>\n",
       "      <th>cumresp</th>\n",
       "      <th>gain</th>\n",
       "      <th>cumlift</th>\n",
       "      <th>base_line</th>\n",
       "      <th>number_of_customers</th>\n",
       "    </tr>\n",
       "  </thead>\n",
       "  <tbody>\n",
       "    <tr>\n",
       "      <th>9</th>\n",
       "      <td>1</td>\n",
       "      <td>1235</td>\n",
       "      <td>579</td>\n",
       "      <td>579</td>\n",
       "      <td>42.793792</td>\n",
       "      <td>4.279379</td>\n",
       "      <td>4.685603</td>\n",
       "      <td>12357</td>\n",
       "    </tr>\n",
       "    <tr>\n",
       "      <th>8</th>\n",
       "      <td>2</td>\n",
       "      <td>1190</td>\n",
       "      <td>246</td>\n",
       "      <td>825</td>\n",
       "      <td>60.975610</td>\n",
       "      <td>3.048780</td>\n",
       "      <td>1.990774</td>\n",
       "      <td>11121</td>\n",
       "    </tr>\n",
       "    <tr>\n",
       "      <th>7</th>\n",
       "      <td>3</td>\n",
       "      <td>1235</td>\n",
       "      <td>103</td>\n",
       "      <td>928</td>\n",
       "      <td>68.588322</td>\n",
       "      <td>2.286277</td>\n",
       "      <td>0.833536</td>\n",
       "      <td>9886</td>\n",
       "    </tr>\n",
       "    <tr>\n",
       "      <th>6</th>\n",
       "      <td>4</td>\n",
       "      <td>1109</td>\n",
       "      <td>57</td>\n",
       "      <td>985</td>\n",
       "      <td>72.801183</td>\n",
       "      <td>1.820030</td>\n",
       "      <td>0.461277</td>\n",
       "      <td>8650</td>\n",
       "    </tr>\n",
       "    <tr>\n",
       "      <th>5</th>\n",
       "      <td>5</td>\n",
       "      <td>1348</td>\n",
       "      <td>99</td>\n",
       "      <td>1084</td>\n",
       "      <td>80.118256</td>\n",
       "      <td>1.602365</td>\n",
       "      <td>0.801165</td>\n",
       "      <td>7414</td>\n",
       "    </tr>\n",
       "    <tr>\n",
       "      <th>4</th>\n",
       "      <td>6</td>\n",
       "      <td>1264</td>\n",
       "      <td>64</td>\n",
       "      <td>1148</td>\n",
       "      <td>84.848485</td>\n",
       "      <td>1.414141</td>\n",
       "      <td>0.517925</td>\n",
       "      <td>6178</td>\n",
       "    </tr>\n",
       "    <tr>\n",
       "      <th>3</th>\n",
       "      <td>7</td>\n",
       "      <td>1122</td>\n",
       "      <td>60</td>\n",
       "      <td>1208</td>\n",
       "      <td>89.283075</td>\n",
       "      <td>1.275472</td>\n",
       "      <td>0.485555</td>\n",
       "      <td>4943</td>\n",
       "    </tr>\n",
       "    <tr>\n",
       "      <th>2</th>\n",
       "      <td>8</td>\n",
       "      <td>1291</td>\n",
       "      <td>62</td>\n",
       "      <td>1270</td>\n",
       "      <td>93.865484</td>\n",
       "      <td>1.173319</td>\n",
       "      <td>0.501740</td>\n",
       "      <td>3707</td>\n",
       "    </tr>\n",
       "    <tr>\n",
       "      <th>1</th>\n",
       "      <td>9</td>\n",
       "      <td>1027</td>\n",
       "      <td>31</td>\n",
       "      <td>1301</td>\n",
       "      <td>96.156689</td>\n",
       "      <td>1.068408</td>\n",
       "      <td>0.250870</td>\n",
       "      <td>2471</td>\n",
       "    </tr>\n",
       "    <tr>\n",
       "      <th>0</th>\n",
       "      <td>10</td>\n",
       "      <td>1536</td>\n",
       "      <td>52</td>\n",
       "      <td>1353</td>\n",
       "      <td>100.000000</td>\n",
       "      <td>1.000000</td>\n",
       "      <td>0.420814</td>\n",
       "      <td>1236</td>\n",
       "    </tr>\n",
       "  </tbody>\n",
       "</table>\n",
       "</div>"
      ],
      "text/plain": [
       "  decile  total  actual_response  cumresp        gain   cumlift  base_line  number_of_customers\n",
       "9      1   1235              579      579   42.793792  4.279379   4.685603                12357\n",
       "8      2   1190              246      825   60.975610  3.048780   1.990774                11121\n",
       "7      3   1235              103      928   68.588322  2.286277   0.833536                 9886\n",
       "6      4   1109               57      985   72.801183  1.820030   0.461277                 8650\n",
       "5      5   1348               99     1084   80.118256  1.602365   0.801165                 7414\n",
       "4      6   1264               64     1148   84.848485  1.414141   0.517925                 6178\n",
       "3      7   1122               60     1208   89.283075  1.275472   0.485555                 4943\n",
       "2      8   1291               62     1270   93.865484  1.173319   0.501740                 3707\n",
       "1      9   1027               31     1301   96.156689  1.068408   0.250870                 2471\n",
       "0     10   1536               52     1353  100.000000  1.000000   0.420814                 1236"
      ]
     },
     "execution_count": 132,
     "metadata": {},
     "output_type": "execute_result"
    }
   ],
   "source": [
    "lift_df_final.sort_values(by='decile',ascending=False)"
   ]
  },
  {
   "cell_type": "code",
   "execution_count": 133,
   "metadata": {},
   "outputs": [
    {
     "data": {
      "text/plain": [
       "Text(0,0.5,'Respnse Rate')"
      ]
     },
     "execution_count": 133,
     "metadata": {},
     "output_type": "execute_result"
    },
    {
     "data": {
      "image/png": "[encoded data removed]",
      "text/plain": [
       "<Figure size 432x288 with 1 Axes>"
      ]
     },
     "metadata": {},
     "output_type": "display_data"
    }
   ],
   "source": [
    "plt.plot(lift_df_final.number_of_customers,lift_df_final.cumlift)\n",
    "plt.plot(lift_df_final.number_of_customers,lift_df_final.base_line)\n",
    "# plt.plot(lift_df_final.number_of_customers,lift_df_final.decile.astype(int))\n",
    "plt.title('Lift Plot')\n",
    "plt.ylabel('Respnse Rate')"
   ]
  },
  {
   "cell_type": "markdown",
   "metadata": {},
   "source": [
    "#### Determine the cost of acquisition "
   ]
  },
  {
   "cell_type": "markdown",
   "metadata": {},
   "source": [
    "#### cost incurred for acquiring 80% of customers using the predictive model"
   ]
  },
  {
   "cell_type": "code",
   "execution_count": 134,
   "metadata": {},
   "outputs": [
    {
     "name": "stdout",
     "output_type": "stream",
     "text": [
      "Total cost for conducting the entire campaign is 53298.799999999996\n"
     ]
    }
   ],
   "source": [
    "total_cost = test_df_new.cost_of_the_call.sum()\n",
    "print('Total cost for conducting the entire campaign is {}'.format(total_cost))"
   ]
  },
  {
   "cell_type": "markdown",
   "metadata": {},
   "source": [
    "#### Total cost for conducting the entire campaign is 53298.799999999996"
   ]
  },
  {
   "cell_type": "code",
   "execution_count": 135,
   "metadata": {},
   "outputs": [
    {
     "name": "stdout",
     "output_type": "stream",
     "text": [
      "Cost for targeting 80% of the customer is 8302.616666666667\n"
     ]
    }
   ],
   "source": [
    "top_80_client_cost = top_50.cost_of_the_call.sum()\n",
    "print('Cost for targeting 80% of the customer is {}'.format(top_80_client_cost))"
   ]
  },
  {
   "cell_type": "markdown",
   "metadata": {},
   "source": [
    "#### Cost for targeting 80% of the customer is 8302.616666666667"
   ]
  },
  {
   "cell_type": "code",
   "execution_count": 136,
   "metadata": {},
   "outputs": [
    {
     "name": "stdout",
     "output_type": "stream",
     "text": [
      "So we can save by targeting 80% =44996.18333333333\n"
     ]
    }
   ],
   "source": [
    "expense_saved = total_cost - top_80_client_cost\n",
    "print('So we can save by targeting 80% ={}'.format(expense_saved))"
   ]
  },
  {
   "cell_type": "markdown",
   "metadata": {},
   "source": [
    "#### So we can save by targeting 80% =44996.18333333333"
   ]
  },
  {
   "cell_type": "code",
   "execution_count": 193,
   "metadata": {},
   "outputs": [
    {
     "data": {
      "image/png": "[encoded data removed]",
      "text/plain": [
       "<Figure size 1152x360 with 1 Axes>"
      ]
     },
     "metadata": {},
     "output_type": "display_data"
    }
   ],
   "source": [
    "expense = pd.DataFrame([['total_cost', total_cost], ['top_80_client_cost', top_80_client_cost], \n",
    "                        ['expense_saved', expense_saved]],columns=['att','measure'] )\n",
    "plt.figure(figsize=(16,5))\n",
    "sns.barplot(expense.att,expense.measure)\n",
    "plt.show()"
   ]
  },
  {
   "cell_type": "markdown",
   "metadata": {},
   "source": [
    "## Extra Lets create a model that will increase the accuracy"
   ]
  },
  {
   "cell_type": "code",
   "execution_count": 137,
   "metadata": {},
   "outputs": [],
   "source": [
    "from xgboost.sklearn import XGBClassifier"
   ]
  },
  {
   "cell_type": "code",
   "execution_count": 138,
   "metadata": {},
   "outputs": [],
   "source": [
    "params = {\n",
    "    'max_depth':[3,4,5,6],\n",
    "    'min_child_weight':[1,3,5],\n",
    "    'gamma':[0.1,0.2,0.3],\n",
    "    'learning_rate':[0.1,0.01,0.2],\n",
    "    'colsample_byree':[0.3,0.4,0.5,0.7]\n",
    "}"
   ]
  },
  {
   "cell_type": "code",
   "execution_count": 139,
   "metadata": {},
   "outputs": [],
   "source": [
    "from imblearn.over_sampling import SMOTE\n",
    "import warnings\n",
    "warnings.filterwarnings('ignore')"
   ]
  },
  {
   "cell_type": "code",
   "execution_count": 140,
   "metadata": {},
   "outputs": [],
   "source": [
    "smote = SMOTE()\n",
    "X_train_sm,y_train_sm = smote.fit_resample(X_train,y_train)"
   ]
  },
  {
   "cell_type": "code",
   "execution_count": 141,
   "metadata": {},
   "outputs": [
    {
     "name": "stdout",
     "output_type": "stream",
     "text": [
      "Fitting 5 folds for each of 5 candidates, totalling 25 fits\n"
     ]
    },
    {
     "name": "stderr",
     "output_type": "stream",
     "text": [
      "[Parallel(n_jobs=-1)]: Using backend LokyBackend with 4 concurrent workers.\n",
      "[Parallel(n_jobs=-1)]: Done  25 out of  25 | elapsed:  1.6min finished\n"
     ]
    },
    {
     "data": {
      "text/plain": [
       "RandomizedSearchCV(cv=StratifiedKFold(n_splits=5, random_state=42, shuffle=True),\n",
       "                   error_score='raise-deprecating',\n",
       "                   estimator=XGBClassifier(base_score=0.5, booster='gbtree',\n",
       "                                           colsample_bylevel=1,\n",
       "                                           colsample_bynode=1,\n",
       "                                           colsample_bytree=1, gamma=0,\n",
       "                                           learning_rate=0.1, max_delta_step=0,\n",
       "                                           max_depth=3, min_child_weight=1,\n",
       "                                           missing=None, n_estimators=100,\n",
       "                                           n_jobs=1, nthread=None...\n",
       "                                           reg_lambda=1, scale_pos_weight=1,\n",
       "                                           seed=None, silent=None, subsample=1,\n",
       "                                           verbosity=1),\n",
       "                   iid='warn', n_iter=5, n_jobs=-1,\n",
       "                   param_distributions={'colsample_byree': [0.3, 0.4, 0.5, 0.7],\n",
       "                                        'gamma': [0.1, 0.2, 0.3],\n",
       "                                        'learning_rate': [0.1, 0.01, 0.2],\n",
       "                                        'max_depth': [3, 4, 5, 6],\n",
       "                                        'min_child_weight': [1, 3, 5]},\n",
       "                   pre_dispatch='2*n_jobs', random_state=None, refit=True,\n",
       "                   return_train_score=True, scoring=None, verbose=3)"
      ]
     },
     "execution_count": 141,
     "metadata": {},
     "output_type": "execute_result"
    }
   ],
   "source": [
    "fold = StratifiedKFold(n_splits=5, shuffle=True, random_state=42)\n",
    "boost = XGBClassifier()\n",
    "randomSearch = RandomizedSearchCV(estimator=boost,param_distributions=params,n_iter=5,cv=fold,n_jobs=-1,verbose=3,\n",
    "                                 return_train_score=True)\n",
    "randomSearch.fit(X_train_sm,y_train_sm)"
   ]
  },
  {
   "cell_type": "code",
   "execution_count": 142,
   "metadata": {},
   "outputs": [
    {
     "data": {
      "text/plain": [
       "{'min_child_weight': 5,\n",
       " 'max_depth': 6,\n",
       " 'learning_rate': 0.2,\n",
       " 'gamma': 0.1,\n",
       " 'colsample_byree': 0.5}"
      ]
     },
     "execution_count": 142,
     "metadata": {},
     "output_type": "execute_result"
    }
   ],
   "source": [
    "randomSearch.best_params_"
   ]
  },
  {
   "cell_type": "code",
   "execution_count": 143,
   "metadata": {},
   "outputs": [],
   "source": [
    "X_test = X_test.values"
   ]
  },
  {
   "cell_type": "code",
   "execution_count": 144,
   "metadata": {},
   "outputs": [],
   "source": [
    "xgb_pred = randomSearch.best_estimator_.predict(X_test)"
   ]
  },
  {
   "cell_type": "code",
   "execution_count": 145,
   "metadata": {},
   "outputs": [
    {
     "data": {
      "text/plain": [
       "0.8436513716921583"
      ]
     },
     "execution_count": 145,
     "metadata": {},
     "output_type": "execute_result"
    }
   ],
   "source": [
    "accuracy_score(y_test,xgb_pred)"
   ]
  },
  {
   "cell_type": "code",
   "execution_count": 146,
   "metadata": {},
   "outputs": [
    {
     "name": "stdout",
     "output_type": "stream",
     "text": [
      "              precision    recall  f1-score   support\n",
      "\n",
      "           0       0.94      0.88      0.91     11004\n",
      "           1       0.37      0.58      0.45      1353\n",
      "\n",
      "    accuracy                           0.84     12357\n",
      "   macro avg       0.65      0.73      0.68     12357\n",
      "weighted avg       0.88      0.84      0.86     12357\n",
      "\n"
     ]
    }
   ],
   "source": [
    "print(classification_report(y_test,xgb_pred))"
   ]
  },
  {
   "cell_type": "code",
   "execution_count": 147,
   "metadata": {},
   "outputs": [
    {
     "data": {
      "text/plain": [
       "5.400178639270022"
      ]
     },
     "execution_count": 147,
     "metadata": {},
     "output_type": "execute_result"
    }
   ],
   "source": [
    "log_loss(y_test,xgb_pred)"
   ]
  },
  {
   "cell_type": "code",
   "execution_count": 148,
   "metadata": {},
   "outputs": [
    {
     "data": {
      "text/plain": [
       "0.7284427311656878"
      ]
     },
     "execution_count": 148,
     "metadata": {},
     "output_type": "execute_result"
    }
   ],
   "source": [
    "roc_auc_score(y_test,xgb_pred)"
   ]
  },
  {
   "cell_type": "code",
   "execution_count": 149,
   "metadata": {},
   "outputs": [
    {
     "data": {
      "text/plain": [
       "array([[9639, 1365],\n",
       "       [ 567,  786]], dtype=int64)"
      ]
     },
     "execution_count": 149,
     "metadata": {},
     "output_type": "execute_result"
    }
   ],
   "source": [
    "confusion_matrix(y_test,xgb_pred)"
   ]
  },
  {
   "cell_type": "markdown",
   "metadata": {},
   "source": [
    "#### Lets create GradientBoostingClassifier"
   ]
  },
  {
   "cell_type": "code",
   "execution_count": 150,
   "metadata": {},
   "outputs": [],
   "source": [
    "from sklearn.ensemble import GradientBoostingClassifier"
   ]
  },
  {
   "cell_type": "code",
   "execution_count": 151,
   "metadata": {},
   "outputs": [
    {
     "name": "stdout",
     "output_type": "stream",
     "text": [
      "Fitting 5 folds for each of 10 candidates, totalling 50 fits\n"
     ]
    },
    {
     "name": "stderr",
     "output_type": "stream",
     "text": [
      "[Parallel(n_jobs=4)]: Using backend LokyBackend with 4 concurrent workers.\n",
      "[Parallel(n_jobs=4)]: Done  24 tasks      | elapsed:  5.2min\n",
      "[Parallel(n_jobs=4)]: Done  50 out of  50 | elapsed: 10.3min finished\n"
     ]
    },
    {
     "data": {
      "text/plain": [
       "RandomizedSearchCV(cv=5, error_score='raise-deprecating',\n",
       "                   estimator=GradientBoostingClassifier(criterion='friedman_mse',\n",
       "                                                        init=None,\n",
       "                                                        learning_rate=0.1,\n",
       "                                                        loss='deviance',\n",
       "                                                        max_depth=4,\n",
       "                                                        max_features='sqrt',\n",
       "                                                        max_leaf_nodes=None,\n",
       "                                                        min_impurity_decrease=0.0,\n",
       "                                                        min_impurity_split=None,\n",
       "                                                        min_samples_leaf=1,\n",
       "                                                        min_samples_split=2,\n",
       "                                                        min_weight_fraction_leaf=0.0,\n",
       "                                                        n_estimators=100,\n",
       "                                                        n...\n",
       "                   iid=False, n_iter=10, n_jobs=4,\n",
       "                   param_distributions={'learning_rate': [0.15, 0.1, 0.05, 0.01,\n",
       "                                                          0.005, 0.001],\n",
       "                                        'max_depth': [4, 8, 10],\n",
       "                                        'max_features': [5, 10],\n",
       "                                        'min_samples_leaf': range(100, 400, 200),\n",
       "                                        'min_samples_split': range(200, 500, 200),\n",
       "                                        'n_estimators': [100, 200, 300]},\n",
       "                   pre_dispatch='2*n_jobs', random_state=None, refit=True,\n",
       "                   return_train_score=False, scoring='accuracy', verbose=3)"
      ]
     },
     "execution_count": 151,
     "metadata": {},
     "output_type": "execute_result"
    }
   ],
   "source": [
    "param = {'learning_rate':[0.15,0.1,0.05,0.01,0.005,0.001], \n",
    "           'n_estimators':[100,250,500,750,1000,1250,1500,1750],\n",
    "        'max_depth': [4,8,10],\n",
    "    'min_samples_leaf': range(100, 400, 200),\n",
    "    'min_samples_split': range(200, 500, 200),\n",
    "    'n_estimators': [100,200, 300], \n",
    "    'max_features': [5, 10]}\n",
    "\n",
    "grid = RandomizedSearchCV(estimator =GradientBoostingClassifier(max_depth=4, min_samples_split=2, min_samples_leaf=1, subsample=1,max_features='sqrt', random_state=10), \n",
    "            param_distributions = param, scoring='accuracy',n_jobs=4,iid=False, cv=5,verbose=3)\n",
    "grid.fit(X_train_sm,y_train_sm)"
   ]
  },
  {
   "cell_type": "code",
   "execution_count": 152,
   "metadata": {},
   "outputs": [
    {
     "data": {
      "text/plain": [
       "0.7662859145951078"
      ]
     },
     "execution_count": 152,
     "metadata": {},
     "output_type": "execute_result"
    }
   ],
   "source": [
    "grid.best_score_"
   ]
  },
  {
   "cell_type": "code",
   "execution_count": 153,
   "metadata": {},
   "outputs": [],
   "source": [
    "gradient_out = grid.best_estimator_.predict(X_test)"
   ]
  },
  {
   "cell_type": "code",
   "execution_count": 154,
   "metadata": {},
   "outputs": [
    {
     "name": "stdout",
     "output_type": "stream",
     "text": [
      "              precision    recall  f1-score   support\n",
      "\n",
      "           0       0.88      0.94      0.91     10294\n",
      "           1       0.56      0.37      0.45      2063\n",
      "\n",
      "    accuracy                           0.85     12357\n",
      "   macro avg       0.72      0.66      0.68     12357\n",
      "weighted avg       0.83      0.85      0.83     12357\n",
      "\n"
     ]
    }
   ],
   "source": [
    "print(classification_report(gradient_out,y_test))"
   ]
  },
  {
   "cell_type": "code",
   "execution_count": 155,
   "metadata": {},
   "outputs": [
    {
     "data": {
      "text/plain": [
       "0.6556855213862233"
      ]
     },
     "execution_count": 155,
     "metadata": {},
     "output_type": "execute_result"
    }
   ],
   "source": [
    "roc_auc_score(gradient_out,y_test)"
   ]
  },
  {
   "cell_type": "code",
   "execution_count": 156,
   "metadata": {},
   "outputs": [
    {
     "data": {
      "text/plain": [
       "0.8467265517520434"
      ]
     },
     "execution_count": 156,
     "metadata": {},
     "output_type": "execute_result"
    }
   ],
   "source": [
    "accuracy_score(gradient_out,y_test)"
   ]
  },
  {
   "cell_type": "code",
   "execution_count": 157,
   "metadata": {},
   "outputs": [
    {
     "data": {
      "text/plain": [
       "5.293915663481388"
      ]
     },
     "execution_count": 157,
     "metadata": {},
     "output_type": "execute_result"
    }
   ],
   "source": [
    "log_loss(gradient_out,y_test)"
   ]
  },
  {
   "cell_type": "code",
   "execution_count": 158,
   "metadata": {},
   "outputs": [
    {
     "data": {
      "text/plain": [
       "array([[9702,  592],\n",
       "       [1302,  761]], dtype=int64)"
      ]
     },
     "execution_count": 158,
     "metadata": {},
     "output_type": "execute_result"
    }
   ],
   "source": [
    "confusion_matrix(gradient_out,y_test)"
   ]
  },
  {
   "cell_type": "markdown",
   "metadata": {},
   "source": [
    "#### Lets create a very basic ANN"
   ]
  },
  {
   "cell_type": "code",
   "execution_count": 159,
   "metadata": {},
   "outputs": [],
   "source": [
    "from tensorflow.keras.models import Sequential\n",
    "from tensorflow.keras.layers import Dense,Dropout,Activation,LeakyReLU\n",
    "import tensorflow\n",
    "import keras"
   ]
  },
  {
   "cell_type": "code",
   "execution_count": 160,
   "metadata": {},
   "outputs": [
    {
     "name": "stdout",
     "output_type": "stream",
     "text": [
      "(51088, 14)\n",
      "(51088,)\n"
     ]
    }
   ],
   "source": [
    "print(X_train_sm.shape)\n",
    "print(y_train_sm.shape)"
   ]
  },
  {
   "cell_type": "code",
   "execution_count": 161,
   "metadata": {},
   "outputs": [],
   "source": [
    "y_train_sm = keras.utils.to_categorical(y_train_sm)"
   ]
  },
  {
   "cell_type": "code",
   "execution_count": 162,
   "metadata": {},
   "outputs": [
    {
     "name": "stdout",
     "output_type": "stream",
     "text": [
      "WARNING:tensorflow:From C:\\Users\\sumasark\\Anaconda3\\lib\\site-packages\\tensorflow\\python\\ops\\resource_variable_ops.py:435: colocate_with (from tensorflow.python.framework.ops) is deprecated and will be removed in a future version.\n",
      "Instructions for updating:\n",
      "Colocations handled automatically by placer.\n",
      "WARNING:tensorflow:From C:\\Users\\sumasark\\Anaconda3\\lib\\site-packages\\tensorflow\\python\\keras\\layers\\core.py:143: calling dropout (from tensorflow.python.ops.nn_ops) with keep_prob is deprecated and will be removed in a future version.\n",
      "Instructions for updating:\n",
      "Please use `rate` instead of `keep_prob`. Rate should be set to `rate = 1 - keep_prob`.\n"
     ]
    }
   ],
   "source": [
    "model = Sequential()\n",
    "model.add(Dense(32,activation='relu',kernel_initializer='normal',input_dim=X_train_sm.shape[1]))\n",
    "model.add(Dense(16,activation='relu',kernel_initializer='normal'))\n",
    "model.add(Dropout(0.25))\n",
    "model.add(Dense(8,activation='relu',kernel_initializer='normal'))\n",
    "model.add(Dropout(0.25))\n",
    "model.add(Dense(2,activation='sigmoid',kernel_initializer='normal'))"
   ]
  },
  {
   "cell_type": "code",
   "execution_count": 163,
   "metadata": {},
   "outputs": [
    {
     "name": "stdout",
     "output_type": "stream",
     "text": [
      "_________________________________________________________________\n",
      "Layer (type)                 Output Shape              Param #   \n",
      "=================================================================\n",
      "dense (Dense)                (None, 32)                480       \n",
      "_________________________________________________________________\n",
      "dense_1 (Dense)              (None, 16)                528       \n",
      "_________________________________________________________________\n",
      "dropout (Dropout)            (None, 16)                0         \n",
      "_________________________________________________________________\n",
      "dense_2 (Dense)              (None, 8)                 136       \n",
      "_________________________________________________________________\n",
      "dropout_1 (Dropout)          (None, 8)                 0         \n",
      "_________________________________________________________________\n",
      "dense_3 (Dense)              (None, 2)                 18        \n",
      "=================================================================\n",
      "Total params: 1,162\n",
      "Trainable params: 1,162\n",
      "Non-trainable params: 0\n",
      "_________________________________________________________________\n"
     ]
    }
   ],
   "source": [
    "model.compile(optimizer='sgd',metrics=['accuracy'],loss='categorical_crossentropy')\n",
    "model.summary()"
   ]
  },
  {
   "cell_type": "code",
   "execution_count": 164,
   "metadata": {},
   "outputs": [
    {
     "name": "stdout",
     "output_type": "stream",
     "text": [
      "Train on 40870 samples, validate on 10218 samples\n",
      "WARNING:tensorflow:From C:\\Users\\sumasark\\Anaconda3\\lib\\site-packages\\tensorflow\\python\\ops\\math_ops.py:3066: to_int32 (from tensorflow.python.ops.math_ops) is deprecated and will be removed in a future version.\n",
      "Instructions for updating:\n",
      "Use tf.cast instead.\n",
      "Epoch 1/50\n",
      "40870/40870 [==============================] - 5s 120us/sample - loss: 0.6710 - acc: 0.6250 - val_loss: 0.9179 - val_acc: 0.0000e+00\n",
      "Epoch 2/50\n",
      "40870/40870 [==============================] - 4s 105us/sample - loss: 0.6620 - acc: 0.6250 - val_loss: 0.9663 - val_acc: 0.0000e+00\n",
      "Epoch 3/50\n",
      "40870/40870 [==============================] - 4s 100us/sample - loss: 0.6615 - acc: 0.6250 - val_loss: 0.9819 - val_acc: 0.0000e+00\n",
      "Epoch 4/50\n",
      "40870/40870 [==============================] - 4s 102us/sample - loss: 0.6615 - acc: 0.6250 - val_loss: 0.9797 - val_acc: 0.0000e+00\n",
      "Epoch 5/50\n",
      "40870/40870 [==============================] - 4s 100us/sample - loss: 0.6615 - acc: 0.6250 - val_loss: 0.9784 - val_acc: 0.0000e+00\n",
      "Epoch 6/50\n",
      "40870/40870 [==============================] - 4s 98us/sample - loss: 0.6614 - acc: 0.6250 - val_loss: 0.9783 - val_acc: 0.0000e+00\n",
      "Epoch 7/50\n",
      "40870/40870 [==============================] - 4s 100us/sample - loss: 0.6613 - acc: 0.6250 - val_loss: 0.9786 - val_acc: 0.0000e+00\n",
      "Epoch 8/50\n",
      "40870/40870 [==============================] - 4s 98us/sample - loss: 0.6612 - acc: 0.6250 - val_loss: 0.9790 - val_acc: 0.0000e+00\n",
      "Epoch 9/50\n",
      "40870/40870 [==============================] - 4s 100us/sample - loss: 0.6609 - acc: 0.6250 - val_loss: 0.9808 - val_acc: 0.0000e+00\n",
      "Epoch 10/50\n",
      "40870/40870 [==============================] - 4s 100us/sample - loss: 0.6602 - acc: 0.6250 - val_loss: 0.9811 - val_acc: 0.0000e+00\n",
      "Epoch 11/50\n",
      "40870/40870 [==============================] - 4s 98us/sample - loss: 0.6585 - acc: 0.6250 - val_loss: 0.9805 - val_acc: 0.0000e+00\n",
      "Epoch 12/50\n",
      "40870/40870 [==============================] - 4s 101us/sample - loss: 0.6522 - acc: 0.6250 - val_loss: 0.9786 - val_acc: 0.0000e+00\n",
      "Epoch 13/50\n",
      "40870/40870 [==============================] - 4s 107us/sample - loss: 0.6271 - acc: 0.6250 - val_loss: 0.9792 - val_acc: 0.0000e+00\n",
      "Epoch 14/50\n",
      "40870/40870 [==============================] - 4s 103us/sample - loss: 0.5962 - acc: 0.6274 - val_loss: 0.9323 - val_acc: 0.3762\n",
      "Epoch 15/50\n",
      "40870/40870 [==============================] - 4s 102us/sample - loss: 0.5814 - acc: 0.7449 - val_loss: 0.9000 - val_acc: 0.5693\n",
      "Epoch 16/50\n",
      "40870/40870 [==============================] - 4s 99us/sample - loss: 0.5706 - acc: 0.7600 - val_loss: 0.8710 - val_acc: 0.5995\n",
      "Epoch 17/50\n",
      "40870/40870 [==============================] - 4s 104us/sample - loss: 0.5606 - acc: 0.7628 - val_loss: 0.8768 - val_acc: 0.6040\n",
      "Epoch 18/50\n",
      "40870/40870 [==============================] - 4s 101us/sample - loss: 0.5548 - acc: 0.7636 - val_loss: 0.8284 - val_acc: 0.6137\n",
      "Epoch 19/50\n",
      "40870/40870 [==============================] - 4s 100us/sample - loss: 0.5504 - acc: 0.7653 - val_loss: 0.8090 - val_acc: 0.6140\n",
      "Epoch 20/50\n",
      "40870/40870 [==============================] - 4s 99us/sample - loss: 0.5439 - acc: 0.7657 - val_loss: 0.8026 - val_acc: 0.6173\n",
      "Epoch 21/50\n",
      "40870/40870 [==============================] - 4s 98us/sample - loss: 0.5394 - acc: 0.7680 - val_loss: 0.7773 - val_acc: 0.6179\n",
      "Epoch 22/50\n",
      "40870/40870 [==============================] - 4s 98us/sample - loss: 0.5364 - acc: 0.7683 - val_loss: 0.8007 - val_acc: 0.5903\n",
      "Epoch 23/50\n",
      "40870/40870 [==============================] - 4s 102us/sample - loss: 0.5343 - acc: 0.7701 - val_loss: 0.7645 - val_acc: 0.6095\n",
      "Epoch 24/50\n",
      "40870/40870 [==============================] - 4s 100us/sample - loss: 0.5321 - acc: 0.7692 - val_loss: 0.7582 - val_acc: 0.6025\n",
      "Epoch 25/50\n",
      "40870/40870 [==============================] - 4s 102us/sample - loss: 0.5285 - acc: 0.7706 - val_loss: 0.8121 - val_acc: 0.5814\n",
      "Epoch 26/50\n",
      "40870/40870 [==============================] - 4s 99us/sample - loss: 0.5262 - acc: 0.7726 - val_loss: 0.8048 - val_acc: 0.5797\n",
      "Epoch 27/50\n",
      "40870/40870 [==============================] - 4s 101us/sample - loss: 0.5255 - acc: 0.7710 - val_loss: 0.7631 - val_acc: 0.5886\n",
      "Epoch 28/50\n",
      "40870/40870 [==============================] - 4s 100us/sample - loss: 0.5239 - acc: 0.7725 - val_loss: 0.7439 - val_acc: 0.5904\n",
      "Epoch 29/50\n",
      "40870/40870 [==============================] - 4s 100us/sample - loss: 0.5227 - acc: 0.7727 - val_loss: 0.7834 - val_acc: 0.5830\n",
      "Epoch 30/50\n",
      "40870/40870 [==============================] - 4s 102us/sample - loss: 0.5219 - acc: 0.7724 - val_loss: 0.7962 - val_acc: 0.5737\n",
      "Epoch 31/50\n",
      "40870/40870 [==============================] - 4s 99us/sample - loss: 0.5219 - acc: 0.7737 - val_loss: 0.7357 - val_acc: 0.5895\n",
      "Epoch 32/50\n",
      "40870/40870 [==============================] - 4s 104us/sample - loss: 0.5205 - acc: 0.7724 - val_loss: 0.7837 - val_acc: 0.5767\n",
      "Epoch 33/50\n",
      "40870/40870 [==============================] - 4s 101us/sample - loss: 0.5197 - acc: 0.7747 - val_loss: 0.7342 - val_acc: 0.5879\n",
      "Epoch 34/50\n",
      "40870/40870 [==============================] - 4s 99us/sample - loss: 0.5198 - acc: 0.7742 - val_loss: 0.7922 - val_acc: 0.5742\n",
      "Epoch 35/50\n",
      "40870/40870 [==============================] - 4s 100us/sample - loss: 0.5186 - acc: 0.7738 - val_loss: 0.7656 - val_acc: 0.5808\n",
      "Epoch 36/50\n",
      "40870/40870 [==============================] - 4s 100us/sample - loss: 0.5195 - acc: 0.7749 - val_loss: 0.7474 - val_acc: 0.5853\n",
      "Epoch 37/50\n",
      "40870/40870 [==============================] - 4s 99us/sample - loss: 0.5191 - acc: 0.7745 - val_loss: 0.7367 - val_acc: 0.5830\n",
      "Epoch 38/50\n",
      "40870/40870 [==============================] - 4s 100us/sample - loss: 0.5177 - acc: 0.7751 - val_loss: 0.7306 - val_acc: 0.5808\n",
      "Epoch 39/50\n",
      "40870/40870 [==============================] - 4s 98us/sample - loss: 0.5176 - acc: 0.7755 - val_loss: 0.7769 - val_acc: 0.5760\n",
      "Epoch 40/50\n",
      "40870/40870 [==============================] - 4s 100us/sample - loss: 0.5175 - acc: 0.7752 - val_loss: 0.7860 - val_acc: 0.5785\n",
      "Epoch 41/50\n",
      "40870/40870 [==============================] - 4s 100us/sample - loss: 0.5174 - acc: 0.7748 - val_loss: 0.7664 - val_acc: 0.5830\n",
      "Epoch 42/50\n",
      "40870/40870 [==============================] - 4s 99us/sample - loss: 0.5168 - acc: 0.7748 - val_loss: 0.7854 - val_acc: 0.5764\n",
      "Epoch 43/50\n",
      "40870/40870 [==============================] - 4s 105us/sample - loss: 0.5167 - acc: 0.7753 - val_loss: 0.7303 - val_acc: 0.5841\n",
      "Epoch 44/50\n",
      "40870/40870 [==============================] - 4s 99us/sample - loss: 0.5164 - acc: 0.7749 - val_loss: 0.7814 - val_acc: 0.5765\n",
      "Epoch 45/50\n",
      "40870/40870 [==============================] - 4s 98us/sample - loss: 0.5170 - acc: 0.7746 - val_loss: 0.7267 - val_acc: 0.5833\n",
      "Epoch 46/50\n",
      "40870/40870 [==============================] - 4s 103us/sample - loss: 0.5162 - acc: 0.7748 - val_loss: 0.7747 - val_acc: 0.5834\n",
      "Epoch 47/50\n",
      "40870/40870 [==============================] - 4s 101us/sample - loss: 0.5161 - acc: 0.7762 - val_loss: 0.7571 - val_acc: 0.5859\n",
      "Epoch 48/50\n",
      "40870/40870 [==============================] - 4s 98us/sample - loss: 0.5161 - acc: 0.7757 - val_loss: 0.7790 - val_acc: 0.5785\n",
      "Epoch 49/50\n",
      "40870/40870 [==============================] - 4s 100us/sample - loss: 0.5142 - acc: 0.7760 - val_loss: 0.7362 - val_acc: 0.5862\n",
      "Epoch 50/50\n",
      "40870/40870 [==============================] - 4s 101us/sample - loss: 0.5151 - acc: 0.7756 - val_loss: 0.7819 - val_acc: 0.5815\n"
     ]
    },
    {
     "data": {
      "text/plain": [
       "<tensorflow.python.keras.callbacks.History at 0x1426bf91908>"
      ]
     },
     "execution_count": 164,
     "metadata": {},
     "output_type": "execute_result"
    }
   ],
   "source": [
    "model.fit(X_train_sm,y_train_sm,batch_size=32,epochs=50,shuffle=True,verbose=1,validation_split=0.2)"
   ]
  },
  {
   "cell_type": "code",
   "execution_count": 165,
   "metadata": {},
   "outputs": [],
   "source": [
    "ann_pred = model.predict(X_test)"
   ]
  },
  {
   "cell_type": "code",
   "execution_count": 166,
   "metadata": {},
   "outputs": [],
   "source": [
    "ann_pred = [np.argmax(y) for y in ann_pred]"
   ]
  },
  {
   "cell_type": "code",
   "execution_count": 167,
   "metadata": {},
   "outputs": [
    {
     "data": {
      "text/plain": [
       "4.734931163018845"
      ]
     },
     "execution_count": 167,
     "metadata": {},
     "output_type": "execute_result"
    }
   ],
   "source": [
    "log_loss(y_test,ann_pred)"
   ]
  },
  {
   "cell_type": "code",
   "execution_count": 168,
   "metadata": {},
   "outputs": [
    {
     "name": "stdout",
     "output_type": "stream",
     "text": [
      "              precision    recall  f1-score   support\n",
      "\n",
      "           0       0.94      0.90      0.92     11004\n",
      "           1       0.41      0.54      0.46      1353\n",
      "\n",
      "    accuracy                           0.86     12357\n",
      "   macro avg       0.67      0.72      0.69     12357\n",
      "weighted avg       0.88      0.86      0.87     12357\n",
      "\n"
     ]
    }
   ],
   "source": [
    "print(classification_report(y_test,ann_pred))"
   ]
  },
  {
   "cell_type": "code",
   "execution_count": 169,
   "metadata": {},
   "outputs": [
    {
     "data": {
      "text/plain": [
       "0.7214308685170722"
      ]
     },
     "execution_count": 169,
     "metadata": {},
     "output_type": "execute_result"
    }
   ],
   "source": [
    "roc_auc_score(y_test,ann_pred)"
   ]
  },
  {
   "cell_type": "code",
   "execution_count": 170,
   "metadata": {},
   "outputs": [
    {
     "data": {
      "text/plain": [
       "0.4632446134347275"
      ]
     },
     "execution_count": 170,
     "metadata": {},
     "output_type": "execute_result"
    }
   ],
   "source": [
    "f1_score(y_test,ann_pred)"
   ]
  },
  {
   "cell_type": "code",
   "execution_count": 171,
   "metadata": {},
   "outputs": [
    {
     "data": {
      "text/plain": [
       "array([[9932, 1072],\n",
       "       [ 622,  731]], dtype=int64)"
      ]
     },
     "execution_count": 171,
     "metadata": {},
     "output_type": "execute_result"
    }
   ],
   "source": [
    "confusion_matrix(y_test,ann_pred)"
   ]
  },
  {
   "cell_type": "code",
   "execution_count": null,
   "metadata": {},
   "outputs": [],
   "source": []
  },
  {
   "cell_type": "code",
   "execution_count": null,
   "metadata": {},
   "outputs": [],
   "source": []
  }
 ],
 "metadata": {
  "kernelspec": {
   "display_name": "Python 3",
   "language": "python",
   "name": "python3"
  },
  "language_info": {
   "codemirror_mode": {
    "name": "ipython",
    "version": 3
   },
   "file_extension": ".py",
   "mimetype": "text/x-python",
   "name": "python",
   "nbconvert_exporter": "python",
   "pygments_lexer": "ipython3",
   "version": "3.6.5"
  }
 },
 "nbformat": 4,
 "nbformat_minor": 2
}
